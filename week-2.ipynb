{
 "cells": [
  {
   "cell_type": "markdown",
   "metadata": {},
   "source": [
    "#### Hoeffding Inequality - see bottom"
   ]
  },
  {
   "cell_type": "markdown",
   "metadata": {},
   "source": [
    "## Linear Regression"
   ]
  },
  {
   "cell_type": "code",
   "execution_count": 1,
   "metadata": {
    "collapsed": false
   },
   "outputs": [],
   "source": [
    "%reset -sf"
   ]
  },
  {
   "cell_type": "code",
   "execution_count": 2,
   "metadata": {
    "collapsed": true
   },
   "outputs": [],
   "source": [
    "%matplotlib inline\n",
    "import datetime\n",
    "import numpy as np\n",
    "import matplotlib.pyplot as plt\n",
    "from numba.decorators import jit\n",
    "from statsmodels.distributions.empirical_distribution import ECDF"
   ]
  },
  {
   "cell_type": "code",
   "execution_count": 3,
   "metadata": {
    "collapsed": true
   },
   "outputs": [],
   "source": [
    "vmin = -1.\n",
    "vmax = 1.\n",
    "\n",
    "@jit\n",
    "def rand_points(num=1):\n",
    "    return np.append(np.ones((num,1)),\n",
    "                     np.random.random((num,2))*(vmax-vmin)+vmin,\n",
    "                     axis=1)\n",
    "\n",
    "@jit\n",
    "def rand_line():\n",
    "    return rand_points(2)\n",
    "\n",
    "@jit\n",
    "def line2coef(xyline):\n",
    "    x1, y1 = xyline[0,1], xyline[0,2]\n",
    "    x2, y2 = xyline[1,1], xyline[1,2]\n",
    "    # y = ax + b\n",
    "    a = (y2-y1) / (x2-x1)\n",
    "    b = y1 - a*x1\n",
    "    return a,b\n",
    "\n",
    "@jit\n",
    "def points_higher(points, xyline):\n",
    "    a, b = line2coef(xyline)\n",
    "    return np.sign(points[:,2] - (a*points[:,1]+b))\n",
    "\n",
    "def plot_line(xyline, style='k', dots=False):\n",
    "    def bound_point(x):\n",
    "        a, b = line2coef(xyline)\n",
    "        y = a*x+b\n",
    "        y = min(y, vmax)\n",
    "        y = max(y, vmin)\n",
    "        x = (y-b) / a\n",
    "        return x,y\n",
    "    x1, y1 = bound_point(vmin)\n",
    "    x2, y2 = bound_point(vmax)\n",
    "    line_style = style[0] + '-'\n",
    "    plt.plot([x1,x2], [y1,y2], line_style)\n",
    "    if dots:\n",
    "        dot_style = style\n",
    "        if len(dot_style) == 1:\n",
    "            dot_style += 'o'\n",
    "        plot_points(xyline, dot_style)\n",
    "\n",
    "def plot_points(points, styles='k'):\n",
    "    if isinstance(styles, str):\n",
    "        styles = np.full((points.shape[0],), styles, dtype='<U2')\n",
    "    for p, s in zip(points, styles):\n",
    "        if len(s) == 1:\n",
    "             s += 'o'\n",
    "        plt.plot([p[1]], [p[2]], s)\n",
    "\n",
    "def points_style(farr, garr=None):\n",
    "    if garr is None:\n",
    "        garr = farr\n",
    "    color = np.where(garr == farr, 'b', 'r')\n",
    "    form = np.where(garr > 0, 'x', '+')\n",
    "    return np.char.add(color, form)"
   ]
  },
  {
   "cell_type": "code",
   "execution_count": 4,
   "metadata": {
    "collapsed": true
   },
   "outputs": [],
   "source": [
    "@jit\n",
    "def linreg(X, y):\n",
    "    m = 2\n",
    "    if m == 1:\n",
    "        Pinv = np.linalg.pinv(X)\n",
    "    else:\n",
    "        Pinv = np.linalg.inv(X.T @ X) @ X.T\n",
    "    return Pinv @ y\n",
    "\n",
    "@jit\n",
    "def err_freq(f, g):\n",
    "    return np.count_nonzero(f != g) / f.size\n",
    "\n",
    "@jit\n",
    "def points_sign(p, w):\n",
    "    return np.sign(np.inner(p, w))"
   ]
  },
  {
   "cell_type": "code",
   "execution_count": 5,
   "metadata": {
    "collapsed": false
   },
   "outputs": [
    {
     "data": {
      "image/png": "[encoded data removed]",
      "text/plain": [
       "<matplotlib.figure.Figure at 0x2cde766278>"
      ]
     },
     "metadata": {},
     "output_type": "display_data"
    }
   ],
   "source": [
    "rline = rand_line()\n",
    "points1 = rand_points(100)\n",
    "target1 = points_higher(points1, rline)\n",
    "plot_line(rline, dots=1)\n",
    "plot_points(points1, points_style(target1))"
   ]
  },
  {
   "cell_type": "markdown",
   "metadata": {},
   "source": [
    "### Calculate Ein and Eout"
   ]
  },
  {
   "cell_type": "code",
   "execution_count": 6,
   "metadata": {
    "collapsed": false
   },
   "outputs": [
    {
     "name": "stdout",
     "output_type": "stream",
     "text": [
      "avg Ein: 0.039172\n"
     ]
    }
   ],
   "source": [
    "N = 10000\n",
    "M = 100\n",
    "\n",
    "L = [None] * N\n",
    "x = np.empty([N, M, 3])\n",
    "f = np.empty([N, M])\n",
    "w = np.empty([N, 3])\n",
    "g = np.empty([N, M])\n",
    "ein = np.empty([N])\n",
    "\n",
    "for i in range(N):\n",
    "    L[i] = rand_line()\n",
    "    x[i] = rand_points(M)\n",
    "    f[i] = points_higher(x[i], L[i])\n",
    "    w[i] = linreg(x[i], f[i])\n",
    "    g[i] = points_sign(x[i], w[i])\n",
    "    ein[i] = err_freq(f[i], g[i])\n",
    "\n",
    "print(\"avg Ein: %f\" % ein.mean())"
   ]
  },
  {
   "cell_type": "code",
   "execution_count": 7,
   "metadata": {
    "collapsed": false
   },
   "outputs": [
    {
     "name": "stdout",
     "output_type": "stream",
     "text": [
      "avg Eout: 0.047658\n"
     ]
    }
   ],
   "source": [
    "M_out = 1000\n",
    "x_out = rand_points(M_out)\n",
    "e_out = np.empty([N])\n",
    "\n",
    "for i in range(N):\n",
    "    f_out = points_higher(x_out, L[i])\n",
    "    g_out = points_sign(x_out, w[i])\n",
    "    e_out[i] = err_freq(f_out, g_out)\n",
    "\n",
    "print(\"avg Eout: %f\" % e_out.mean())"
   ]
  },
  {
   "cell_type": "markdown",
   "metadata": {},
   "source": [
    "### New-Way PLA"
   ]
  },
  {
   "cell_type": "code",
   "execution_count": 8,
   "metadata": {
    "collapsed": true
   },
   "outputs": [],
   "source": [
    "@jit\n",
    "def pla(x, f, w):\n",
    "    n = 0\n",
    "    while 1:\n",
    "        h = points_sign(x, w)\n",
    "        e = f - h\n",
    "        fail = np.where(e != 0)[0]\n",
    "        if fail.size == 0:\n",
    "            break\n",
    "        i = np.random.choice(fail)\n",
    "        w += e[i] * x[i]\n",
    "        n += 1\n",
    "    return w, n"
   ]
  },
  {
   "cell_type": "code",
   "execution_count": 9,
   "metadata": {
    "collapsed": false
   },
   "outputs": [
    {
     "name": "stdout",
     "output_type": "stream",
     "text": [
      "mean n iters: 4.7\n"
     ]
    }
   ],
   "source": [
    "n_all = []\n",
    "for i in range(10000):\n",
    "    L = rand_line()\n",
    "    x = rand_points(10)\n",
    "    f = points_higher(x, L)\n",
    "    w1 = linreg(x, f)\n",
    "    w2, n2 = pla(x, f, w1)\n",
    "    n_all.append(n2)\n",
    "\n",
    "print(\"mean n iters: %.1f\" % np.mean(n_all))"
   ]
  },
  {
   "cell_type": "markdown",
   "metadata": {},
   "source": [
    "## Nonlinear Transformation"
   ]
  },
  {
   "cell_type": "code",
   "execution_count": 10,
   "metadata": {
    "collapsed": true
   },
   "outputs": [],
   "source": [
    "%reset -sf"
   ]
  },
  {
   "cell_type": "code",
   "execution_count": 11,
   "metadata": {
    "collapsed": true
   },
   "outputs": [],
   "source": [
    "%matplotlib inline\n",
    "import datetime\n",
    "import numpy as np\n",
    "import matplotlib.pyplot as plt\n",
    "from numba.decorators import jit\n",
    "from statsmodels.distributions.empirical_distribution import ECDF"
   ]
  },
  {
   "cell_type": "code",
   "execution_count": 12,
   "metadata": {
    "collapsed": false
   },
   "outputs": [],
   "source": [
    "@jit\n",
    "def linreg(X, y):\n",
    "    m = 2\n",
    "    if m == 1:\n",
    "        Pinv = np.linalg.pinv(X)\n",
    "    else:\n",
    "        Pinv = np.linalg.inv(X.T @ X) @ X.T\n",
    "    return Pinv @ y\n",
    "\n",
    "@jit\n",
    "def points_sign(p, w):\n",
    "    return np.sign(np.inner(p, w))\n",
    "\n",
    "@jit\n",
    "def err_freq(f, g):\n",
    "    return np.count_nonzero(f != g) / f.size"
   ]
  },
  {
   "cell_type": "markdown",
   "metadata": {},
   "source": [
    "### Task 8: Without Transformation"
   ]
  },
  {
   "cell_type": "code",
   "execution_count": 13,
   "metadata": {
    "collapsed": false
   },
   "outputs": [
    {
     "name": "stdout",
     "output_type": "stream",
     "text": [
      "avg Ein: 0.506792\n"
     ]
    }
   ],
   "source": [
    "N = 1000\n",
    "M = 1000\n",
    "\n",
    "# training set\n",
    "x = np.random.random([N, M, 3]) * 2 - 1\n",
    "x[...,0] = 1\n",
    "\n",
    "# target function\n",
    "f = np.sign(x[...,1]**2 + x[...,2]**2 - 0.6)\n",
    "\n",
    "# target function with 10% random noise\n",
    "y = f.copy()\n",
    "for i in range(N):\n",
    "    y[i, np.random.randint(M, size=int(M * 0.10))] *= -1\n",
    "\n",
    "# carry out linear regression\n",
    "ein = np.empty([N])\n",
    "for i in range(N):\n",
    "    wi = linreg(x[i], y[i])\n",
    "    gi = points_sign(x[i], wi)\n",
    "    ein[i] = err_freq(y[i], gi)\n",
    "\n",
    "print('avg Ein: %s' % ein.mean())"
   ]
  },
  {
   "cell_type": "markdown",
   "metadata": {},
   "source": [
    "### Task 9: Use Transformation"
   ]
  },
  {
   "cell_type": "code",
   "execution_count": 14,
   "metadata": {
    "collapsed": false
   },
   "outputs": [
    {
     "name": "stdout",
     "output_type": "stream",
     "text": [
      "avg transformed Ein: 0.118833\n"
     ]
    }
   ],
   "source": [
    "# Transform input\n",
    "ones, x1, x2 = x[...,[0]], x[...,[1]], x[...,[2]]\n",
    "z = np.concatenate([ones, x1, x2, x1*x2, x1**2, x2**2], axis=2)\n",
    "\n",
    "# Lin.reg. for transformation\n",
    "wz = np.empty([N, 6])\n",
    "for i in range(N):\n",
    "    wz[i] = linreg(z[i], y[i])\n",
    "\n",
    "eout_z = [err_freq(y[i], points_sign(z[i], wz[i])) for i in range(N)]\n",
    "print('avg transformed Ein: %s' % np.mean(eout_z))"
   ]
  },
  {
   "cell_type": "code",
   "execution_count": 15,
   "metadata": {
    "collapsed": false
   },
   "outputs": [
    {
     "name": "stdout",
     "output_type": "stream",
     "text": [
      "my candidate: [-1.02141928  0.02188335 -0.00879353  0.09499471  1.66741879  1.54154997]\n"
     ]
    }
   ],
   "source": [
    "# The final function\n",
    "z_ok = z[0]\n",
    "w_ok = wz[0]\n",
    "h_ok = points_sign(z_ok, w_ok)\n",
    "\n",
    "print('my candidate: %s' % w_ok)"
   ]
  },
  {
   "cell_type": "code",
   "execution_count": 16,
   "metadata": {
    "collapsed": false
   },
   "outputs": [
    {
     "name": "stdout",
     "output_type": "stream",
     "text": [
      "candidate 0 error 0.038\n",
      "candidate 1 error 0.348\n",
      "candidate 2 error 0.347\n",
      "candidate 3 error 0.351\n",
      "candidate 4 error 0.424\n",
      "best candidate: [-1.   -0.05  0.08  0.13  1.5   1.5 ]\n"
     ]
    }
   ],
   "source": [
    "# Candidates from the problem\n",
    "z_cand = np.array([\n",
    "    [-1., -0.05, 0.08, 0.13, 1.5, 1.5],\n",
    "    [-1., -0.05, 0.08, 0.13, 1.5, 15.],\n",
    "    [-1., -0.05, 0.08, 0.13, 15., 1.5],\n",
    "    [-1., -1.5,  0.08, 0.13, .05, .05],\n",
    "    [-1., -0.05, 0.08, 1.5,  .15, .15],\n",
    "])\n",
    "\n",
    "# Determine the best candidate\n",
    "e_all = []\n",
    "for i in range(z_cand.shape[0]):\n",
    "    cand_i = points_sign(z_ok, z_cand[i])\n",
    "    e = err_freq(cand_i, h_ok)\n",
    "    e_all.append(e)\n",
    "    print(\"candidate {} error {}\".format(i, e))\n",
    "\n",
    "print(\"best candidate: {}\".format(z_cand[np.argmin(e_all)]))"
   ]
  },
  {
   "cell_type": "markdown",
   "metadata": {},
   "source": [
    "### Task 10: Verify $E_{out}$"
   ]
  },
  {
   "cell_type": "code",
   "execution_count": 17,
   "metadata": {
    "collapsed": false
   },
   "outputs": [
    {
     "name": "stdout",
     "output_type": "stream",
     "text": [
      "avg Eout: 0.121606\n"
     ]
    }
   ],
   "source": [
    "# training set in the range [-1,=1]\n",
    "xo = np.random.random([N, M, 3]) * 2 - 1\n",
    "xo[...,0] = 1\n",
    "\n",
    "# target function\n",
    "fo = np.sign(xo[...,1]**2 + xo[...,2]**2 - 0.6)\n",
    "\n",
    "# target function with 10% random noise\n",
    "yo = fo.copy()\n",
    "for i in range(N):\n",
    "    yo[i, np.random.randint(M, size=int(M * 0.10))] *= -1\n",
    "\n",
    "# transformed set\n",
    "ones, x1, x2 = xo[...,[0]], xo[...,[1]], xo[...,[2]]\n",
    "zo = np.concatenate([ones, x1, x2, x1*x2, x1**2, x2**2], axis=2)\n",
    "\n",
    "# verify linear regression\n",
    "eo = np.empty((N,))\n",
    "for i in range(N):\n",
    "    goi = points_sign(zo[i], wz[i])\n",
    "    eo[i] = err_freq(yo[i], goi)\n",
    "\n",
    "print('avg Eout: %s' % eo.mean())"
   ]
  },
  {
   "cell_type": "markdown",
   "metadata": {
    "raw_mimetype": "text/markdown"
   },
   "source": [
    "## Hoeffding Inequality\n",
    "\n",
    "Run a computer simulation for flipping 1,000 virtual fair coins. Flip each coin independently 10 times. Focus on 3 coins as follows: $c_1$ is the first coin flipped, crand is a\n",
    "coin chosen randomly from the 1,000, and cmin is the coin which had the minimum\n",
    "frequency of heads (pick the earlier one in case of a tie). Let $\\nu_1$, νrand, and νmin be\n",
    "the fraction of heads obtained for the 3 respective coins out of the 10 tosses.\n",
    "\n",
    "Run the experiment 100,000 times in order to get a full distribution of $\\nu_1$, $ν_{rand}$, and\n",
    "$ν_{min}$ (note that crand and cmin will change from run to run)."
   ]
  },
  {
   "cell_type": "code",
   "execution_count": 18,
   "metadata": {
    "collapsed": true
   },
   "outputs": [],
   "source": [
    "%reset -sf"
   ]
  },
  {
   "cell_type": "code",
   "execution_count": 19,
   "metadata": {
    "collapsed": false
   },
   "outputs": [],
   "source": [
    "%matplotlib inline\n",
    "import datetime\n",
    "import numpy as np\n",
    "import matplotlib.pyplot as plt\n",
    "from numba.decorators import jit\n",
    "from statsmodels.distributions.empirical_distribution import ECDF"
   ]
  },
  {
   "cell_type": "code",
   "execution_count": 20,
   "metadata": {
    "collapsed": false,
    "raw_mimetype": "text/x-python"
   },
   "outputs": [
    {
     "name": "stdout",
     "output_type": "stream",
     "text": [
      "2017-10-22 10:09:00     0 ...\n",
      "2017-10-22 10:14:00 10000 ...\n",
      "2017-10-22 10:19:00 20000 ...\n",
      "2017-10-22 10:24:00 30000 ...\n",
      "2017-10-22 10:29:00 40000 ...\n",
      "2017-10-22 10:34:00 50000 ...\n",
      "2017-10-22 10:40:00 60000 ...\n",
      "2017-10-22 10:45:00 70000 ...\n",
      "2017-10-22 10:50:00 80000 ...\n",
      "2017-10-22 10:55:00 90000 ...\n"
     ]
    }
   ],
   "source": [
    "N = 100000\n",
    "M = 1000\n",
    "S = 10\n",
    "c1 = np.empty(N)\n",
    "crand = np.empty(N)\n",
    "cmin = np.empty(N)\n",
    "for k in range(N):\n",
    "    heads = np.empty(M)\n",
    "    for i in range(M):\n",
    "        heads[i] = np.random.randint(2, size=S).mean()\n",
    "    c1[k] = heads[0]\n",
    "    crand[k] = heads[np.random.randint(M)]\n",
    "    cmin[k] = heads.min()\n",
    "    if k % 10000 == 0:\n",
    "        now = datetime.datetime.now().replace(second=0,microsecond=0)\n",
    "        print(\"{!s} {:-5} ...\".format(now, k))"
   ]
  },
  {
   "cell_type": "code",
   "execution_count": 21,
   "metadata": {
    "collapsed": false
   },
   "outputs": [
    {
     "name": "stdout",
     "output_type": "stream",
     "text": [
      "0.500243\n",
      "0.500141\n",
      "0.037483\n"
     ]
    }
   ],
   "source": [
    "print(c1.mean())\n",
    "print(crand.mean())\n",
    "print(cmin.mean())"
   ]
  },
  {
   "cell_type": "code",
   "execution_count": 22,
   "metadata": {
    "collapsed": false
   },
   "outputs": [
    {
     "data": {
      "text/plain": [
       "[<matplotlib.lines.Line2D at 0x2cdd777208>]"
      ]
     },
     "execution_count": 22,
     "metadata": {},
     "output_type": "execute_result"
    },
    {
     "data": {
      "image/png": "[encoded data removed]",
      "text/plain": [
       "<matplotlib.figure.Figure at 0x2cde8454e0>"
      ]
     },
     "metadata": {},
     "output_type": "display_data"
    }
   ],
   "source": [
    "xs = np.linspace(0, 1, 100)\n",
    "plt.plot(xs, ECDF(c1)(xs), 'b')\n",
    "plt.plot(xs, ECDF(crand)(xs), 'r')\n",
    "plt.plot(xs, ECDF(cmin)(xs), 'k')"
   ]
  },
  {
   "cell_type": "markdown",
   "metadata": {},
   "source": [
    "### *END*"
   ]
  }
 ],
 "metadata": {
  "celltoolbar": "Raw Cell Format",
  "kernelspec": {
   "display_name": "Python [conda root]",
   "language": "python",
   "name": "conda-root-py"
  },
  "language_info": {
   "codemirror_mode": {
    "name": "ipython",
    "version": 3
   },
   "file_extension": ".py",
   "mimetype": "text/x-python",
   "name": "python",
   "nbconvert_exporter": "python",
   "pygments_lexer": "ipython3",
   "version": "3.6.0"
  }
 },
 "nbformat": 4,
 "nbformat_minor": 2
}
