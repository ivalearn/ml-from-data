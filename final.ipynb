{
 "cells": [
  {
   "cell_type": "code",
   "execution_count": 1,
   "metadata": {},
   "outputs": [],
   "source": [
    "import numpy as np\n",
    "import numpy.linalg as lin\n",
    "import scipy as sp\n",
    "import matplotlib as mpl\n",
    "import matplotlib.pyplot as plt\n",
    "import seaborn as sns\n",
    "import cvxpy\n",
    "from cvxpy import Variable, Minimize, Problem, sum_squares, quad_form\n",
    "import sklearn\n",
    "from sklearn.svm import SVC\n",
    "from sklearn.cluster import KMeans\n",
    "%matplotlib inline\n",
    "%precision 5\n",
    "np.set_printoptions(precision=5)"
   ]
  },
  {
   "cell_type": "markdown",
   "metadata": {},
   "source": [
    "# Regularization\n",
    "## Tasks 7-10"
   ]
  },
  {
   "cell_type": "code",
   "execution_count": 2,
   "metadata": {},
   "outputs": [],
   "source": [
    "f_train = np.loadtxt('features.train.txt')\n",
    "f_test = np.loadtxt('features.test.txt')"
   ]
  },
  {
   "cell_type": "code",
   "execution_count": 3,
   "metadata": {},
   "outputs": [],
   "source": [
    "def quad_transform(x):\n",
    "    x1, x2 = x[:,1], x[:,2]\n",
    "    ones = np.ones(len(x))\n",
    "    return np.c_[ones, x1, x2, x1*x2, x1**2, x2**2]\n",
    "\n",
    "def _split1_one_vs_all(f, digit, transform):\n",
    "    f_digits = np.floor(f[:,0])\n",
    "    c = f_digits == digit\n",
    "    x = np.c_[np.ones(len(f)), f[:,1:]]\n",
    "    y = np.where(c, [+1.0], [-1.0])\n",
    "    if transform:\n",
    "        x = quad_transform(x)\n",
    "    return x, y\n",
    "\n",
    "def split2_one_vs_all(digit, transform):\n",
    "    x_train, y_train = _split1_one_vs_all(f_train, digit, transform)\n",
    "    x_test, y_test = _split1_one_vs_all(f_test, digit, transform)\n",
    "    return x_train, y_train, x_test, y_test\n",
    "\n",
    "def _errs1_inout(w, x, y):\n",
    "    return np.mean(np.sign(x @ w) != y)\n",
    "\n",
    "def errs2_inout(w, x_train, y_train, x_test, y_test):\n",
    "    return (_errs1_inout(w, x_train, y_train),\n",
    "            _errs1_inout(w, x_test, y_test))\n",
    "\n",
    "def solve_cvxpy(x, y, lamb):\n",
    "    n, m = x.shape\n",
    "    w_ = Variable(m)\n",
    "    obj = 1/n * sum_squares(x @ w_ - y) + lamb/n * sum_squares(w_)\n",
    "    prob = Problem(Minimize(obj))\n",
    "    prob.solve()\n",
    "    assert prob.status == 'optimal'\n",
    "    w_cx = np.array(w_.value).squeeze(1)\n",
    "    return w_cx\n",
    "\n",
    "def solve_linalg(x, y, lamb):\n",
    "    n, m = x.shape\n",
    "    w = np.linalg.inv(x.T @ x + lamb * np.eye(m)) @ x.T @ y\n",
    "    return w\n",
    "\n",
    "def solve_one_vs_all(digit, lamb, transform, cvxpy=False):\n",
    "    x, y, x_test, y_test = split2_one_vs_all(digit, transform)\n",
    "    w = solve_linalg(x, y, lamb)\n",
    "    if cvxpy:\n",
    "        assert np.allclose(solve_cvxpy(x, y, lamb), w)\n",
    "    return errs2_inout(w, x, y, x_test, y_test)\n",
    "\n",
    "def _split1_one_vs_one(f, dig1, dig2, transform):\n",
    "    d_all = np.floor(f[:,0])\n",
    "    c_all = np.logical_or(d_all == dig1, d_all == dig2)\n",
    "    f_filt = f[c_all]\n",
    "    d_filt = np.floor(f_filt[:,0])\n",
    "    c_filt = d_filt == dig1\n",
    "    y = np.where(c_filt, [+1.0], [-1.0])\n",
    "    x = np.c_[np.ones(len(f_filt)), f_filt[:,1:]]\n",
    "    if transform:\n",
    "        x = quad_transform(x)\n",
    "    return x, y\n",
    "\n",
    "def split2_one_vs_one(dig1, dig2, transform):\n",
    "    x_train, y_train = _split1_one_vs_one(f_train, dig1, dig2, transform)\n",
    "    x_test, y_test = _split1_one_vs_one(f_test, dig1, dig2, transform)\n",
    "    return x_train, y_train, x_test, y_test\n",
    "\n",
    "def solve_one_vs_one(dig1, dig2, lamb, transform=True, cvxpy=False):\n",
    "    x, y, x_test, y_test = split2_one_vs_one(dig1, dig2, transform)\n",
    "    w = solve_linalg(x, y, lamb)\n",
    "    if cvxpy:\n",
    "        max_err = cvxpy\n",
    "        if not isinstance(max_err, float):\n",
    "            max_err = 0.001\n",
    "        w_cx = solve_cvxpy(x, y, lamb)\n",
    "        rel_err = lin.norm(w_cx-w) / lin.norm(w)\n",
    "        if rel_err > max_err:\n",
    "            print('! cvxpy relative error %.2f' % rel_err)\n",
    "        if str(cvxpy) == 'force':\n",
    "            w = w_cx\n",
    "    return errs2_inout(w, x, y, x_test, y_test)"
   ]
  },
  {
   "cell_type": "markdown",
   "metadata": {},
   "source": [
    "#### Task 7"
   ]
  },
  {
   "cell_type": "code",
   "execution_count": 4,
   "metadata": {},
   "outputs": [
    {
     "name": "stdout",
     "output_type": "stream",
     "text": [
      "digit:5 Ein:0.0763\n",
      "digit:6 Ein:0.0911\n",
      "digit:7 Ein:0.0885\n",
      "digit:8 Ein:0.0743\n",
      "digit:9 Ein:0.0883\n"
     ]
    }
   ],
   "source": [
    "for digit in (5,6,7,8,9):\n",
    "    ein, eout = solve_one_vs_all(digit, lamb=1., transform=False)\n",
    "    print('digit:{:d} Ein:{:.4f}'.format(digit, ein))"
   ]
  },
  {
   "cell_type": "markdown",
   "metadata": {},
   "source": [
    "#### Task 8"
   ]
  },
  {
   "cell_type": "code",
   "execution_count": 5,
   "metadata": {},
   "outputs": [
    {
     "name": "stdout",
     "output_type": "stream",
     "text": [
      "digit:0 Eout:0.1066\n",
      "digit:1 Eout:0.0219\n",
      "digit:2 Eout:0.0987\n",
      "digit:3 Eout:0.0827\n",
      "digit:4 Eout:0.0997\n"
     ]
    }
   ],
   "source": [
    "for digit in (0,1,2,3,4):\n",
    "    ein, eout = solve_one_vs_all(digit, lamb=1., transform=True)\n",
    "    print('digit:{:d} Eout:{:.4f}'.format(digit, eout))"
   ]
  },
  {
   "cell_type": "markdown",
   "metadata": {},
   "source": [
    "#### Task 9"
   ]
  },
  {
   "cell_type": "code",
   "execution_count": 6,
   "metadata": {},
   "outputs": [
    {
     "name": "stdout",
     "output_type": "stream",
     "text": [
      "a\n",
      "a 0 Ei5-Ei2:-0.00699 Eo5-Eo2:-0.00847 overfit:0\n",
      "a 1 Ei5-Ei2:-0.00288 Eo5-Eo2:-0.00050 overfit:0\n",
      "a 2 Ei5-Ei2: 0.00000 Eo5-Eo2: 0.00000 overfit:0\n",
      "a 3 Ei5-Ei2: 0.00000 Eo5-Eo2: 0.00000 overfit:0\n",
      "a 4 Ei5-Ei2: 0.00000 Eo5-Eo2: 0.00000 overfit:0\n",
      "a 5 Ei5-Ei2: 0.00000 Eo5-Eo2:-0.00050 overfit:0\n",
      "a 6 Ei5-Ei2: 0.00000 Eo5-Eo2: 0.00000 overfit:0\n",
      "a 7 Ei5-Ei2: 0.00000 Eo5-Eo2: 0.00000 overfit:0\n",
      "a 8 Ei5-Ei2: 0.00000 Eo5-Eo2: 0.00000 overfit:0\n",
      "a 9 Ei5-Ei2: 0.00000 Eo5-Eo2: 0.00000 overfit:0\n",
      "\n",
      "b/d\n",
      "b 0 improve 2->5: 7.36%\n",
      "b 1 improve 2->5: 2.22%\n",
      "b 2 improve 2->5:-0.00%\n",
      "b 3 improve 2->5:-0.00%\n",
      "b 4 improve 2->5:-0.00%\n",
      "b 5 improve 2->5: 0.62%\n",
      "b 6 improve 2->5:-0.00%\n",
      "b 7 improve 2->5:-0.00%\n",
      "b 8 improve 2->5:-0.00%\n",
      "b 9 improve 2->5:-0.00%\n",
      "\n",
      "c\n",
      "c 0 Eo2: 0.1151 Eo5: 0.1066 Eo2-Eo5: 0.00847\n",
      "c 1 Eo2: 0.0224 Eo5: 0.0219 Eo2-Eo5: 0.00050\n",
      "c 2 Eo2: 0.0987 Eo5: 0.0987 Eo2-Eo5: 0.00000\n",
      "c 3 Eo2: 0.0827 Eo5: 0.0827 Eo2-Eo5: 0.00000\n",
      "c 4 Eo2: 0.0997 Eo5: 0.0997 Eo2-Eo5: 0.00000\n",
      "c 5 Eo2: 0.0797 Eo5: 0.0792 Eo2-Eo5: 0.00050\n",
      "c 6 Eo2: 0.0847 Eo5: 0.0847 Eo2-Eo5: 0.00000\n",
      "c 7 Eo2: 0.0732 Eo5: 0.0732 Eo2-Eo5: 0.00000\n",
      "c 8 Eo2: 0.0827 Eo5: 0.0827 Eo2-Eo5: 0.00000\n",
      "c 9 Eo2: 0.0882 Eo5: 0.0882 Eo2-Eo5: 0.00000\n",
      "\n",
      "e\n",
      "e 5 (Eo5-Eo2)/Eo2*100:-0.625\n"
     ]
    }
   ],
   "source": [
    "def task9():\n",
    "    all_errs = []\n",
    "    for dig in range(10):\n",
    "        # Err_in & Err_out for Q=2 and Q=5\n",
    "        # E2 - NO transform, E5 - USE transform\n",
    "        i2, o2 = solve_one_vs_all(dig, lamb=1., transform=False)\n",
    "        i5, o5 = solve_one_vs_all(dig, lamb=1., transform=True)\n",
    "        all_errs.append((i2, o2, i5, o5))\n",
    "    print('a')\n",
    "    for dig in range(10):\n",
    "        i2, o2, i5, o5 = all_errs[dig]\n",
    "        print('a {} Ei5-Ei2:{:8.5f} Eo5-Eo2:{:8.5f} overfit:{:d}'\n",
    "              .format(dig, i5-i2, o5-o2, i5-i2<0 and o5-o2>0))\n",
    "    print('\\nb/d')\n",
    "    for dig in range(10):\n",
    "        i2, o2, i5, o5 = all_errs[dig]\n",
    "        print('b {} improve 2->5:{:>5.2f}%'\n",
    "              .format(dig, -(o5-o2)/o2*100))\n",
    "    print('\\nc')\n",
    "    for dig in range(10):\n",
    "        i2, o2, i5, o5 = all_errs[dig]\n",
    "        print('c {} Eo2:{:7.4f} Eo5:{:7.4f} Eo2-Eo5:{:8.5f}'\n",
    "              .format(dig, o2, o5, o2-o5))\n",
    "    print('\\ne')\n",
    "    i2, o2, i5, o5 = all_errs[5]\n",
    "    print('e 5 (Eo5-Eo2)/Eo2*100:{:.3f}'\n",
    "          .format( (o5-o2)/o2*100 ))\n",
    "\n",
    "task9()"
   ]
  },
  {
   "cell_type": "markdown",
   "metadata": {},
   "source": [
    "#### Task 10"
   ]
  },
  {
   "cell_type": "code",
   "execution_count": 7,
   "metadata": {},
   "outputs": [
    {
     "name": "stdout",
     "output_type": "stream",
     "text": [
      "1 vs 5: cvxpy:0     lamb:0.01 Ei:0.0045 Eo:0.028\n",
      "1 vs 5: cvxpy:0     lamb:1    Ei:0.0051 Eo:0.026\n",
      "a: True\n"
     ]
    }
   ],
   "source": [
    "def task10(dig1, dig2, cvxpy):\n",
    "    transform = True\n",
    "    errs = {}\n",
    "    for lamb in (0.01, 1.):\n",
    "        ein, eout = solve_one_vs_one(1, 5, lamb, transform, cvxpy=cvxpy)\n",
    "        print('{} vs {}: cvxpy:{:<5} lamb:{:<4.2g} Ei:{:.4f} Eo:{:.3f}'\n",
    "              .format(dig1, dig2, cvxpy, lamb, ein, eout))\n",
    "        errs[lamb] = dict(ein=ein, eout=eout)\n",
    "    print('a:', errs[0.01]['ein']  < errs[1.]['ein'] and\n",
    "                errs[0.01]['eout'] > errs[1.]['eout'])\n",
    "\n",
    "task10(1, 5, cvxpy=False)"
   ]
  },
  {
   "cell_type": "markdown",
   "metadata": {},
   "source": [
    "# SVM\n",
    "## Problems 11-12"
   ]
  },
  {
   "cell_type": "code",
   "execution_count": 8,
   "metadata": {},
   "outputs": [],
   "source": [
    "f_svm = np.array(np.mat('1 0 -1; 0 1 -1; 0 -1 -1; -1 0 +1; 0 2 +1; 0 -2 +1; -2 0 +1'), dtype='d')\n",
    "x_svm, y_svm = f_svm[:,:2], f_svm[:,2]\n",
    "x1_, x2_ = x_svm[:,0], x_svm[:,1]\n",
    "z_svm = np.c_[x2_**2-2*x1_-1, x1_**2-2*x2_+1]"
   ]
  },
  {
   "cell_type": "code",
   "execution_count": 9,
   "metadata": {},
   "outputs": [
    {
     "data": {
      "text/plain": [
       "<matplotlib.collections.PathCollection at 0xfa69fa8780>"
      ]
     },
     "execution_count": 9,
     "metadata": {},
     "output_type": "execute_result"
    },
    {
     "data": {
      "image/png": "[encoded data removed]",
      "text/plain": [
       "<matplotlib.figure.Figure at 0xfa69f42358>"
      ]
     },
     "metadata": {},
     "output_type": "display_data"
    }
   ],
   "source": [
    "plt.scatter(z_svm[:,0], z_svm[:,1], c=np.where(y_svm>0, ['b'], 'r'))"
   ]
  },
  {
   "cell_type": "code",
   "execution_count": 10,
   "metadata": {},
   "outputs": [
    {
     "data": {
      "text/plain": [
       "SVC(C=10000000000.0, cache_size=200, class_weight=None, coef0=1,\n",
       "  decision_function_shape='ovr', degree=2, gamma=1, kernel='poly',\n",
       "  max_iter=-1, probability=False, random_state=None, shrinking=True,\n",
       "  tol=0.001, verbose=False)"
      ]
     },
     "execution_count": 10,
     "metadata": {},
     "output_type": "execute_result"
    }
   ],
   "source": [
    "clf = SVC(C=1e10, kernel='poly', degree=2, gamma=1, coef0=1)\n",
    "clf.fit(x_svm, y_svm)"
   ]
  },
  {
   "cell_type": "code",
   "execution_count": 11,
   "metadata": {},
   "outputs": [
    {
     "data": {
      "text/plain": [
       "5"
      ]
     },
     "execution_count": 11,
     "metadata": {},
     "output_type": "execute_result"
    }
   ],
   "source": [
    "np.sum(clf.n_support_)"
   ]
  },
  {
   "cell_type": "code",
   "execution_count": 12,
   "metadata": {},
   "outputs": [
    {
     "data": {
      "text/plain": [
       "<matplotlib.collections.PathCollection at 0xfa6a032fd0>"
      ]
     },
     "execution_count": 12,
     "metadata": {},
     "output_type": "execute_result"
    },
    {
     "data": {
      "image/png": "[encoded data removed]",
      "text/plain": [
       "<matplotlib.figure.Figure at 0xfa69fa6d30>"
      ]
     },
     "metadata": {},
     "output_type": "display_data"
    }
   ],
   "source": [
    "plt.scatter(x_svm[:,0], x_svm[:,1], c=np.where(y_svm>0, ['b'], 'r'), s=20)\n",
    "plt.scatter(clf.support_vectors_[:,0], clf.support_vectors_[:,1],\n",
    "            s=90, facecolors='none', edgecolors='k')"
   ]
  },
  {
   "cell_type": "code",
   "execution_count": 13,
   "metadata": {},
   "outputs": [
    {
     "data": {
      "text/plain": [
       "array([[ 0.,  1.],\n",
       "       [ 0., -1.],\n",
       "       [-1.,  0.],\n",
       "       [ 0.,  2.],\n",
       "       [ 0., -2.]])"
      ]
     },
     "execution_count": 13,
     "metadata": {},
     "output_type": "execute_result"
    }
   ],
   "source": [
    "def cvx_svm(x, y):\n",
    "    ATOL = 1e-6\n",
    "    Z = (1 + x @ x.T)**2\n",
    "    yT = y[None, :]\n",
    "    xyz = yT.T * Z\n",
    "    Q = xyz @ xyz.T\n",
    "    n = len(Z)\n",
    "    I = np.ones(n).T\n",
    "    a_ = Variable(n)\n",
    "    prob = Problem(Minimize(1/2 * quad_form(a_, Q) - I @ a_),\n",
    "                   [yT @ a_ == 0, a_ >= 0])\n",
    "    prob.solve()\n",
    "    assert prob.status == 'optimal'\n",
    "    a = np.array(a_.value).squeeze(1)\n",
    "    cond = np.abs(a) > ATOL\n",
    "    an, xn, yn = a[cond], x[cond], y[cond]\n",
    "    ay = an * yn\n",
    "    w = np.sum(ay[:,None] * xn, axis=0)\n",
    "    b = 1/yn[0] - w @ xn[0]\n",
    "    return dict(a=an, y=yn, ay=ay, w=w, b=b, sv=xn, nsv=len(xn))\n",
    "\n",
    "my_svm = cvx_svm(x_svm, y_svm)\n",
    "my_svm['sv']"
   ]
  },
  {
   "cell_type": "code",
   "execution_count": 14,
   "metadata": {},
   "outputs": [
    {
     "data": {
      "text/plain": [
       "True"
      ]
     },
     "execution_count": 14,
     "metadata": {},
     "output_type": "execute_result"
    }
   ],
   "source": [
    "np.allclose(clf.support_vectors_, my_svm['sv'])"
   ]
  },
  {
   "cell_type": "code",
   "execution_count": 15,
   "metadata": {},
   "outputs": [
    {
     "data": {
      "text/plain": [
       "{'a': array([ 0.02729,  0.02729,  0.03604,  0.00927,  0.00927]),\n",
       " 'ay': array([-0.02729, -0.02729,  0.03604,  0.00927,  0.00927]),\n",
       " 'b': -1.00000,\n",
       " 'nsv': 5,\n",
       " 'sv': array([[ 0.,  1.],\n",
       "        [ 0., -1.],\n",
       "        [-1.,  0.],\n",
       "        [ 0.,  2.],\n",
       "        [ 0., -2.]]),\n",
       " 'w': array([ -3.60351e-02,  -1.38778e-17]),\n",
       " 'y': array([-1., -1.,  1.,  1.,  1.])}"
      ]
     },
     "execution_count": 15,
     "metadata": {},
     "output_type": "execute_result"
    }
   ],
   "source": [
    "my_svm"
   ]
  },
  {
   "cell_type": "markdown",
   "metadata": {},
   "source": [
    "# Radial Basis Functions\n",
    "## Problems 13-18"
   ]
  },
  {
   "cell_type": "code",
   "execution_count": 16,
   "metadata": {},
   "outputs": [],
   "source": [
    "def rbf_func(x):\n",
    "    x1, x2 = x[:,0], x[:,1]\n",
    "    return np.sign(x2 - x1 + .25 * np.sin(np.pi * x1))\n",
    "\n",
    "def random_points(num=100, vmin=-1., vmax=+1.):\n",
    "    return np.random.rand(num, 2) * (vmax-vmin) + vmin\n",
    "\n",
    "def lab2col(lab):\n",
    "    return mpl.cm.spectral(lab / 10)\n",
    "\n",
    "def sk_split(x, n):\n",
    "    clus = KMeans(n).fit(x)\n",
    "    return clus.cluster_centers_, clus.labels_\n",
    "\n",
    "def empty_clusters(nc, labels):\n",
    "    if labels is None:\n",
    "        return True\n",
    "    for i in range(nc):\n",
    "        if np.sum(labels==i) == 0:\n",
    "            return True\n",
    "    return False\n",
    "\n",
    "def my_split(x, nc):\n",
    "    nx = len(x)\n",
    "    labels = np.zeros(nx, dtype='int')\n",
    "    centers = random_points(nc)\n",
    "    while 1:\n",
    "        prev = labels.copy()\n",
    "        dist = lin.norm(x[:,None,:] - centers[None,:,:], axis=2)\n",
    "        np.argmin(dist, axis=1, out=labels)\n",
    "        for i in range(nc):\n",
    "            x_i = x[labels==i]\n",
    "            if len(x_i) == 0:\n",
    "                return None, None\n",
    "            centers[i] = np.mean(x_i, axis=0)\n",
    "        if np.array_equal(prev, labels):\n",
    "            return centers, labels\n",
    "\n",
    "def reg_rbf_weights(x, y, centers, gamma):\n",
    "    dist2 = lin.norm(x[:,None,:] - centers[None,:,:], axis=2) ** 2\n",
    "    Z = np.exp(-gamma * dist2)\n",
    "    return lin.pinv(Z) @ y\n",
    "\n",
    "def reg_rbf_predict(x, w, centers, gamma):\n",
    "    dist2 = lin.norm(x[:,None,:] - centers[None,:,:], axis=2) ** 2\n",
    "    return np.sign(np.exp(-gamma * dist2) @ w)\n",
    "\n",
    "def err_of(y, y_pred):\n",
    "    return np.mean(y != y_pred)\n",
    "\n",
    "def make_sets(n_train=100, n_test=1000):\n",
    "    x_train = random_points(n_train)\n",
    "    y_train = rbf_func(x_train)\n",
    "    x_test = random_points(n_test)\n",
    "    y_test = rbf_func(x_test)\n",
    "    return x_train, y_train, x_test, y_test\n",
    "\n",
    "def sv_sort(sv):\n",
    "    return sv[np.argsort(sv, axis=0)[:,0]]"
   ]
  },
  {
   "cell_type": "markdown",
   "metadata": {},
   "source": [
    "## Demos"
   ]
  },
  {
   "cell_type": "code",
   "execution_count": 17,
   "metadata": {},
   "outputs": [],
   "source": [
    "rbf_x = random_points()\n",
    "rbf_y = rbf_func(rbf_x)"
   ]
  },
  {
   "cell_type": "code",
   "execution_count": 18,
   "metadata": {},
   "outputs": [],
   "source": [
    "ncent = 9\n",
    "gamma = 1.5"
   ]
  },
  {
   "cell_type": "code",
   "execution_count": 19,
   "metadata": {},
   "outputs": [],
   "source": [
    "reg_centers, reg_labels = my_split(rbf_x, ncent)\n",
    "assert not empty_clusters(ncent, reg_labels)"
   ]
  },
  {
   "cell_type": "code",
   "execution_count": 20,
   "metadata": {},
   "outputs": [
    {
     "data": {
      "text/plain": [
       "<matplotlib.collections.PathCollection at 0xfa6a0e4da0>"
      ]
     },
     "execution_count": 20,
     "metadata": {},
     "output_type": "execute_result"
    },
    {
     "data": {
      "image/png": "[encoded data removed]",
      "text/plain": [
       "<matplotlib.figure.Figure at 0xfa69fcfe48>"
      ]
     },
     "metadata": {},
     "output_type": "display_data"
    }
   ],
   "source": [
    "plt.scatter(rbf_x[:,0], rbf_x[:,1], s=20,\n",
    "            c=[lab2col(l) for l in reg_labels])\n",
    "plt.scatter(reg_centers[:,0], reg_centers[:,1],\n",
    "            c=[lab2col(l) for l in range(ncent)],\n",
    "            marker='*', s=120, edgecolors='k')"
   ]
  },
  {
   "cell_type": "code",
   "execution_count": 21,
   "metadata": {},
   "outputs": [
    {
     "data": {
      "text/plain": [
       "0.01000"
      ]
     },
     "execution_count": 21,
     "metadata": {},
     "output_type": "execute_result"
    }
   ],
   "source": [
    "reg_w = reg_rbf_weights(rbf_x, rbf_y, reg_centers, gamma)\n",
    "reg_y = reg_rbf_predict(rbf_x, reg_w, reg_centers, gamma)\n",
    "reg_err = err_of(rbf_y, reg_y)\n",
    "reg_err"
   ]
  },
  {
   "cell_type": "code",
   "execution_count": 22,
   "metadata": {},
   "outputs": [
    {
     "data": {
      "text/plain": [
       "<matplotlib.collections.PathCollection at 0xfa6a1317f0>"
      ]
     },
     "execution_count": 22,
     "metadata": {},
     "output_type": "execute_result"
    },
    {
     "data": {
      "image/png": "[encoded data removed]",
      "text/plain": [
       "<matplotlib.figure.Figure at 0xfa6a0ef320>"
      ]
     },
     "metadata": {},
     "output_type": "display_data"
    }
   ],
   "source": [
    "i_ok = np.nonzero(rbf_y == reg_y)[0]\n",
    "i_bad = np.nonzero(rbf_y != reg_y)[0]\n",
    "clrs = np.where(rbf_y>0, ['b'], ['r'])\n",
    "plt.scatter(rbf_x[i_ok,0], rbf_x[i_ok,1], c=clrs[i_ok], marker='o', s=20)\n",
    "plt.scatter(rbf_x[i_bad,0], rbf_x[i_bad,1], c=clrs[i_bad], marker='x', s=80)"
   ]
  },
  {
   "cell_type": "markdown",
   "metadata": {},
   "source": [
    "### SKlearn SVM"
   ]
  },
  {
   "cell_type": "code",
   "execution_count": 23,
   "metadata": {},
   "outputs": [
    {
     "data": {
      "text/plain": [
       "(8, 0.00000)"
      ]
     },
     "execution_count": 23,
     "metadata": {},
     "output_type": "execute_result"
    }
   ],
   "source": [
    "def skk_fit(x, y, gamma):\n",
    "    clf = SVC(C=1e10, kernel='rbf', gamma=gamma)\n",
    "    clf.fit(x, y)\n",
    "    return clf\n",
    "\n",
    "def skk_predict(x, clf):\n",
    "    return clf.predict(x)\n",
    "\n",
    "skk_clf = skk_fit(rbf_x, rbf_y, gamma)\n",
    "skk_y = skk_predict(rbf_x, skk_clf)\n",
    "skk_err = err_of(rbf_y, skk_y)\n",
    "skk_nsv = skk_clf.n_support_.sum()\n",
    "skk_sv = skk_clf.support_vectors_\n",
    "skk_nsv, skk_err"
   ]
  },
  {
   "cell_type": "code",
   "execution_count": 24,
   "metadata": {},
   "outputs": [
    {
     "data": {
      "text/plain": [
       "<matplotlib.collections.PathCollection at 0xfa69f555c0>"
      ]
     },
     "execution_count": 24,
     "metadata": {},
     "output_type": "execute_result"
    },
    {
     "data": {
      "image/png": "[encoded data removed]",
      "text/plain": [
       "<matplotlib.figure.Figure at 0xfa6a13bc50>"
      ]
     },
     "metadata": {},
     "output_type": "display_data"
    }
   ],
   "source": [
    "i_ok = np.nonzero(rbf_y == skk_y)[0]\n",
    "i_bad = np.nonzero(rbf_y != skk_y)[0]\n",
    "clrs = np.where(rbf_y>0, ['b'], ['r'])\n",
    "plt.scatter(rbf_x[i_ok,0], rbf_x[i_ok,1], c=clrs[i_ok], marker='o', s=20)\n",
    "plt.scatter(rbf_x[i_bad,0], rbf_x[i_bad,1], c=clrs[i_bad], marker='x', s=80)"
   ]
  },
  {
   "cell_type": "markdown",
   "metadata": {},
   "source": [
    "### CVXpy SVM\n",
    "### TODO: fix svr_fit()"
   ]
  },
  {
   "cell_type": "code",
   "execution_count": 25,
   "metadata": {},
   "outputs": [
    {
     "data": {
      "text/plain": [
       "{'a': array([ 34.06215,  14.05916,  10.86179,   5.92921,  23.75464,  46.63797,\n",
       "         57.55434,  40.21562]),\n",
       " 'ay': array([-34.06215, -14.05916, -10.86179,   5.92921,  23.75464,  46.63797,\n",
       "        -57.55434,  40.21562]),\n",
       " 'gamma': 1.50000,\n",
       " 'nsv': 8,\n",
       " 'sv': array([[ 0.53974,  0.27969],\n",
       "        [-0.79756, -0.7131 ],\n",
       "        [ 0.88843,  0.66945],\n",
       "        [ 0.8289 ,  0.90424],\n",
       "        [-0.493  , -0.14043],\n",
       "        [-0.67854, -0.40629],\n",
       "        [-0.48365, -0.30215],\n",
       "        [ 0.48189,  0.38794]]),\n",
       " 'y': array([-1., -1., -1.,  1.,  1.,  1., -1.,  1.])}"
      ]
     },
     "execution_count": 25,
     "metadata": {},
     "output_type": "execute_result"
    }
   ],
   "source": [
    "def svr_fit(x, y, gamma):\n",
    "    ATOL = 1e-5\n",
    "    n = len(x)\n",
    "    dist2 = lin.norm(x[:,None,:] - x[None,:,:], axis=2) ** 2\n",
    "    K = np.exp(-gamma * dist2)\n",
    "    yT = y[None, :]\n",
    "    Q = yT * yT.T * K\n",
    "    I = np.ones(n)\n",
    "    a_ = Variable(n)\n",
    "    prob = Problem(Minimize(1/2 * quad_form(a_, Q) - I @ a_),\n",
    "                   [yT @ a_ == 0, a_ >= 0])\n",
    "    prob.solve()\n",
    "    assert prob.status == 'optimal'\n",
    "    a = np.array(a_.value).squeeze(1)\n",
    "    cond = np.abs(a) > ATOL\n",
    "    an, yn, xn = a[cond], y[cond], x[cond]\n",
    "    return dict(a=an, y=yn, ay = an * yn, sv=xn,\n",
    "                nsv=len(an), gamma=gamma)\n",
    "\n",
    "def svr_predict(x, res):\n",
    "    gamma, ay, sv = res['gamma'], res['ay'], res['sv']\n",
    "    dist2 = lin.norm(x[:,None,:] - sv[None,:,:], axis=2) ** 2\n",
    "    K = np.exp(-gamma * dist2)\n",
    "    return np.sign(K @ ay[:,None]).squeeze(axis=1)\n",
    "\n",
    "svr_res = svr_fit(rbf_x, rbf_y, gamma)\n",
    "svr_res"
   ]
  },
  {
   "cell_type": "code",
   "execution_count": 26,
   "metadata": {},
   "outputs": [
    {
     "data": {
      "text/plain": [
       "0.00000"
      ]
     },
     "execution_count": 26,
     "metadata": {},
     "output_type": "execute_result"
    }
   ],
   "source": [
    "svr_y = svr_predict(rbf_x, svr_res)\n",
    "svr_err = err_of(rbf_y, svr_y)\n",
    "svr_err"
   ]
  },
  {
   "cell_type": "code",
   "execution_count": 27,
   "metadata": {},
   "outputs": [
    {
     "data": {
      "text/plain": [
       "(0.03800, 0.03700, 0.05300)"
      ]
     },
     "execution_count": 27,
     "metadata": {},
     "output_type": "execute_result"
    }
   ],
   "source": [
    "x_out = random_points(1000)\n",
    "y_out = rbf_func(x_out)\n",
    "(err_of(skk_clf.predict(x_out), y_out),\n",
    " err_of(svr_predict(x_out, svr_res), y_out),\n",
    " err_of(reg_rbf_predict(x_out, reg_w, reg_centers, gamma), y_out))"
   ]
  },
  {
   "cell_type": "markdown",
   "metadata": {},
   "source": [
    "### Task 13 - Compare SKLearn (OK) vs CVXpy (Fails a.t.m.)"
   ]
  },
  {
   "cell_type": "code",
   "execution_count": 28,
   "metadata": {},
   "outputs": [
    {
     "data": {
      "text/plain": [
       "(0, 37, 71, 29)"
      ]
     },
     "execution_count": 28,
     "metadata": {},
     "output_type": "execute_result"
    }
   ],
   "source": [
    "def task13_pre(niter=100, gamma=1.5):\n",
    "    nerr_skk = nerr_svr = nwin_skk = nwin_svr = 0\n",
    "    for i in range(niter):\n",
    "        x_train, y_train, x_test, y_test = make_sets()\n",
    "        clf = skk_fit(x_train, y_train, gamma)\n",
    "        res = svr_fit(x_train, y_train, gamma)\n",
    "        ein_skk = err_of(skk_predict(x_train, clf), y_train)\n",
    "        ein_svr = err_of(svr_predict(x_train, res), y_train)\n",
    "        assert ein_skk >= 0 and ein_svr >= 0\n",
    "        if ein_skk > 0:\n",
    "            nerr_skk += 1\n",
    "        if ein_svr > 0:\n",
    "            nerr_svr += 1\n",
    "        eout_skk = err_of(skk_predict(x_test, clf), y_test)\n",
    "        eout_svr = err_of(svr_predict(x_test, res), y_test)\n",
    "        assert eout_skk >= 0 and eout_svr >= 0\n",
    "        if eout_skk < eout_svr:\n",
    "            nwin_skk += 1\n",
    "        else:\n",
    "            nwin_svr += 1\n",
    "    return nerr_skk, nerr_svr, nwin_skk, nwin_svr\n",
    "\n",
    "task13_pre()"
   ]
  },
  {
   "cell_type": "markdown",
   "metadata": {},
   "source": [
    "## Task 13-15"
   ]
  },
  {
   "cell_type": "code",
   "execution_count": 29,
   "metadata": {},
   "outputs": [],
   "source": [
    "def run_svm(x_train, y_train, x_test, y_test, gamma, svm):\n",
    "    assert svm in ('skk', 'svr', 'off')\n",
    "    big = 999\n",
    "    if svm == 'off':\n",
    "        return False, big\n",
    "    if svm == 'skk':\n",
    "        clf = skk_fit(x_train, y_train, gamma)\n",
    "        ein = err_of(skk_predict(x_train, clf), y_train)\n",
    "    else:\n",
    "        try:\n",
    "            res = svr_fit(x_train, y_train, gamma)\n",
    "        except AssertionError:\n",
    "            print('oops!')\n",
    "            return True, big\n",
    "        ein = err_of(svr_predict(x_train, res), y_train)\n",
    "    if ein > 0:\n",
    "        return True, big\n",
    "    if svm == 'skk':\n",
    "        eout = err_of(skk_predict(x_test, clf), y_test)\n",
    "    else:\n",
    "        eout = err_of(svr_predict(x_test, res), y_test)\n",
    "    return False, eout\n",
    "\n",
    "def task_rbf(niter=1000, ncent=9, gamma=1.5, svm=None):\n",
    "    i = nonsep_cnt = kbeat_cnt = 0\n",
    "    all_ei_reg, all_eo_reg = [], []\n",
    "\n",
    "    while i < niter:\n",
    "        x_train, y_train, x_test, y_test = make_sets()\n",
    "        centers, labels = my_split(x_train, ncent)\n",
    "        if empty_clusters(ncent, labels):\n",
    "            continue\n",
    "        erf, eo_svm = run_svm(x_train, y_train, x_test, y_test, gamma, svm)\n",
    "        if erf > 0:\n",
    "            nonsep_cnt += 1\n",
    "            continue\n",
    "        w = reg_rbf_weights(x_train, y_train, centers, gamma)\n",
    "        reg_train = reg_rbf_predict(x_train, w, centers, gamma)\n",
    "        reg_test = reg_rbf_predict(x_test, w, centers, gamma)\n",
    "        ei_reg = err_of(reg_train, y_train)\n",
    "        eo_reg = err_of(reg_test, y_test)\n",
    "\n",
    "        all_ei_reg.append(ei_reg)\n",
    "        all_eo_reg.append(eo_reg)\n",
    "        if eo_svm < eo_reg:\n",
    "            kbeat_cnt += 1\n",
    "        i += 1\n",
    "\n",
    "    return dict(svm=svm, niter=i,\n",
    "                ei_reg=np.mean(all_ei_reg)*100,\n",
    "                eo_reg=np.mean(all_eo_reg)*100,\n",
    "                nonsep_pc=nonsep_cnt/i*100,\n",
    "                kbeat_pc=kbeat_cnt/i*100)"
   ]
  },
  {
   "cell_type": "markdown",
   "metadata": {},
   "source": [
    "#### Task 13-15 (SKlearn)"
   ]
  },
  {
   "cell_type": "code",
   "execution_count": 30,
   "metadata": {},
   "outputs": [
    {
     "data": {
      "text/plain": [
       "{'ei_reg': 3.60250,\n",
       " 'eo_reg': 5.53645,\n",
       " 'kbeat_pc': 87.65000,\n",
       " 'niter': 2000,\n",
       " 'nonsep_pc': 0.00000,\n",
       " 'svm': 'skk'}"
      ]
     },
     "execution_count": 30,
     "metadata": {},
     "output_type": "execute_result"
    }
   ],
   "source": [
    "task_rbf(niter=2000, ncent=9, svm='skk')"
   ]
  },
  {
   "cell_type": "code",
   "execution_count": 31,
   "metadata": {},
   "outputs": [
    {
     "data": {
      "text/plain": [
       "{'ei_reg': 2.25300,\n",
       " 'eo_reg': 4.43712,\n",
       " 'kbeat_pc': 77.82000,\n",
       " 'niter': 5000,\n",
       " 'nonsep_pc': 0.00000,\n",
       " 'svm': 'skk'}"
      ]
     },
     "execution_count": 31,
     "metadata": {},
     "output_type": "execute_result"
    }
   ],
   "source": [
    "task_rbf(niter=5000, ncent=12, svm='skk')"
   ]
  },
  {
   "cell_type": "markdown",
   "metadata": {},
   "source": [
    "#### Task 13-15 (CVX)"
   ]
  },
  {
   "cell_type": "code",
   "execution_count": 32,
   "metadata": {},
   "outputs": [
    {
     "data": {
      "text/plain": [
       "{'ei_reg': 3.44800,\n",
       " 'eo_reg': 5.72720,\n",
       " 'kbeat_pc': 82.60000,\n",
       " 'niter': 500,\n",
       " 'nonsep_pc': 65.80000,\n",
       " 'svm': 'svr'}"
      ]
     },
     "execution_count": 32,
     "metadata": {},
     "output_type": "execute_result"
    }
   ],
   "source": [
    "task_rbf(niter=500, ncent=9, svm='svr')"
   ]
  },
  {
   "cell_type": "code",
   "execution_count": 33,
   "metadata": {},
   "outputs": [
    {
     "data": {
      "text/plain": [
       "{'ei_reg': 2.08600,\n",
       " 'eo_reg': 4.56180,\n",
       " 'kbeat_pc': 74.60000,\n",
       " 'niter': 500,\n",
       " 'nonsep_pc': 61.20000,\n",
       " 'svm': 'svr'}"
      ]
     },
     "execution_count": 33,
     "metadata": {},
     "output_type": "execute_result"
    }
   ],
   "source": [
    "task_rbf(niter=500, ncent=12, svm='svr')"
   ]
  },
  {
   "cell_type": "markdown",
   "metadata": {},
   "source": [
    "## Task 16-18"
   ]
  },
  {
   "cell_type": "code",
   "execution_count": 34,
   "metadata": {},
   "outputs": [],
   "source": [
    "def task_reg_rbf(niter, ncent1, ncent2, gamma1, gamma2):\n",
    "    i = nonsep_cnt = 0\n",
    "    ei_up_cnt = ei_dn_cnt = eo_up_cnt = eo_dn_cnt = 0\n",
    "    ei1_0_cnt = ei2_0_cnt = 0\n",
    "    all_ei1, all_eo1 = [], []\n",
    "    all_ei2, all_eo2 = [], []\n",
    "\n",
    "    while i < niter:\n",
    "        x_train, y_train, x_test, y_test = make_sets()\n",
    "        centers1, labels1 = my_split(x_train, ncent1)\n",
    "        if empty_clusters(ncent1, labels1):\n",
    "            continue\n",
    "        centers2, labels2 = my_split(x_train, ncent2)\n",
    "        if empty_clusters(ncent2, labels2):\n",
    "            continue\n",
    "        w1 = reg_rbf_weights(x_train, y_train, centers1, gamma1)\n",
    "        w2 = reg_rbf_weights(x_train, y_train, centers2, gamma2)\n",
    "        reg1_train = reg_rbf_predict(x_train, w1, centers1, gamma1)\n",
    "        reg2_train = reg_rbf_predict(x_train, w2, centers2, gamma2)\n",
    "        reg1_test = reg_rbf_predict(x_test, w1, centers1, gamma1)\n",
    "        reg2_test = reg_rbf_predict(x_test, w2, centers2, gamma2)\n",
    "        ei1 = err_of(reg1_train, y_train)\n",
    "        ei2 = err_of(reg2_train, y_train)\n",
    "        eo1 = err_of(reg1_test, y_test)\n",
    "        eo2 = err_of(reg2_test, y_test)\n",
    "\n",
    "        all_ei1.append(ei1)\n",
    "        all_ei2.append(ei2)\n",
    "        all_eo1.append(eo1)\n",
    "        all_eo2.append(eo2)\n",
    "\n",
    "        if ei2 > ei1:  ei_up_cnt += 1\n",
    "        if ei2 < ei1:  ei_dn_cnt += 1\n",
    "        if eo2 > eo1:  eo_up_cnt += 1\n",
    "        if eo2 < eo1:  eo_dn_cnt += 1\n",
    "        if ei1 == 0:   ei1_0_cnt += 1\n",
    "        if ei2 == 0:   ei2_0_cnt += 1\n",
    "\n",
    "        i += 1\n",
    "\n",
    "    return dict(niter=i,\n",
    "                ei1=np.mean(all_ei1)*100,\n",
    "                eo1=np.mean(all_eo1)*100,\n",
    "                ei2=np.mean(all_ei2)*100,\n",
    "                eo2=np.mean(all_eo2)*100,\n",
    "                ei_up_pc=ei_up_cnt/i*100,\n",
    "                ei_dn_pc=ei_dn_cnt/i*100,\n",
    "                eo_up_pc=eo_up_cnt/i*100,\n",
    "                eo_dn_pc=eo_dn_cnt/i*100,\n",
    "                ei1_0_pc=ei1_0_cnt/i*100,\n",
    "                ei2_0_pc=ei2_0_cnt/i*100,)"
   ]
  },
  {
   "cell_type": "markdown",
   "metadata": {},
   "source": [
    "#### Task 16"
   ]
  },
  {
   "cell_type": "code",
   "execution_count": 35,
   "metadata": {},
   "outputs": [
    {
     "data": {
      "text/plain": [
       "{'ei1': 3.61900,\n",
       " 'ei1_0_pc': 2.70000,\n",
       " 'ei2': 2.25150,\n",
       " 'ei2_0_pc': 9.50000,\n",
       " 'ei_dn_pc': 65.60000,\n",
       " 'ei_up_pc': 13.55000,\n",
       " 'eo1': 5.49550,\n",
       " 'eo2': 4.40275,\n",
       " 'eo_dn_pc': 74.00000,\n",
       " 'eo_up_pc': 24.10000,\n",
       " 'niter': 2000}"
      ]
     },
     "execution_count": 35,
     "metadata": {},
     "output_type": "execute_result"
    }
   ],
   "source": [
    "task_reg_rbf(niter=2000, ncent1=9, ncent2=12, gamma1=1.5, gamma2=1.5)"
   ]
  },
  {
   "cell_type": "markdown",
   "metadata": {},
   "source": [
    "#### Task 17"
   ]
  },
  {
   "cell_type": "code",
   "execution_count": 36,
   "metadata": {},
   "outputs": [
    {
     "data": {
      "text/plain": [
       "{'ei1': 3.64225,\n",
       " 'ei1_0_pc': 2.90000,\n",
       " 'ei2': 4.08250,\n",
       " 'ei2_0_pc': 1.67500,\n",
       " 'ei_dn_pc': 30.22500,\n",
       " 'ei_up_pc': 46.70000,\n",
       " 'eo1': 5.59690,\n",
       " 'eo2': 6.06100,\n",
       " 'eo_dn_pc': 38.05000,\n",
       " 'eo_up_pc': 59.70000,\n",
       " 'niter': 4000}"
      ]
     },
     "execution_count": 36,
     "metadata": {},
     "output_type": "execute_result"
    }
   ],
   "source": [
    "task_reg_rbf(niter=4000, ncent1=9, ncent2=9, gamma1=1.5, gamma2=2)"
   ]
  },
  {
   "cell_type": "markdown",
   "metadata": {},
   "source": [
    "#### Task 18 ???"
   ]
  },
  {
   "cell_type": "code",
   "execution_count": 37,
   "metadata": {},
   "outputs": [
    {
     "data": {
      "text/plain": [
       "{'ei1': 3.63800,\n",
       " 'ei1_0_pc': 2.77500,\n",
       " 'ei2': 3.62775,\n",
       " 'ei2_0_pc': 3.32500,\n",
       " 'ei_dn_pc': 36.67500,\n",
       " 'ei_up_pc': 36.60000,\n",
       " 'eo1': 5.54830,\n",
       " 'eo2': 5.57563,\n",
       " 'eo_dn_pc': 47.82500,\n",
       " 'eo_up_pc': 49.70000,\n",
       " 'niter': 4000}"
      ]
     },
     "execution_count": 37,
     "metadata": {},
     "output_type": "execute_result"
    }
   ],
   "source": [
    "task_reg_rbf(niter=4000, ncent1=9, ncent2=9, gamma1=1.5, gamma2=1.5)"
   ]
  },
  {
   "cell_type": "markdown",
   "metadata": {},
   "source": [
    "-----"
   ]
  }
 ],
 "metadata": {
  "kernelspec": {
   "display_name": "Python [conda env:py35]",
   "language": "python",
   "name": "conda-env-py35-py"
  },
  "language_info": {
   "codemirror_mode": {
    "name": "ipython",
    "version": 3
   },
   "file_extension": ".py",
   "mimetype": "text/x-python",
   "name": "python",
   "nbconvert_exporter": "python",
   "pygments_lexer": "ipython3",
   "version": "3.5.4"
  }
 },
 "nbformat": 4,
 "nbformat_minor": 2
}
