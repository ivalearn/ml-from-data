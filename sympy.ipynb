{
 "cells": [
  {
   "cell_type": "code",
   "execution_count": 1,
   "metadata": {},
   "outputs": [],
   "source": [
    "import sympy as sy\n",
    "from sympy import *\n",
    "sy.init_printing()"
   ]
  },
  {
   "cell_type": "markdown",
   "metadata": {},
   "source": [
    "# Week 5, Problem 3: Gradient descent"
   ]
  },
  {
   "cell_type": "code",
   "execution_count": 7,
   "metadata": {},
   "outputs": [
    {
     "data": {
      "image/png": "[encoded data removed]",
      "text/latex": [
       "$$\\left(u e^{v} - 2 v e^{- u}\\right)^{2}$$"
      ],
      "text/plain": [
       "                2\n",
       "⎛   v        -u⎞ \n",
       "⎝u⋅ℯ  - 2⋅v⋅ℯ  ⎠ "
      ]
     },
     "execution_count": 7,
     "metadata": {},
     "output_type": "execute_result"
    }
   ],
   "source": [
    "u,v = symbols('u v')\n",
    "e = (u * exp(v) - 2 * v * exp(-u)) ** 2\n",
    "e"
   ]
  },
  {
   "cell_type": "code",
   "execution_count": 8,
   "metadata": {},
   "outputs": [
    {
     "data": {
      "image/png": "[encoded data removed]",
      "text/latex": [
       "$$\\left(u e^{v} - 2 v e^{- u}\\right) \\left(4 v e^{- u} + 2 e^{v}\\right)$$"
      ],
      "text/plain": [
       "⎛   v        -u⎞ ⎛     -u      v⎞\n",
       "⎝u⋅ℯ  - 2⋅v⋅ℯ  ⎠⋅⎝4⋅v⋅ℯ   + 2⋅ℯ ⎠"
      ]
     },
     "execution_count": 8,
     "metadata": {},
     "output_type": "execute_result"
    }
   ],
   "source": [
    "diff(e,u)"
   ]
  },
  {
   "cell_type": "code",
   "execution_count": 9,
   "metadata": {},
   "outputs": [
    {
     "data": {
      "image/png": "[encoded data removed]",
      "text/latex": [
       "$$\\left(u e^{v} - 2 v e^{- u}\\right) \\left(2 u e^{v} - 4 e^{- u}\\right)$$"
      ],
      "text/plain": [
       "⎛   v        -u⎞ ⎛     v      -u⎞\n",
       "⎝u⋅ℯ  - 2⋅v⋅ℯ  ⎠⋅⎝2⋅u⋅ℯ  - 4⋅ℯ  ⎠"
      ]
     },
     "execution_count": 9,
     "metadata": {},
     "output_type": "execute_result"
    }
   ],
   "source": [
    "diff(e,v)"
   ]
  },
  {
   "cell_type": "markdown",
   "metadata": {},
   "source": [
    "# Week 7, Problem 7: Cross-Validation"
   ]
  },
  {
   "cell_type": "code",
   "execution_count": 2,
   "metadata": {},
   "outputs": [
    {
     "data": {
      "image/png": "[encoded data removed]",
      "text/latex": [
       "$$\\left(\\frac{r}{- r + 1} + 1 + \\frac{1}{- r + 1}\\right)^{2} + 1 + \\frac{4}{\\left(r + 1\\right)^{2}} = \\frac{3}{2}$$"
      ],
      "text/plain": [
       "                     2                     \n",
       "⎛  r            1   ⎞           4          \n",
       "⎜────── + 1 + ──────⎟  + 1 + ──────── = 3/2\n",
       "⎝-r + 1       -r + 1⎠               2      \n",
       "                             (r + 1)       "
      ]
     },
     "execution_count": 2,
     "metadata": {},
     "output_type": "execute_result"
    }
   ],
   "source": [
    "# we've got three points\n",
    "r = symbols('r', real=True, positive=True)\n",
    "p0,p1,p2 = (-1,0), (r,1), (1,0)\n",
    "\n",
    "# approximate with constant: h0(x)=b\n",
    "def e0(p1,p2,p3):\n",
    "    x1,y1 = p1; x2,y2 = p2; x3,y3 = p3\n",
    "    # b is in the average of p1,p2\n",
    "    b = (y1+y2) / S(2)\n",
    "    # cross-validation error on p3\n",
    "    e = (b-y3)**2\n",
    "    return e\n",
    "\n",
    "# approximate with line: h1(x)=ax+b\n",
    "def e1(p1,p2,p3):\n",
    "    x1,y1 = p1; x2,y2 = p2; x3,y3 = p3\n",
    "    # find a,b\n",
    "    a = (y2-y1) / (x2-x1)\n",
    "    b = y1-a*x1\n",
    "    # find h(x3)\n",
    "    h3 = a*x3+b\n",
    "    # cross validation error on p3\n",
    "    e = (h3-y3)**2\n",
    "    return e\n",
    "\n",
    "# total cross-validation error for h0\n",
    "cv0 = e0(p0,p1,p2)+e0(p1,p2,p0)+e0(p2,p0,p1)\n",
    "\n",
    "# total cross-validation error for h1\n",
    "cv1 = e1(p0,p1,p2)+e1(p1,p2,p0)+e1(p2,p0,p1)\n",
    "\n",
    "# solve equation for tie-point\n",
    "eq = Eq(cv1, cv0)\n",
    "res = solve(eq)\n",
    "eq"
   ]
  },
  {
   "cell_type": "code",
   "execution_count": 5,
   "metadata": {},
   "outputs": [
    {
     "data": {
      "image/png": "[encoded data removed]",
      "text/latex": [
       "$$\\left [ \\sqrt{9 + 4 \\sqrt{6}}\\right ]$$"
      ],
      "text/plain": [
       "⎡  __________⎤\n",
       "⎣╲╱ 9 + 4⋅√6 ⎦"
      ]
     },
     "execution_count": 5,
     "metadata": {},
     "output_type": "execute_result"
    }
   ],
   "source": [
    "res"
   ]
  },
  {
   "cell_type": "code",
   "execution_count": 6,
   "metadata": {},
   "outputs": [
    {
     "data": {
      "image/png": "[encoded data removed]",
      "text/latex": [
       "$$4.3357$$"
      ],
      "text/plain": [
       "4.3357"
      ]
     },
     "execution_count": 6,
     "metadata": {},
     "output_type": "execute_result"
    }
   ],
   "source": [
    "res[0].n(5)"
   ]
  }
 ],
 "metadata": {
  "kernelspec": {
   "display_name": "Python [conda env:py35]",
   "language": "python",
   "name": "conda-env-py35-py"
  },
  "language_info": {
   "codemirror_mode": {
    "name": "ipython",
    "version": 3
   },
   "file_extension": ".py",
   "mimetype": "text/x-python",
   "name": "python",
   "nbconvert_exporter": "python",
   "pygments_lexer": "ipython3",
   "version": "3.5.4"
  }
 },
 "nbformat": 4,
 "nbformat_minor": 1
}
