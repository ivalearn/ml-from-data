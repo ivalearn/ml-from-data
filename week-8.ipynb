{
 "cells": [
  {
   "cell_type": "markdown",
   "metadata": {},
   "source": [
    "### Settings and Imports"
   ]
  },
  {
   "cell_type": "code",
   "execution_count": 1,
   "metadata": {},
   "outputs": [],
   "source": [
    "import numpy as np\n",
    "import numpy.linalg as lin\n",
    "import numpy.random as rnd\n",
    "import scipy as sp\n",
    "import scipy.optimize as opt\n",
    "import matplotlib as mpl\n",
    "import matplotlib.pyplot as plt\n",
    "import random\n",
    "\n",
    "from sklearn import svm\n",
    "from sklearn.model_selection import RepeatedKFold\n",
    "\n",
    "%matplotlib inline\n",
    "%precision 4\n",
    "np.set_printoptions(precision=3)"
   ]
  },
  {
   "cell_type": "markdown",
   "metadata": {},
   "source": [
    "## Prepare tests"
   ]
  },
  {
   "cell_type": "code",
   "execution_count": 2,
   "metadata": {},
   "outputs": [],
   "source": [
    "data_train = np.loadtxt(\"features.train.txt\")\n",
    "x_train, f_train = data_train[:, 1:], data_train[:, 0]\n",
    "data_test = np.loadtxt(\"features.test.txt\")\n",
    "x_test, f_test = data_test[:, 1:], data_test[:, 0]"
   ]
  },
  {
   "cell_type": "code",
   "execution_count": 3,
   "metadata": {},
   "outputs": [],
   "source": [
    "# test arrays for \"1 vs 5\" tests\n",
    "\n",
    "def select_vals15(x, f, val1=1, val2=5):\n",
    "    cond = np.logical_or(f == val1, f == val2)\n",
    "    x_sel, f_sel = x[cond], f[cond]\n",
    "    y_sel = np.where(f_sel == val1, [1.], [-1.])\n",
    "    return x_sel.copy(), y_sel.copy()\n",
    "\n",
    "x_train15, y_train15 = select_vals15(x_train, f_train, 1, 5)\n",
    "x_test15, y_test15 = select_vals15(x_test, f_test, 1, 5)"
   ]
  },
  {
   "cell_type": "markdown",
   "metadata": {},
   "source": [
    "## SKLEARN"
   ]
  },
  {
   "cell_type": "code",
   "execution_count": 4,
   "metadata": {},
   "outputs": [],
   "source": [
    "# tasks 2,3,4\n",
    "def val_vs_all(f_val, Q=2, C=0.01):\n",
    "    y_train = np.where(f_train == f_val, [1.], [-1.])\n",
    "    svc = svm.SVC(C=C, kernel='poly', degree=Q, gamma=1, coef0=1)\n",
    "    svc.fit(x_train, y_train)\n",
    "    nsv = svc.n_support_.sum()\n",
    "    ein = np.mean(svc.predict(x_train) != y_train)\n",
    "    print('val={:d} C={:.0e} Q={:d} ein={:.4f} nsv={:<3d}'\n",
    "          .format(f_val, C, Q, ein, nsv))\n",
    "    return dict(val=f_val, C=C, Q=Q, nsv=nsv, ein=ein)"
   ]
  },
  {
   "cell_type": "code",
   "execution_count": 5,
   "metadata": {},
   "outputs": [
    {
     "name": "stdout",
     "output_type": "stream",
     "text": [
      "val=0 C=1e-02 Q=2 ein=0.1059 nsv=2179\n",
      "val=2 C=1e-02 Q=2 ein=0.1003 nsv=1970\n",
      "val=4 C=1e-02 Q=2 ein=0.0894 nsv=1856\n",
      "val=6 C=1e-02 Q=2 ein=0.0911 nsv=1893\n",
      "val=8 C=1e-02 Q=2 ein=0.0743 nsv=1776\n"
     ]
    }
   ],
   "source": [
    "task2_res = {val: val_vs_all(val) for val in (0,2,4,6,8)}"
   ]
  },
  {
   "cell_type": "code",
   "execution_count": 6,
   "metadata": {},
   "outputs": [
    {
     "data": {
      "text/plain": [
       "(0.1059, 0)"
      ]
     },
     "execution_count": 6,
     "metadata": {},
     "output_type": "execute_result"
    }
   ],
   "source": [
    "# task 2  <a>\n",
    "max((d['ein'],v) for v,d in task2_res.items())"
   ]
  },
  {
   "cell_type": "code",
   "execution_count": 7,
   "metadata": {},
   "outputs": [
    {
     "name": "stdout",
     "output_type": "stream",
     "text": [
      "val=1 C=1e-02 Q=2 ein=0.0144 nsv=386\n",
      "val=3 C=1e-02 Q=2 ein=0.0902 nsv=1950\n",
      "val=5 C=1e-02 Q=2 ein=0.0763 nsv=1585\n",
      "val=7 C=1e-02 Q=2 ein=0.0885 nsv=1704\n",
      "val=9 C=1e-02 Q=2 ein=0.0883 nsv=1978\n"
     ]
    }
   ],
   "source": [
    "task3_res = {val: val_vs_all(val) for val in (1,3,5,7,9)}"
   ]
  },
  {
   "cell_type": "code",
   "execution_count": 8,
   "metadata": {},
   "outputs": [
    {
     "data": {
      "text/plain": [
       "(0.0144, 1)"
      ]
     },
     "execution_count": 8,
     "metadata": {},
     "output_type": "execute_result"
    }
   ],
   "source": [
    "# task 3  <a>\n",
    "min((d['ein'],v) for v,d in task3_res.items())"
   ]
  },
  {
   "cell_type": "code",
   "execution_count": 9,
   "metadata": {},
   "outputs": [
    {
     "data": {
      "text/plain": [
       "1793"
      ]
     },
     "execution_count": 9,
     "metadata": {},
     "output_type": "execute_result"
    }
   ],
   "source": [
    "# task 4  <c>\n",
    "task2_res[0]['nsv'] - task3_res[1]['nsv']"
   ]
  },
  {
   "cell_type": "code",
   "execution_count": 10,
   "metadata": {},
   "outputs": [],
   "source": [
    "# tasks 5,6\n",
    "def run_sel15(Q, C):\n",
    "    svc = svm.SVC(C=C, kernel='poly', degree=Q, gamma=1, coef0=1)\n",
    "    svc.fit(x_train15, y_train15)\n",
    "    ein = np.mean(svc.predict(x_train15) != y_train15)\n",
    "    eout = np.mean(svc.predict(x_test15) != y_test15)\n",
    "    nsv = svc.n_support_.sum()\n",
    "    print('C={:.0e} Q={:d} ein={:.4f} eout={:.4f} nsv={:<3d}'\n",
    "          .format(C, Q, ein, eout, nsv))\n",
    "    return dict(C=C, Q=Q, nsv=nsv, ein=ein, eout=eout)"
   ]
  },
  {
   "cell_type": "code",
   "execution_count": 11,
   "metadata": {},
   "outputs": [
    {
     "name": "stdout",
     "output_type": "stream",
     "text": [
      "C=1e-03 Q=2 ein=0.0045 eout=0.0165 nsv=76 \n",
      "C=1e-02 Q=2 ein=0.0045 eout=0.0189 nsv=34 \n",
      "C=1e-01 Q=2 ein=0.0045 eout=0.0189 nsv=24 \n",
      "C=1e+00 Q=2 ein=0.0032 eout=0.0189 nsv=24 \n"
     ]
    }
   ],
   "source": [
    "# task 5  <d>\n",
    "task5_sel = [run_sel15(Q=2, C=C) for C in (0.001, 0.01, 0.1, 1)]"
   ]
  },
  {
   "cell_type": "code",
   "execution_count": 12,
   "metadata": {},
   "outputs": [
    {
     "name": "stdout",
     "output_type": "stream",
     "text": [
      "C=1e-04 Q=2 ein=0.0090 eout=0.0165 nsv=236\n",
      "C=1e-04 Q=5 ein=0.0045 eout=0.0189 nsv=26 \n",
      "C=1e-03 Q=2 ein=0.0045 eout=0.0165 nsv=76 \n",
      "C=1e-03 Q=5 ein=0.0045 eout=0.0212 nsv=25 \n",
      "C=1e-02 Q=2 ein=0.0045 eout=0.0189 nsv=34 \n",
      "C=1e-02 Q=5 ein=0.0038 eout=0.0212 nsv=23 \n",
      "C=1e+00 Q=2 ein=0.0032 eout=0.0189 nsv=24 \n",
      "C=1e+00 Q=5 ein=0.0032 eout=0.0212 nsv=21 \n"
     ]
    }
   ],
   "source": [
    "# task 6  <b>\n",
    "task6_sel = [run_sel15(Q=Q, C=C) for C in (0.0001, 0.001, 0.01, 1) for Q in (2,5)]"
   ]
  },
  {
   "cell_type": "code",
   "execution_count": 13,
   "metadata": {},
   "outputs": [
    {
     "name": "stdout",
     "output_type": "stream",
     "text": [
      "C=0.0001 Ecv=0.00983 Nc=0  \n",
      "C=0.0010 Ecv=0.00482 Nc=28 \n",
      "C=0.0100 Ecv=0.00470 Nc=35 \n",
      "C=0.1000 Ecv=0.00481 Nc=24 \n",
      "C=1.0000 Ecv=0.00489 Nc=13 \n"
     ]
    }
   ],
   "source": [
    "def task_7_8(n_runs=10, n_folds=10, random_seed=None):\n",
    "    x_all, y_all = x_train15, y_train15\n",
    "    Q = 2\n",
    "    c_all = [0.0001, 0.001, 0.01, 0.1, 1]\n",
    "    c_count = {c:0  for c in c_all}\n",
    "    c_ecv   = {c:[] for c in c_all}\n",
    "\n",
    "    rkfold = RepeatedKFold(n_splits=n_folds,\n",
    "                           n_repeats=n_runs*len(c_all),\n",
    "                           random_state=random_seed)\n",
    "    split_iter = rkfold.split(list(range(x_all.shape[0])))\n",
    "\n",
    "    for run_i in range(n_runs):\n",
    "        c_min, ecv_min = None, np.inf\n",
    "        for c in c_all:\n",
    "            ecv_for_splits = []\n",
    "            for split_i in range(n_folds):\n",
    "                train_idx, test_idx = next(split_iter)\n",
    "                x_train, x_test = x_all[train_idx], x_all[test_idx]\n",
    "                y_train, y_test = y_all[train_idx], y_all[test_idx]\n",
    "                svc = svm.SVC(C=c, kernel='poly', degree=Q, gamma=1, coef0=1)\n",
    "                svc.fit(x_train, y_train)\n",
    "                ecv = np.mean(svc.predict(x_test) != y_test)\n",
    "                c_ecv[c].append(ecv)\n",
    "                ecv_for_splits.append(ecv)\n",
    "            ecv_avg = np.mean(ecv_for_splits)\n",
    "            if ecv_avg < ecv_min:\n",
    "                c_min, ecv_min = c, ecv_avg\n",
    "        c_count[c_min] += 1\n",
    "    for c in c_all:\n",
    "        print('C={:.4f} Ecv={:.5f} Nc={:<3d}'\n",
    "              .format(c, np.mean(c_ecv[c]), c_count[c]))\n",
    "\n",
    "task_7_8(n_runs=100, random_seed=4913)\n",
    "# task 7  <c> !!!\n",
    "# task 8  <c>"
   ]
  },
  {
   "cell_type": "code",
   "execution_count": 14,
   "metadata": {},
   "outputs": [
    {
     "name": "stdout",
     "output_type": "stream",
     "text": [
      "C=1e-02 ein=0.0038 eout=0.0236\n",
      "C=1e+00 ein=0.0045 eout=0.0212\n",
      "C=1e+02 ein=0.0032 eout=0.0189\n",
      "C=1e+04 ein=0.0026 eout=0.0236\n",
      "C=1e+06 ein=0.0006 eout=0.0236\n"
     ]
    }
   ],
   "source": [
    "def task_9_10():\n",
    "    for C in (0.01, 1, 100, 1e4, 1e6):\n",
    "        svc = svm.SVC(C=C, kernel='rbf', gamma=1)\n",
    "        svc.fit(x_train15, y_train15)\n",
    "        ein = np.mean(svc.predict(x_train15) != y_train15)\n",
    "        eout = np.mean(svc.predict(x_test15) != y_test15)\n",
    "        print('C={:1.0e} ein={:.4f} eout={:.4f}'.format(C, ein, eout))\n",
    "task_9_10()\n",
    "# task 9   <e>\n",
    "# task 10  <c>"
   ]
  },
  {
   "cell_type": "markdown",
   "metadata": {},
   "source": [
    "## TODO: CVXPY"
   ]
  },
  {
   "cell_type": "code",
   "execution_count": 15,
   "metadata": {},
   "outputs": [],
   "source": [
    "import cvxpy\n",
    "\n",
    "def svm_cvxpy_dual(x, y, verbose=False):\n",
    "    from cvxpy import Variable, Problem, Minimize\n",
    "    from cvxpy import sum_entries, quad_form\n",
    "\n",
    "    atol = 1e-6\n",
    "    n = len(x)\n",
    "    yx = y[:,None] * x\n",
    "    K = yx @ yx.T     # a.T*K*a == quad_form(a,K)\n",
    "    a = Variable(n)   # alphas\n",
    "    objective = Minimize(0.5 * quad_form(a, K) - sum_entries(a))\n",
    "    constraints = [a >= 0, y.T @ a == 0]\n",
    "    qp = Problem(objective, constraints)\n",
    "    qp.solve(verbose=verbose)\n",
    "\n",
    "    aval = np.array(a.value).squeeze(1)\n",
    "    cond = np.abs(aval) > atol\n",
    "    w_ = np.sum(x * (aval * y)[:,None], axis=0)\n",
    "    b_ = (y - x @ w_)[cond]\n",
    "    w = np.hstack((b_[0], w_))\n",
    "    idx = list(cond.nonzero()[0])\n",
    "    sv = x[idx]\n",
    "    sv_y = sv @ w_ + b_\n",
    "\n",
    "    return dict(status=qp.status, ok=(qp.status == 'optimal'),\n",
    "                weights=w, alphas=aval[cond], atol=atol,\n",
    "                n_sv=len(idx), sv_i=idx, sv=sv, sv_y=sv_y)"
   ]
  },
  {
   "cell_type": "markdown",
   "metadata": {},
   "source": [
    "## TODO: CVXOPT"
   ]
  },
  {
   "cell_type": "code",
   "execution_count": 16,
   "metadata": {},
   "outputs": [],
   "source": [
    "import cvxopt\n",
    "\n",
    "def svm_cvxopt_dual(x, y, verbose=False):\n",
    "    from cvxopt import matrix, solvers\n",
    "\n",
    "    atol = 1e-6\n",
    "    n = x.shape[0]\n",
    "    y_ = y[:, None]\n",
    "    yx = y_ * x\n",
    "    K = yx @ yx.T\n",
    "\n",
    "    P = matrix(K)\n",
    "    q = matrix(-np.ones([n,1]))\n",
    "    G = matrix(-np.eye(n))\n",
    "    h = matrix(np.zeros(n))\n",
    "    A = matrix(y_.T)\n",
    "    b = matrix(np.zeros(1))\n",
    "\n",
    "    solvers.options['show_progress'] = verbose\n",
    "    qp = solvers.qp(P, q, G, h, A, b)\n",
    "\n",
    "    assert qp['x'].size == (n, 1)\n",
    "    aval = np.array(qp['x']).squeeze(1)       # alphas\n",
    "    cond = np.abs(aval) > atol\n",
    "    w_ = np.sum(x * (aval * y)[:,None], axis=0)\n",
    "    b_ = (y - x @ w_)[cond]\n",
    "    w = np.hstack([b_[0], w_])\n",
    "    idx = list(cond.nonzero()[0])\n",
    "    sv = x[idx]\n",
    "    sv_y = sv @ w_ + b_\n",
    "\n",
    "    return dict(status=qp['status'], ok=(qp['status'] == 'optimal'),\n",
    "                weights=w, alphas=aval[cond], atol=atol,\n",
    "                n_sv=len(idx), sv_i=idx, sv=sv, sv_y=sv_y)"
   ]
  }
 ],
 "metadata": {
  "kernelspec": {
   "display_name": "Python [conda env:py35]",
   "language": "python",
   "name": "conda-env-py35-py"
  },
  "language_info": {
   "codemirror_mode": {
    "name": "ipython",
    "version": 3
   },
   "file_extension": ".py",
   "mimetype": "text/x-python",
   "name": "python",
   "nbconvert_exporter": "python",
   "pygments_lexer": "ipython3",
   "version": "3.5.4"
  }
 },
 "nbformat": 4,
 "nbformat_minor": 2
}
