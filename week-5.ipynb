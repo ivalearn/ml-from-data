{
 "cells": [
  {
   "cell_type": "code",
   "execution_count": 1,
   "metadata": {},
   "outputs": [],
   "source": [
    "%matplotlib inline\n",
    "import matplotlib.pyplot as plt\n",
    "import numpy as np\n",
    "import numpy.random as rnd\n",
    "import numpy.linalg as lin\n",
    "import scipy as sp\n",
    "import scipy.optimize as opt\n",
    "import random\n",
    "import time\n",
    "from numpy import exp, log\n",
    "from numba.decorators import jit"
   ]
  },
  {
   "cell_type": "code",
   "execution_count": 2,
   "metadata": {},
   "outputs": [],
   "source": [
    "%precision 3\n",
    "np.set_printoptions(precision=3)"
   ]
  },
  {
   "cell_type": "markdown",
   "metadata": {},
   "source": [
    "# Gradient Descent\n",
    "## Tasks 4,5,6,7"
   ]
  },
  {
   "cell_type": "code",
   "execution_count": 3,
   "metadata": {},
   "outputs": [],
   "source": [
    "def E_du_dv(u, v, eta):\n",
    "    ww = (u * exp(v) - 2 * v * exp(-u))\n",
    "    E = ww ** 2\n",
    "    Eu = 2 * ww * (exp(v) + 2 * v * exp(-u))\n",
    "    Ev = 2 * ww * (u * exp(v) - 2 * exp(-u))\n",
    "    du, dv = -eta * Eu, -eta * Ev\n",
    "    return E, du, dv"
   ]
  },
  {
   "cell_type": "code",
   "execution_count": 4,
   "metadata": {},
   "outputs": [
    {
     "name": "stdout",
     "output_type": "stream",
     "text": [
      " 0 -> (u,v) = (1.000, 1.000) E = 3.9e+00\n",
      " 1 -> (u,v) = (-0.370, 0.214) E = 1.2e+00\n",
      " 2 -> (u,v) = (0.031, -0.508) E = 1.0e+00\n",
      " 3 -> (u,v) = (0.108, -0.122) E = 9.9e-02\n",
      " 4 -> (u,v) = (0.066, -0.015) E = 8.7e-03\n",
      " 5 -> (u,v) = (0.048, 0.018) E = 1.8e-04\n",
      " 6 -> (u,v) = (0.045, 0.023) E = 1.3e-06\n",
      " 7 -> (u,v) = (0.045, 0.024) E = 7.3e-09\n",
      " 8 -> (u,v) = (0.045, 0.024) E = 4.0e-11\n",
      " 9 -> (u,v) = (0.045, 0.024) E = 2.2e-13\n",
      "10 -> (u,v) = (0.045, 0.024) E = 1.2e-15\n"
     ]
    },
    {
     "data": {
      "text/plain": [
       "(0.045, 0.024, 10)"
      ]
     },
     "execution_count": 4,
     "metadata": {},
     "output_type": "execute_result"
    }
   ],
   "source": [
    "def task4():\n",
    "    u,v = 1,1\n",
    "    eta = 0.1\n",
    "    Ethreshold = 1e-14\n",
    "    step = 0\n",
    "    while True:\n",
    "        E, du, dv = E_du_dv(u, v, eta)\n",
    "        print('{:2d} -> (u,v) = ({:.3f}, {:.3f}) E = {:.1e}'.format(step, u, v, E))\n",
    "        if E < Ethreshold:  break\n",
    "        u,v = u+du, v+dv\n",
    "        step += 1\n",
    "    return u,v,step\n",
    "task4()"
   ]
  },
  {
   "cell_type": "code",
   "execution_count": 5,
   "metadata": {},
   "outputs": [
    {
     "name": "stdout",
     "output_type": "stream",
     "text": [
      " 0 -> (u,v) = (1.000, 1.000) E = 3.9e+00\n",
      " 1 -> (u,v) = (-0.370, 0.214) E = 1.2e+00\n",
      " 2 -> (u,v) = (0.031, -0.508) E = 1.0e+00\n",
      " 3 -> (u,v) = (0.108, -0.122) E = 9.9e-02\n",
      " 4 -> (u,v) = (0.066, -0.015) E = 8.7e-03\n",
      " 5 -> (u,v) = (0.048, 0.018) E = 1.8e-04\n",
      " 6 -> (u,v) = (0.045, 0.023) E = 1.3e-06\n",
      " 7 -> (u,v) = (0.045, 0.024) E = 7.3e-09\n",
      " 8 -> (u,v) = (0.045, 0.024) E = 4.0e-11\n",
      " 9 -> (u,v) = (0.045, 0.024) E = 2.2e-13\n",
      "10 -> (u,v) = (0.045, 0.024) E = 1.2e-15\n",
      "11 -> (u,v) = (0.045, 0.024) E = 6.6e-18\n",
      "12 -> (u,v) = (0.045, 0.024) E = 3.6e-20\n",
      "13 -> (u,v) = (0.045, 0.024) E = 2.0e-22\n",
      "14 -> (u,v) = (0.045, 0.024) E = 1.1e-24\n",
      "15 -> (u,v) = (0.045, 0.024) E = 6.0e-27\n"
     ]
    }
   ],
   "source": [
    "def task4b():\n",
    "    u,v = 1,1\n",
    "    eta = 0.1\n",
    "    for step in range(16):\n",
    "        E, du, dv = E_du_dv(u, v, eta)\n",
    "        print('{:2d} -> (u,v) = ({:.3f}, {:.3f}) E = {:.1e}'.format(step, u, v, E))\n",
    "        u,v = u+du, v+dv\n",
    "task4b()"
   ]
  },
  {
   "cell_type": "code",
   "execution_count": 6,
   "metadata": {},
   "outputs": [
    {
     "name": "stdout",
     "output_type": "stream",
     "text": [
      " 0 -> (u,v) = (1.000, 1.000) E = 3.9e+00\n",
      " 1 -> (u,v) = (-0.370, -2.040) E = 3.4e+01\n",
      " 2 -> (u,v) = (6.392, -2.179) E = 5.3e-01\n",
      " 3 -> (u,v) = (6.377, -2.283) E = 4.3e-01\n",
      " 4 -> (u,v) = (6.365, -2.368) E = 3.7e-01\n",
      " 5 -> (u,v) = (6.354, -2.440) E = 3.2e-01\n",
      " 6 -> (u,v) = (6.345, -2.501) E = 2.8e-01\n",
      " 7 -> (u,v) = (6.338, -2.556) E = 2.5e-01\n",
      " 8 -> (u,v) = (6.331, -2.605) E = 2.3e-01\n",
      " 9 -> (u,v) = (6.325, -2.649) E = 2.1e-01\n",
      "10 -> (u,v) = (6.319, -2.689) E = 1.9e-01\n",
      "11 -> (u,v) = (6.314, -2.727) E = 1.8e-01\n",
      "12 -> (u,v) = (6.309, -2.761) E = 1.7e-01\n",
      "13 -> (u,v) = (6.305, -2.794) E = 1.6e-01\n",
      "14 -> (u,v) = (6.301, -2.824) E = 1.5e-01\n",
      "15 -> (u,v) = (6.297, -2.852) E = 1.4e-01\n",
      "E = 1.4e-01\n"
     ]
    },
    {
     "data": {
      "text/plain": [
       "0.140"
      ]
     },
     "execution_count": 6,
     "metadata": {},
     "output_type": "execute_result"
    }
   ],
   "source": [
    "def task7():\n",
    "    u,v = 1,1\n",
    "    eta = 0.1\n",
    "    for step in range(16):\n",
    "        E, _, _ = E_du_dv(u, v, eta)\n",
    "        print('{:2d} -> (u,v) = ({:.3f}, {:.3f}) E = {:.1e}'.format(step, u, v, E))\n",
    "        _, du, _ = E_du_dv(u, v, eta)\n",
    "        u += du\n",
    "        _, _, dv = E_du_dv(u, v, eta)\n",
    "        v += dv\n",
    "    print('E = %.1e' % E)\n",
    "    return E\n",
    "task7()"
   ]
  },
  {
   "cell_type": "markdown",
   "metadata": {},
   "source": [
    "# Logistic regression\n",
    "### Tasks 8,9"
   ]
  },
  {
   "cell_type": "code",
   "execution_count": 7,
   "metadata": {},
   "outputs": [],
   "source": [
    "def random_points(n, vmin=-1., vmax=+1.):\n",
    "    vec_xy = rnd.random_sample([n,2]) * (vmax-vmin) + vmin\n",
    "    return np.concatenate((np.ones([n,1]), vec_xy), axis=1)\n",
    "\n",
    "def random_line():\n",
    "    p = random_points(2)\n",
    "    a = (p[1,2] - p[0,1]) / (p[1,1] - p[0,1])\n",
    "    b = p[0,2] - a * p[0,1]\n",
    "    return np.array([-b, -a, 1.])"
   ]
  },
  {
   "cell_type": "code",
   "execution_count": 11,
   "metadata": {},
   "outputs": [
    {
     "data": {
      "text/plain": [
       "<matplotlib.collections.PathCollection at 0x36b61d1a20>"
      ]
     },
     "execution_count": 11,
     "metadata": {},
     "output_type": "execute_result"
    },
    {
     "data": {
      "image/png": "[encoded data removed]",
      "text/plain": [
       "<matplotlib.figure.Figure at 0x36b5a52198>"
      ]
     },
     "metadata": {},
     "output_type": "display_data"
    }
   ],
   "source": [
    "w_goal = random_line()\n",
    "x_samp = random_points(100)\n",
    "y_samp = np.sign(x_samp @ w_goal)\n",
    "x_many = random_points(1000)\n",
    "y_many = np.sign(x_many @ w_goal)\n",
    "assert (y_samp==0).sum() + (y_many==0).sum()==0\n",
    "plt.scatter(x_many[:,1], x_many[:,2], c=np.where(y_many>0, ['b'], ['r']), s=4)"
   ]
  },
  {
   "cell_type": "code",
   "execution_count": 19,
   "metadata": {},
   "outputs": [],
   "source": [
    "@jit\n",
    "def logreg_epoch_sum(perm_n, x, y, w, eta):\n",
    "    w0 = w\n",
    "    for n in perm_n:\n",
    "        xn, yn = x[n], y[n]\n",
    "        grad_n = -yn * xn / (1 + exp(yn * (xn @ w)))\n",
    "        w = w - eta * grad_n\n",
    "    return w - w0\n",
    "\n",
    "def logreg_run(x, y):\n",
    "    w_eps = 0.01\n",
    "    eta = 0.01\n",
    "    max_iter = 10000\n",
    "    w = np.zeros([3])\n",
    "    ok = False\n",
    "\n",
    "    N = len(x)\n",
    "    perm_n = list(range(N))\n",
    "\n",
    "    for step in range(max_iter):\n",
    "        random.shuffle(perm_n)\n",
    "        dw = logreg_epoch_sum(perm_n, x, y, w, eta)\n",
    "        if lin.norm(dw) < w_eps:\n",
    "            ok = True\n",
    "            break\n",
    "        w = w + dw\n",
    "    return ok, step, w\n",
    "\n",
    "def tasks_logreg(disp=False, shuffle=True, Nrun=100, Nsamp=100, x_all=None, y_all=None, w_tgt=None):\n",
    "    if x_all is None:\n",
    "        w_tgt = random_line()\n",
    "        x_all = random_points(1000)\n",
    "        y_all = np.sign(x_all @ w_tgt)\n",
    "        assert np.sum(y_all==0) == 0\n",
    "\n",
    "    Nall = len(x_all)\n",
    "    idx_all = list(range(Nall))\n",
    "\n",
    "    ok_ = np.empty(Nrun)\n",
    "    niter_ = np.empty(Nrun)\n",
    "    w_ = np.empty([Nrun,3])\n",
    "    eout_ = np.empty([Nrun])\n",
    "    time_0 = time.clock()\n",
    "\n",
    "    for i in range(Nrun):\n",
    "        if shuffle:\n",
    "            random.shuffle(idx_all)\n",
    "        x_s, y_s = x_all[idx_all[:Nsamp]], y_all[idx_all[:Nsamp]]\n",
    "        x_v, y_v = x_all[idx_all[Nsamp:]], y_all[idx_all[Nsamp:]]\n",
    "\n",
    "        ok_i, niter_i, w_i = logreg_run(x_s, y_s)\n",
    "\n",
    "        ok_[i] = ok_i\n",
    "        niter_[i] = niter_i\n",
    "        w_[i] = w_i / w_i[-1]\n",
    "        eout_[i] = log(exp(- x_v @ w_i * y_v) + 1).mean()\n",
    "\n",
    "        if i > 1:\n",
    "            ok_m, niter_m, eout_m = ok_[:i].mean(), niter_[:i].mean(), eout_[:i].mean()\n",
    "            w_m = w_[:i].mean(axis=0)\n",
    "            sec_left = (time.clock() - time_0) * (Nrun - i) / i\n",
    "        if i > 1 and i % 10 == 0 and disp:\n",
    "            print('{i:3d}: niter:{niter_m:.1f} eout:{eout_m:.3f} left:{sec_left:.0f}s'.format(**locals()))\n",
    "\n",
    "    return ok_m, niter_m, eout_m, w_m, w_tgt"
   ]
  },
  {
   "cell_type": "code",
   "execution_count": 20,
   "metadata": {},
   "outputs": [
    {
     "data": {
      "text/plain": [
       "(1.000,\n",
       " 367.071,\n",
       " 0.112,\n",
       " array([-0.209,  1.839,  1.   ]),\n",
       " array([-0.19 ,  1.747,  1.   ]))"
      ]
     },
     "execution_count": 20,
     "metadata": {},
     "output_type": "execute_result"
    }
   ],
   "source": [
    "tasks_logreg(x_all=x_many, y_all=y_many, w_tgt=w_goal)"
   ]
  },
  {
   "cell_type": "code",
   "execution_count": 21,
   "metadata": {},
   "outputs": [
    {
     "data": {
      "text/plain": [
       "(1.000,\n",
       " 383.081,\n",
       " 0.102,\n",
       " array([-0.214,  1.728,  1.   ]),\n",
       " array([-0.19 ,  1.747,  1.   ]))"
      ]
     },
     "execution_count": 21,
     "metadata": {},
     "output_type": "execute_result"
    }
   ],
   "source": [
    "tasks_logreg(shuffle=False, x_all=x_many, y_all=y_many, w_tgt=w_goal)"
   ]
  },
  {
   "cell_type": "code",
   "execution_count": 23,
   "metadata": {},
   "outputs": [
    {
     "data": {
      "text/plain": [
       "(1.000,\n",
       " 344.970,\n",
       " 0.095,\n",
       " array([ 0.411, -0.2  ,  1.   ]),\n",
       " array([ 0.417, -0.247,  1.   ]))"
      ]
     },
     "execution_count": 23,
     "metadata": {},
     "output_type": "execute_result"
    }
   ],
   "source": [
    "tasks_logreg()"
   ]
  },
  {
   "cell_type": "markdown",
   "metadata": {},
   "source": [
    "# PLA as SGD\n",
    "### Task 10"
   ]
  },
  {
   "cell_type": "code",
   "execution_count": 24,
   "metadata": {},
   "outputs": [],
   "source": [
    "def pla_run(x, y, normalize=False):\n",
    "    ok = False\n",
    "    w = np.zeros(3)\n",
    "    e_arr = []\n",
    "\n",
    "    for step in range(10000):\n",
    "        e = -y * (x @ w)  # <-- minimize this error function\n",
    "        e_arr.append(e.sum())\n",
    "        ei = np.where(e >= 0)[0]\n",
    "        if not ei.size:\n",
    "            ok = True\n",
    "            break\n",
    "        i = rnd.choice(ei)\n",
    "        w += y[i] * x[i]\n",
    "\n",
    "    if not ok:\n",
    "        step = -step\n",
    "    if normalize:\n",
    "        w /= w[-1]\n",
    "    return w, step, np.array(e_arr)\n",
    "\n",
    "def pla_test(x_samp, y_samp, x_ver=None, y_ver=None, normalize=False):\n",
    "    if x_ver is None:\n",
    "        x_ver, y_ver = x_samp, y_samp\n",
    "    w, niter, e_arr = pla_run(x_samp, y_samp, normalize=normalize)\n",
    "    h = np.sign(x_ver @ w)\n",
    "    eout = np.mean(np.abs(np.sign(h - y_ver)))\n",
    "    return niter, eout, w\n",
    "\n",
    "#w_goal, *pla_run(x_many, y_many)"
   ]
  },
  {
   "cell_type": "code",
   "execution_count": 25,
   "metadata": {},
   "outputs": [
    {
     "data": {
      "text/plain": [
       "(103, 0.014, array([-0.225,  1.686,  1.   ]), array([-0.19 ,  1.747,  1.   ]))"
      ]
     },
     "execution_count": 25,
     "metadata": {},
     "output_type": "execute_result"
    }
   ],
   "source": [
    "*pla_test(x_samp, y_samp, x_many, y_many, normalize=True), w_goal"
   ]
  },
  {
   "cell_type": "code",
   "execution_count": 26,
   "metadata": {},
   "outputs": [
    {
     "data": {
      "text/plain": [
       "(594,\n",
       " 0.000,\n",
       " array([ -2.   ,  17.829,  10.14 ]),\n",
       " array([-0.19 ,  1.747,  1.   ]))"
      ]
     },
     "execution_count": 26,
     "metadata": {},
     "output_type": "execute_result"
    }
   ],
   "source": [
    "*pla_test(x_many, y_many, normalize=False), w_goal"
   ]
  },
  {
   "cell_type": "markdown",
   "metadata": {
    "collapsed": true
   },
   "source": [
    "## First attempt of NN"
   ]
  },
  {
   "cell_type": "code",
   "execution_count": null,
   "metadata": {
    "collapsed": true
   },
   "outputs": [],
   "source": []
  }
 ],
 "metadata": {
  "kernelspec": {
   "display_name": "Python 3",
   "language": "python",
   "name": "python3"
  },
  "language_info": {
   "codemirror_mode": {
    "name": "ipython",
    "version": 3
   },
   "file_extension": ".py",
   "mimetype": "text/x-python",
   "name": "python",
   "nbconvert_exporter": "python",
   "pygments_lexer": "ipython3",
   "version": "3.6.3"
  }
 },
 "nbformat": 4,
 "nbformat_minor": 2
}
