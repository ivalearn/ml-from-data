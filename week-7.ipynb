{
 "cells": [
  {
   "cell_type": "code",
   "execution_count": 1,
   "metadata": {},
   "outputs": [],
   "source": [
    "%matplotlib inline\n",
    "import matplotlib.pyplot as plt\n",
    "import numpy as np\n",
    "import numpy.linalg as lin\n",
    "import numpy.random as rnd\n",
    "import scipy as sp\n",
    "import scipy.optimize as opt"
   ]
  },
  {
   "cell_type": "markdown",
   "metadata": {},
   "source": [
    "[ipython line magics](http://ipython.readthedocs.io/en/stable/interactive/magics.html#line-magics)"
   ]
  },
  {
   "cell_type": "code",
   "execution_count": 10,
   "metadata": {},
   "outputs": [],
   "source": [
    "%precision 3\n",
    "np.set_printoptions(precision=3)"
   ]
  },
  {
   "cell_type": "markdown",
   "metadata": {},
   "source": [
    "## Problem #3\n",
    "[CDF of the minimum of a set of ranom variables](https://stats.stackexchange.com/questions/220/how-is-the-minimum-of-a-set-of-random-variables-distributed)\n",
    "\n",
    "If the CDF of $X_i$ is $F(x)$ and $Z=\\min(X_i)$, then the CDF of $Z$ is given by $1−[1−F(x)]^n$.\n",
    "\n",
    "[Expectation of the min of two independent random variables](https://math.stackexchange.com/questions/308230/expectation-of-the-min-of-two-independent-random-variables)\n",
    "\n",
    "$\\mathbb{E}(Z) = \\int_0^1 z F_Z^\\prime(z) \\mathrm{d}z = \\frac{1}{3} \\left(1 + \\frac{\\alpha}{10} \\right)$"
   ]
  },
  {
   "cell_type": "code",
   "execution_count": 3,
   "metadata": {},
   "outputs": [
    {
     "data": {
      "text/plain": [
       "0.500"
      ]
     },
     "execution_count": 3,
     "metadata": {},
     "output_type": "execute_result"
    }
   ],
   "source": [
    "sp.integrate.quad(lambda x: x * 1, 0, 1)[0]"
   ]
  },
  {
   "cell_type": "code",
   "execution_count": 4,
   "metadata": {},
   "outputs": [
    {
     "data": {
      "text/plain": [
       "0.333"
      ]
     },
     "execution_count": 4,
     "metadata": {},
     "output_type": "execute_result"
    }
   ],
   "source": [
    "sp.integrate.quad(lambda x: x * 2*(1-x), 0, 1)[0]"
   ]
  },
  {
   "cell_type": "code",
   "execution_count": 5,
   "metadata": {},
   "outputs": [
    {
     "data": {
      "text/plain": [
       "(0.500, 0.500, 0.333)"
      ]
     },
     "execution_count": 5,
     "metadata": {},
     "output_type": "execute_result"
    }
   ],
   "source": [
    "a=rnd.random(10**6)\n",
    "b=rnd.random(10**6)\n",
    "c=np.minimum(a,b)\n",
    "a.mean(), b.mean(), c.mean()"
   ]
  },
  {
   "cell_type": "code",
   "execution_count": 6,
   "metadata": {},
   "outputs": [
    {
     "data": {
      "text/plain": [
       "(0.067, 0.083)"
      ]
     },
     "execution_count": 6,
     "metadata": {},
     "output_type": "execute_result"
    }
   ],
   "source": [
    "# what's closer to 1/3rd?\n",
    "0.4-1/3, 1/3-0.25"
   ]
  },
  {
   "cell_type": "markdown",
   "metadata": {
    "collapsed": true
   },
   "source": [
    "## ..."
   ]
  },
  {
   "cell_type": "code",
   "execution_count": 16,
   "metadata": {},
   "outputs": [
    {
     "name": "stdout",
     "output_type": "stream",
     "text": [
      "Warning: Desired error not necessarily achieved due to precision loss.\n",
      "         Current function value: 0.000000\n",
      "         Iterations: 87\n",
      "         Function evaluations: 868\n",
      "         Gradient evaluations: 214\n"
     ]
    },
    {
     "data": {
      "text/plain": [
       "     fun: 2.4508862043172285e-07\n",
       "     jac: array([ 0.174,  0.017])\n",
       " message: 'Desired error not necessarily achieved due to precision loss.'\n",
       "    nfev: 868\n",
       "     nit: 87\n",
       "    njev: 214\n",
       "  status: 2\n",
       " success: False\n",
       "       x: array([ -5.   ,  25.004])"
      ]
     },
     "execution_count": 16,
     "metadata": {},
     "output_type": "execute_result"
    }
   ],
   "source": [
    "res = opt.minimize(lambda t: (-5-t[0])**2+1000*(t[1]-t[0]**2)**2,\n",
    "                   np.array([0,0]),\n",
    "                   method='CG', options=dict(disp=True))\n",
    "res"
   ]
  },
  {
   "cell_type": "code",
   "execution_count": null,
   "metadata": {
    "collapsed": true
   },
   "outputs": [],
   "source": []
  }
 ],
 "metadata": {
  "kernelspec": {
   "display_name": "Python 3",
   "language": "python",
   "name": "python3"
  },
  "language_info": {
   "codemirror_mode": {
    "name": "ipython",
    "version": 3
   },
   "file_extension": ".py",
   "mimetype": "text/x-python",
   "name": "python",
   "nbconvert_exporter": "python",
   "pygments_lexer": "ipython3",
   "version": "3.6.3"
  }
 },
 "nbformat": 4,
 "nbformat_minor": 2
}
