{
 "cells": [
  {
   "cell_type": "code",
   "execution_count": 1,
   "metadata": {},
   "outputs": [],
   "source": [
    "%matplotlib inline\n",
    "import matplotlib.pyplot as plt\n",
    "import numpy as np\n",
    "import numpy.linalg as lin\n",
    "import numpy.random as rnd\n",
    "import scipy as sp\n",
    "import scipy.optimize as opt\n",
    "import sympy as sym\n",
    "import numba\n",
    "import itertools"
   ]
  },
  {
   "cell_type": "markdown",
   "metadata": {},
   "source": [
    "[ipython line magics](http://ipython.readthedocs.io/en/stable/interactive/magics.html#line-magics)"
   ]
  },
  {
   "cell_type": "code",
   "execution_count": 2,
   "metadata": {},
   "outputs": [],
   "source": [
    "%precision 3\n",
    "np.set_printoptions(precision=3)"
   ]
  },
  {
   "cell_type": "markdown",
   "metadata": {},
   "source": [
    "# Validation\n",
    "## Problems 1,2,3,4,5"
   ]
  },
  {
   "cell_type": "code",
   "execution_count": 3,
   "metadata": {},
   "outputs": [],
   "source": [
    "_ = np.loadtxt('in.dta.txt')\n",
    "x_dta_in, y_dta_in = _[:,:2], _[:,2]\n",
    "\n",
    "_ = np.loadtxt('out.dta.txt')\n",
    "x_dta_out, y_dta_out = _[:,:2], _[:,2]\n",
    "\n",
    "def Phi(x):\n",
    "    x1, x2 = x[0], x[1]\n",
    "    return 1, x1, x2, x1**2, x2**2, x1*x2, np.abs(x1-x2), np.abs(x1+x2)\n",
    "\n",
    "z_dta_in = np.apply_along_axis(Phi, 1, x_dta_in)\n",
    "z_dta_out = np.apply_along_axis(Phi, 1, x_dta_out)"
   ]
  },
  {
   "cell_type": "code",
   "execution_count": 4,
   "metadata": {},
   "outputs": [],
   "source": [
    "def solve_for(x_train, y_train, x_val, y_val):\n",
    "\n",
    "    def solve_k(k, x_train, y_train, x_val, y_val):\n",
    "        x_train_k = x_train[:, :k+1]\n",
    "        x_val_k = x_val[:, :k+1]\n",
    "        w = lin.pinv(x_train_k) @ y_train\n",
    "        g_val = np.sign(x_val_k @ w)\n",
    "        e = np.abs(np.sign(g_val - y_val))\n",
    "        return np.mean(e)\n",
    "\n",
    "    e2k = {}\n",
    "    for k in range(3,8):\n",
    "        e = solve_k(k, x_train, y_train, x_val, y_val)\n",
    "        print('try: k:{} e:{:.2f}'.format(k, e))\n",
    "        e2k[e] = k\n",
    "\n",
    "    emin = min(e2k.keys())\n",
    "    kmin = e2k[emin]\n",
    "    print('best k:{} e:{:.2f}'.format(kmin, emin))\n",
    "    return kmin, emin"
   ]
  },
  {
   "cell_type": "code",
   "execution_count": 5,
   "metadata": {},
   "outputs": [
    {
     "name": "stdout",
     "output_type": "stream",
     "text": [
      "try: k:3 e:0.30\n",
      "try: k:4 e:0.50\n",
      "try: k:5 e:0.20\n",
      "try: k:6 e:0.00\n",
      "try: k:7 e:0.10\n",
      "best k:6 e:0.00\n"
     ]
    }
   ],
   "source": [
    "# Task 1\n",
    "k1,e1 = solve_for(z_dta_in[:25], y_dta_in[:25], z_dta_in[25:], y_dta_in[25:])"
   ]
  },
  {
   "cell_type": "code",
   "execution_count": 6,
   "metadata": {},
   "outputs": [
    {
     "name": "stdout",
     "output_type": "stream",
     "text": [
      "try: k:3 e:0.42\n",
      "try: k:4 e:0.42\n",
      "try: k:5 e:0.19\n",
      "try: k:6 e:0.08\n",
      "try: k:7 e:0.07\n",
      "best k:7 e:0.07\n"
     ]
    }
   ],
   "source": [
    "# Task 2\n",
    "k2,e2 = solve_for(z_dta_in[:25], y_dta_in[:25], z_dta_out, y_dta_out)"
   ]
  },
  {
   "cell_type": "code",
   "execution_count": 7,
   "metadata": {},
   "outputs": [
    {
     "name": "stdout",
     "output_type": "stream",
     "text": [
      "try: k:3 e:0.28\n",
      "try: k:4 e:0.36\n",
      "try: k:5 e:0.20\n",
      "try: k:6 e:0.08\n",
      "try: k:7 e:0.12\n",
      "best k:6 e:0.08\n"
     ]
    }
   ],
   "source": [
    "# Task 3\n",
    "k3,e3 = solve_for(z_dta_in[25:], y_dta_in[25:], z_dta_in[:25], y_dta_in[:25])"
   ]
  },
  {
   "cell_type": "code",
   "execution_count": 8,
   "metadata": {},
   "outputs": [
    {
     "name": "stdout",
     "output_type": "stream",
     "text": [
      "try: k:3 e:0.40\n",
      "try: k:4 e:0.39\n",
      "try: k:5 e:0.28\n",
      "try: k:6 e:0.19\n",
      "try: k:7 e:0.20\n",
      "best k:6 e:0.19\n"
     ]
    }
   ],
   "source": [
    "# Task 4\n",
    "k4,e4 = solve_for(z_dta_in[25:], y_dta_in[25:], z_dta_out, y_dta_out)"
   ]
  },
  {
   "cell_type": "code",
   "execution_count": 9,
   "metadata": {},
   "outputs": [
    {
     "name": "stdout",
     "output_type": "stream",
     "text": [
      "Eout1(k1):0.1 Eout(k3):0.2\n"
     ]
    }
   ],
   "source": [
    "# Task 5\n",
    "print('Eout1(k1):{:.1f} Eout(k3):{:.1f}'.format(0.08, 0.19))"
   ]
  },
  {
   "cell_type": "markdown",
   "metadata": {},
   "source": [
    "# Validation Bias\n",
    "## Problem #6\n",
    "\n",
    "[CDF of the minimum of a set of ranom variables](https://stats.stackexchange.com/questions/220/how-is-the-minimum-of-a-set-of-random-variables-distributed)\n",
    "\n",
    "If the CDF of $X_i$ is $F(x)$ and $Z=\\min(X_i)$, then the CDF of $Z$ is given by $1−[1−F(x)]^n$.\n",
    "\n",
    "[Expectation of the min of two independent random variables](https://math.stackexchange.com/questions/308230/expectation-of-the-min-of-two-independent-random-variables)\n",
    "\n",
    "$\\mathbb{E}(Z) = \\int_0^1 z F_Z^\\prime(z) \\mathrm{d}z = \\frac{1}{3} \\left(1 + \\frac{\\alpha}{10} \\right)$"
   ]
  },
  {
   "cell_type": "code",
   "execution_count": 10,
   "metadata": {},
   "outputs": [
    {
     "data": {
      "text/plain": [
       "0.500"
      ]
     },
     "execution_count": 10,
     "metadata": {},
     "output_type": "execute_result"
    }
   ],
   "source": [
    "sp.integrate.quad(lambda x: x * 1, 0, 1)[0]"
   ]
  },
  {
   "cell_type": "code",
   "execution_count": 11,
   "metadata": {},
   "outputs": [
    {
     "data": {
      "text/plain": [
       "0.333"
      ]
     },
     "execution_count": 11,
     "metadata": {},
     "output_type": "execute_result"
    }
   ],
   "source": [
    "sp.integrate.quad(lambda x: x * 2*(1-x), 0, 1)[0]"
   ]
  },
  {
   "cell_type": "code",
   "execution_count": 12,
   "metadata": {},
   "outputs": [
    {
     "data": {
      "text/plain": [
       "(0.500, 0.500, 0.333)"
      ]
     },
     "execution_count": 12,
     "metadata": {},
     "output_type": "execute_result"
    }
   ],
   "source": [
    "a=rnd.random(10**6)\n",
    "b=rnd.random(10**6)\n",
    "c=np.minimum(a,b)\n",
    "a.mean(), b.mean(), c.mean()"
   ]
  },
  {
   "cell_type": "code",
   "execution_count": 13,
   "metadata": {},
   "outputs": [
    {
     "data": {
      "text/plain": [
       "(0.067, 0.083)"
      ]
     },
     "execution_count": 13,
     "metadata": {},
     "output_type": "execute_result"
    }
   ],
   "source": [
    "# what's closer to 1/3rd?\n",
    "0.4-1/3, 1/3-0.25"
   ]
  },
  {
   "cell_type": "markdown",
   "metadata": {},
   "source": [
    "# Cross Validation\n",
    "### Problem #7"
   ]
  },
  {
   "cell_type": "code",
   "execution_count": 14,
   "metadata": {},
   "outputs": [
    {
     "data": {
      "text/plain": [
       "4.336"
      ]
     },
     "execution_count": 14,
     "metadata": {},
     "output_type": "execute_result"
    }
   ],
   "source": [
    "#sym.init_printing()\n",
    "\n",
    "def task7():\n",
    "    # we've got three points\n",
    "    r = sym.symbols('rho', real=True)\n",
    "    p0,p1,p2 = (-1,0), (r,1), (1,0)\n",
    "\n",
    "    # approximate with constant: h0(x)=b\n",
    "    def e0(p1,p2,p3):\n",
    "        x1,y1 = p1\n",
    "        x2,y2 = p2\n",
    "        x3,y3 = p3\n",
    "        # b is in the average of p1,p2\n",
    "        b = (y1+y2)/2\n",
    "        # cross-validation error on p3\n",
    "        e = (b-y3)**2\n",
    "        return e\n",
    "\n",
    "    # approximate with line: h1(x)=ax+b\n",
    "    def e1(p1,p2,p3):\n",
    "        x1,y1 = p1\n",
    "        x2,y2 = p2\n",
    "        x3,y3 = p3\n",
    "        # find a,b\n",
    "        a = (y2-y1)/(x2-x1)\n",
    "        b = y1-a*x1\n",
    "        # find h(x3)\n",
    "        h3 = a*x3+b\n",
    "        # cross validation error on p3\n",
    "        e = (h3-y3)**2\n",
    "        return e\n",
    "\n",
    "    # total cross-validation error for h0\n",
    "    E0 = e0(p0,p1,p2)+e0(p1,p2,p0)+e0(p2,p0,p1)\n",
    "\n",
    "    # total cross-validation error for h1\n",
    "    E1 = e1(p0,p1,p2)+e1(p1,p2,p0)+e1(p2,p0,p1)\n",
    "\n",
    "    # solve equation for tie-point\n",
    "    res = sym.solve(sym.Eq(E1,E0))\n",
    "    \n",
    "    # keep only positive real roots\n",
    "    x = [x for x in res if x > 0]\n",
    "    return float(x[0])\n",
    "\n",
    "task7()"
   ]
  },
  {
   "cell_type": "markdown",
   "metadata": {},
   "source": [
    "$\\sqrt{9 + 4 \\sqrt{6}}$ ?"
   ]
  },
  {
   "cell_type": "code",
   "execution_count": 15,
   "metadata": {},
   "outputs": [
    {
     "data": {
      "text/plain": [
       "4.336"
      ]
     },
     "execution_count": 15,
     "metadata": {},
     "output_type": "execute_result"
    }
   ],
   "source": [
    "np.sqrt(9+4*np.sqrt(6))"
   ]
  },
  {
   "cell_type": "markdown",
   "metadata": {},
   "source": [
    "# PLA vs SVM\n",
    "### Problems 8,9,10"
   ]
  },
  {
   "cell_type": "code",
   "execution_count": 16,
   "metadata": {},
   "outputs": [],
   "source": [
    "def random_points(n, vmin=-1.0, vmax=+1.0):\n",
    "    return np.hstack([np.ones([n,1]), rnd.random([n,2])*(vmax-vmin)+vmin])\n",
    "\n",
    "def random_line():\n",
    "    p = random_points(2)\n",
    "    a = (p[1,2] - p[0,1]) / (p[1,1] - p[0,1])\n",
    "    b = p[0,2] - a * p[0,1]\n",
    "    return np.array([-b, -a, 1.])\n",
    "\n",
    "def line_y(w, x):\n",
    "    return np.sign(x @ w)\n",
    "\n",
    "def random_wxy(N=100):\n",
    "    while True:\n",
    "        w = random_line()\n",
    "        x = random_points(N)\n",
    "        y = line_y(w, x)\n",
    "        if (y == 0).sum():\n",
    "            continue\n",
    "        if (y < 0).sum() > N/5 and (y > 0).sum() > N/5:\n",
    "            return w, x, y\n",
    "\n",
    "x_test = random_points(10**5)\n",
    "        \n",
    "def err_frac(y, y_test):\n",
    "    return np.mean(np.abs(np.sign(y - y_test)))"
   ]
  },
  {
   "cell_type": "code",
   "execution_count": 17,
   "metadata": {},
   "outputs": [],
   "source": [
    "@numba.njit\n",
    "def pla(x, y):\n",
    "    w = np.zeros(3)\n",
    "    while True:\n",
    "        e = np.where(x @ w * y <= 0)[0]\n",
    "        if not e.size:\n",
    "            return w\n",
    "        i = rnd.choice(e)\n",
    "        w += y[i] * x[i]\n",
    "\n",
    "def do_pla(x, y, x_test, y_test):\n",
    "    w = pla(x, y)\n",
    "    y_pla = line_y(w, x_test)\n",
    "    err = err_frac(y_pla, y_test)\n",
    "    return err, w"
   ]
  },
  {
   "cell_type": "markdown",
   "metadata": {},
   "source": [
    "`do_sklearn_svm()` uses scikit-learn's [SVC](http://scikit-learn.org/stable/modules/svm.html)."
   ]
  },
  {
   "cell_type": "code",
   "execution_count": 18,
   "metadata": {},
   "outputs": [],
   "source": [
    "from sklearn import svm\n",
    "\n",
    "def do_sklearn_svm(x, y, x_test, y_test):\n",
    "    clf = svm.SVC(C=1e6, kernel='linear')\n",
    "    clf.fit(x, y)\n",
    "    y_svm = clf.predict(x_test)\n",
    "    err = err_frac(y_svm, y_test)\n",
    "    nsv = len(clf.support_vectors_)\n",
    "    return err, nsv, clf"
   ]
  },
  {
   "cell_type": "code",
   "execution_count": 19,
   "metadata": {},
   "outputs": [],
   "source": [
    "def pla_vs_svm(N, Nruns, do_svm):\n",
    "    err_pla = np.empty(Nruns)\n",
    "    err_svm = np.empty(Nruns)\n",
    "    nsv_svm = np.empty(Nruns)\n",
    "    fok_svm = np.empty(Nruns)\n",
    "    for i in range(Nruns):\n",
    "        w_goal, x_goal, y_goal = random_wxy(N=10)\n",
    "        y_test = line_y(w_goal, x_test)\n",
    "        e_pla, w_pla = do_pla(x_goal, y_goal, x_test, y_test)\n",
    "        e_svm, nsv, clf = do_svm(x_goal, y_goal, x_test, y_test)\n",
    "        err_pla[i] = e_pla\n",
    "        err_svm[i] = e_svm\n",
    "        fok_svm[i] = float(e_svm < e_pla)\n",
    "        nsv_svm[i] = nsv\n",
    "        if i % 100 == 0:\n",
    "            print(i, end='..', flush=True)\n",
    "    return nsv_svm.mean(), fok_svm.mean(), err_pla.mean(), err_svm.mean()"
   ]
  },
  {
   "cell_type": "code",
   "execution_count": 20,
   "metadata": {},
   "outputs": [
    {
     "name": "stdout",
     "output_type": "stream",
     "text": [
      "0..100..200..300..400..500..600..700..800..900.."
     ]
    },
    {
     "data": {
      "text/plain": [
       "(2.883, 0.621, 0.107, 0.089)"
      ]
     },
     "execution_count": 20,
     "metadata": {},
     "output_type": "execute_result"
    }
   ],
   "source": [
    "# Problem 8\n",
    "pla_vs_svm(N=10, Nruns=1000, do_svm=do_sklearn_svm)"
   ]
  },
  {
   "cell_type": "code",
   "execution_count": 21,
   "metadata": {},
   "outputs": [
    {
     "name": "stdout",
     "output_type": "stream",
     "text": [
      "0..100..200..300..400..500..600..700..800..900.."
     ]
    },
    {
     "data": {
      "text/plain": [
       "(2.893, 0.637, 0.106, 0.087)"
      ]
     },
     "execution_count": 21,
     "metadata": {},
     "output_type": "execute_result"
    }
   ],
   "source": [
    "# Problem 9,10\n",
    "pla_vs_svm(N=100, Nruns=1000, do_svm=do_sklearn_svm)"
   ]
  },
  {
   "cell_type": "markdown",
   "metadata": {},
   "source": [
    "### Use CVXOPT"
   ]
  },
  {
   "cell_type": "code",
   "execution_count": 23,
   "metadata": {},
   "outputs": [],
   "source": [
    "# Fix secondary anaconda environment path under jupyter kernel\n",
    "# Workaround for \"DLL Load Failed\" in \"import cvxopt.base\"\n",
    "import os, sys, re\n",
    "if (re.search(r'\\\\Anaconda\\d*\\\\envs\\\\', sys.prefix)  # Anaconda 2nd-ary env?\n",
    "        and os.environ.get('JPY_PARENT_PID')):       # Under Jupyter?\n",
    "    _root_env = os.path.dirname(os.path.dirname(sys.prefix)).replace('\\\\',r'\\\\')\n",
    "    _curr_env = sys.prefix.replace('\\\\','\\\\\\\\')\n",
    "    _path = os.environ['PATH']\n",
    "    _path = re.sub(r';%s((?!\\\\envs)[^;]+)' % _root_env,\n",
    "                   r';%s\\1' % _curr_env, _path)\n",
    "    os.environ['PATH'] = _path\n",
    "\n",
    "# OK to import now\n",
    "import cvxopt"
   ]
  },
  {
   "cell_type": "code",
   "execution_count": null,
   "metadata": {},
   "outputs": [],
   "source": [
    "w_goal, x_goal, y_goal = random_wxy(N=10)\n",
    "y_test = line_y(w_goal, x_test)\n",
    "err_svm, nsv_svm, clf_svm = do_sklearn_svm(x_goal, y_goal, x_test, y_test)"
   ]
  },
  {
   "cell_type": "markdown",
   "metadata": {},
   "source": [
    "Primal SVM objective:\n",
    "$$\n",
    "  \\min_w \\frac12 \\lVert w \\rVert^2 \\\\\n",
    "  \\mbox{s.t.} \\quad  y_i(w^Tx_i+b) \\ge 1  \\quad \\forall i\n",
    "$$\n",
    "The corresponding dual problem:\n",
    "$$\n",
    "  \\min_{\\alpha} \\frac12 \\alpha^T K \\alpha - 1^T \\alpha \\\\\n",
    "  \\mbox{s.t.} \\quad  \\alpha_i \\ge 0  \\quad \\forall i \\\\\n",
    "  \\mbox{and} \\quad  y^T \\alpha = 0\n",
    "$$\n",
    "The **QP** solver from `CVXOPT` solves the quadratic program:\n",
    "$$\n",
    "  \\min_x \\frac12 x^T P x + q^T x \\\\\n",
    "  \\mbox{s.t} \\quad  Gx \\preceq h \\\\\n",
    "  \\mbox{and} \\quad  Ax=b\n",
    "$$\n",
    "```\n",
    "cvxopt.solvers.qp(P, q[, G, h[, A, b[, solver[, initvals]]]])\n",
    "```\n",
    "(see [docs](http://cvxopt.org/userguide/coneprog.html#quadratic-programming))"
   ]
  },
  {
   "cell_type": "code",
   "execution_count": null,
   "metadata": {},
   "outputs": [],
   "source": [
    "def do_cvxopt_svm(x, y, x_test, y_test, tol=1e-8):\n",
    "    from cvxopt import matrix\n",
    "\n",
    "    N = len(x)\n",
    "    x_ = x[:, 1:]\n",
    "    y_ = y[:, None]\n",
    "    yx_ = y_ * x_\n",
    "    K = yx_ @ yx_.T\n",
    "\n",
    "    P = matrix(K)\n",
    "    q = matrix(np.ones([N,1]))\n",
    "    G = matrix(-np.eye(N))\n",
    "    h = matrix(np.zeros(N))\n",
    "    A = matrix(y_.T)\n",
    "    b = matrix(np.zeros(1))\n",
    "\n",
    "    cvxopt.solvers.options['show_progress'] = False\n",
    "    res = cvxopt.solvers.qp(P, q, G, h, A, b)\n",
    "\n",
    "    alphas = np.array(res['x'])\n",
    "    assert alphas.shape == (N,1)\n",
    "    w_ = np.sum(alphas * y_ * x_, axis=0)\n",
    "    b_ = y - x_ @ w_\n",
    "    cond = np.abs(alphas) > tol\n",
    "\n",
    "    res['alphas'] = alphas[cond]\n",
    "    res['w_'] = w_\n",
    "    res['b_'] = b_[cond.ravel()]\n",
    "    res['w'] = np.array([b_[cond.ravel()][0]] + list(w_))\n",
    "    res['cond'] = np.where(cond)[0]\n",
    "    res['nsv'] = cond.sum()\n",
    "    #err = err_frac(y, y_test)\n",
    "    return res\n",
    "\n",
    "res = do_cvxopt_svm(x_goal, y_goal, x_test, y_test)"
   ]
  },
  {
   "cell_type": "code",
   "execution_count": null,
   "metadata": {},
   "outputs": [],
   "source": [
    "def draw_all(x, y, w):\n",
    "    def x2y(x):\n",
    "        return (w[0] + w[1] * x) / -w[2]\n",
    "    plt.scatter(x[:,1], x[:,2], c=np.where(y>0, ['b'], ['r']))\n",
    "    xrange = [-1, 1]\n",
    "    plt.plot(xrange, [x2y(x) for x in xrange], 'g-')\n",
    "\n",
    "draw_all(x_goal, y_goal, res['w'])"
   ]
  },
  {
   "cell_type": "code",
   "execution_count": null,
   "metadata": {},
   "outputs": [],
   "source": [
    "err, nsv, clf = do_sklearn_svm(x_goal, y_goal, x_test, y_test)"
   ]
  },
  {
   "cell_type": "markdown",
   "metadata": {},
   "source": [
    "### Use scipy.Optimize"
   ]
  },
  {
   "cell_type": "code",
   "execution_count": null,
   "metadata": {},
   "outputs": [],
   "source": [
    "def do_scipy_svm(x, y, x_test, y_test, tol=1e-8):\n",
    "    N = len(x)\n",
    "    x_ = x[:, 1:]\n",
    "    y_ = y[:, None]\n",
    "    yx_ = y_ * x_\n",
    "    K = yx_ @ yx_.T\n",
    "\n",
    "    q = np.ones([N,1])\n",
    "    G = np.eye(N)\n",
    "    A = y_.T\n",
    "    \n",
    "    def loss(a):  return 0.5 * a.T @ K @ a - a\n",
    "    def grad(a):  return a.T @ K - 1\n",
    "\n",
    "    cons = [\n",
    "        {'type':'ineq', 'fun':lambda a: G @ a, 'jac':lambda a: G},\n",
    "        {'type':'eq', 'fun':lambda a: A @ a, 'jac':lambda a: A},\n",
    "    ]\n",
    "\n",
    "    a0 = np.zeros([N,1])\n",
    "    opt = {'disp': False}\n",
    "    res = sp.optimize.minimize(loss, a0, jac=grad, constraints=cons,\n",
    "                               method='SLSQP', options=opt)\n",
    "\n",
    "    \"\"\"\n",
    "    alphas = np.array(res['x'])\n",
    "    assert alphas.shape == (N,1)\n",
    "    w_ = np.sum(alphas * y_ * x_, axis=0)\n",
    "    b_ = y - x_ @ w_\n",
    "    cond = np.abs(alphas) > tol\n",
    "\n",
    "    res['alphas'] = alphas[cond]\n",
    "    res['w_'] = w_\n",
    "    res['b_'] = b_[cond.ravel()]\n",
    "    res['w'] = np.array([b_[cond.ravel()][0]] + list(w_))\n",
    "    res['cond'] = np.where(cond)[0]\n",
    "    res['nsv'] = cond.sum()\n",
    "    #err = err_frac(y, y_test)\n",
    "    \"\"\"\n",
    "    return res\n",
    "\n",
    "#res = do_scipy_svm(x_goal, y_goal, x_test, y_test)"
   ]
  },
  {
   "cell_type": "code",
   "execution_count": null,
   "metadata": {
    "collapsed": true
   },
   "outputs": [],
   "source": []
  }
 ],
 "metadata": {
  "kernelspec": {
   "display_name": "Python [conda env:anapy35]",
   "language": "python",
   "name": "conda-env-anapy35-py"
  },
  "language_info": {
   "codemirror_mode": {
    "name": "ipython",
    "version": 3
   },
   "file_extension": ".py",
   "mimetype": "text/x-python",
   "name": "python",
   "nbconvert_exporter": "python",
   "pygments_lexer": "ipython3",
   "version": "3.5.4"
  }
 },
 "nbformat": 4,
 "nbformat_minor": 2
}
