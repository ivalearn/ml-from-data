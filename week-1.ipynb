{
 "cells": [
  {
   "cell_type": "code",
   "execution_count": 1,
   "metadata": {
    "collapsed": true
   },
   "outputs": [],
   "source": [
    "%matplotlib inline\n",
    "import random\n",
    "import numpy as np\n",
    "import matplotlib.pyplot as plt\n",
    "from numba.decorators import jit"
   ]
  },
  {
   "cell_type": "markdown",
   "metadata": {},
   "source": [
    "## Task 1"
   ]
  },
  {
   "cell_type": "code",
   "execution_count": 2,
   "metadata": {},
   "outputs": [
    {
     "name": "stdout",
     "output_type": "stream",
     "text": [
      "66.42635772336095\n"
     ]
    }
   ],
   "source": [
    "@jit\n",
    "def test_prob():\n",
    "    b1=['b','w']\n",
    "    b2=['b','b']\n",
    "    nb=ns=0\n",
    "    for i in range(100000):\n",
    "        b=random.choice([b1,b2])\n",
    "        j=random.choice([0,1])\n",
    "        if b[j]=='b':\n",
    "            nb+=1\n",
    "            if b[1-j]=='b':\n",
    "                ns+=1\n",
    "    return ns*100.0/nb\n",
    "print(test_prob())"
   ]
  },
  {
   "cell_type": "markdown",
   "metadata": {},
   "source": [
    "## Task 2"
   ]
  },
  {
   "cell_type": "code",
   "execution_count": 3,
   "metadata": {},
   "outputs": [
    {
     "name": "stdout",
     "output_type": "stream",
     "text": [
      "3.405e-04\n",
      "0.289\n"
     ]
    }
   ],
   "source": [
    "print(\"{:.3e}\".format(    0.45**10    ))\n",
    "print(\"{:.3g}\".format(    1-(1-0.45**10)**1000    ))"
   ]
  },
  {
   "cell_type": "markdown",
   "metadata": {},
   "source": [
    "## Task 3"
   ]
  },
  {
   "cell_type": "code",
   "execution_count": 4,
   "metadata": {},
   "outputs": [
    {
     "name": "stdout",
     "output_type": "stream",
     "text": [
      "000 -> 12\n",
      "001 -> 12\n",
      "010 -> 12\n",
      "011 -> 12\n",
      "100 -> 12\n",
      "101 -> 12\n",
      "110 -> 12\n",
      "111 -> 12\n"
     ]
    }
   ],
   "source": [
    "def test_hyp():\n",
    "    for hyp in range(8):\n",
    "        def n2b(n):\n",
    "            return list(bin(n)[2:].rjust(3,'0'))\n",
    "        shyp = n2b(hyp)\n",
    "        dhyp = ''.join(shyp)\n",
    "        cnts = [0]*4\n",
    "        for tgt in range(8):\n",
    "            stgt = n2b(tgt)\n",
    "            agn = 0\n",
    "            for i in range(3):\n",
    "                if shyp[i]==stgt[i]:\n",
    "                    agn+=1\n",
    "            cnts[agn]+=1\n",
    "        score=cnts[3]*3+cnts[2]*2+cnts[1]*1\n",
    "        print(f'{dhyp} -> {score}')\n",
    "test_hyp()"
   ]
  },
  {
   "cell_type": "markdown",
   "metadata": {},
   "source": [
    "## Task 4"
   ]
  },
  {
   "cell_type": "code",
   "execution_count": 14,
   "metadata": {},
   "outputs": [],
   "source": [
    "vmin = -1.\n",
    "vmax = 1.\n",
    "\n",
    "@jit\n",
    "def rand_points(num=1):\n",
    "    return np.append(np.ones((num,1)),\n",
    "                     np.random.random((num,2))*(vmax-vmin)+vmin,\n",
    "                     axis=1)\n",
    "\n",
    "@jit\n",
    "def rand_line():\n",
    "    return rand_points(2)\n",
    "\n",
    "@jit\n",
    "def line2coef(xyline):\n",
    "    x1, y1 = xyline[0,1], xyline[0,2]\n",
    "    x2, y2 = xyline[1,1], xyline[1,2]\n",
    "    # y = ax + b\n",
    "    a = (y2-y1) / (x2-x1)\n",
    "    b = y1 - a*x1\n",
    "    return a,b\n",
    "\n",
    "def plot_line(xyline, style='k', dots=False):\n",
    "    def bound_point(x):\n",
    "        a, b = line2coef(xyline)\n",
    "        y = a*x+b\n",
    "        y = min(y, vmax)\n",
    "        y = max(y, vmin)\n",
    "        x = (y-b) / a\n",
    "        return x,y\n",
    "    x1, y1 = bound_point(vmin)\n",
    "    x2, y2 = bound_point(vmax)\n",
    "    line_style = style[0] + '-'\n",
    "    plt.plot([x1,x2], [y1,y2], line_style)\n",
    "    if dots:\n",
    "        dot_style = style\n",
    "        if len(dot_style) == 1:\n",
    "            dot_style += 'o'\n",
    "        plot_points(xyline, dot_style)\n",
    "\n",
    "def plot_points(points, styles='k'):\n",
    "    if isinstance(styles, str):\n",
    "        styles = np.full((points.shape[0],), styles, dtype='<U2')\n",
    "    for p, s in zip(points, styles):\n",
    "        if len(s) == 1:\n",
    "             s += 'o'\n",
    "        plt.plot([p[1]], [p[2]], s)\n",
    "\n",
    "@jit\n",
    "def points_higher(points, xyline):\n",
    "    a, b = line2coef(xyline)\n",
    "    return np.sign(points[:,2] - (a*points[:,1]+b))\n",
    "\n",
    "@jit\n",
    "def points_sign(p, w):\n",
    "    return np.sign(np.inner(p, w))\n",
    "\n",
    "def points_style(farr, garr=None):\n",
    "    if garr is None:\n",
    "        garr = farr\n",
    "    color = np.where(garr == farr, 'b', 'r')\n",
    "    form = np.where(garr > 0, 'x', '.')\n",
    "    return np.char.add(color, form)\n",
    "\n",
    "@jit\n",
    "def pla(xv, fv, max_iter=0):\n",
    "    w = np.zeros((3,))\n",
    "    n_iter = 1\n",
    "    while 1:\n",
    "        hv = points_sign(xv, w)\n",
    "        err = fv - hv\n",
    "        failed = np.where(err != 0)[0]\n",
    "        if failed.size == 0 or (max_iter and n_iter > max_iter):\n",
    "            break\n",
    "        i = np.random.choice(failed)\n",
    "        w += err[i] * xv[i]\n",
    "        n_iter += 1\n",
    "    return hv, n_iter, failed, w\n",
    "\n",
    "@jit\n",
    "def measure_one_pla(n_points, n_prob=1000):\n",
    "    line = rand_line()\n",
    "    points1 = rand_points(n_points)\n",
    "    target1 = points_higher(points1, line)\n",
    "    approx1, n_iter, failed, weights = pla(points1, target1)\n",
    "    points3 = rand_points(1000)\n",
    "    err_num = np.count_nonzero(points_higher(points3, line) != points_sign(points3, weights))\n",
    "    prob_err = err_num / points3.shape[0]\n",
    "    return n_iter, prob_err\n",
    "\n",
    "def measure_avg_pla(n_points, n_iters=1000, n_prob=1000):\n",
    "    res = np.array([measure_one_pla(n_points, n_prob) for i in range(n_iters)])\n",
    "    avg_iters = np.mean(res[:,0])\n",
    "    avg_eprob = np.mean(res[:,1])\n",
    "    print('n_points=%d iters=%.2f eprob=%.4f' % (n_points, avg_iters, avg_eprob))"
   ]
  },
  {
   "cell_type": "code",
   "execution_count": 12,
   "metadata": {},
   "outputs": [
    {
     "data": {
      "image/png": "[encoded data removed]",
      "text/plain": [
       "<matplotlib.figure.Figure at 0xab0e867e48>"
      ]
     },
     "metadata": {},
     "output_type": "display_data"
    }
   ],
   "source": [
    "rline = rand_line()\n",
    "points1 = rand_points(10)\n",
    "target1 = points_higher(points1, rline)\n",
    "plot_line(rline, dots=1)\n",
    "plot_points(points1, points_style(target1))"
   ]
  },
  {
   "cell_type": "code",
   "execution_count": 13,
   "metadata": {},
   "outputs": [
    {
     "data": {
      "image/png": "[encoded data removed]",
      "text/plain": [
       "<matplotlib.figure.Figure at 0xab0e168da0>"
      ]
     },
     "metadata": {},
     "output_type": "display_data"
    }
   ],
   "source": [
    "approx1, n_iter, failed, weights = pla(points1, target1)\n",
    "plot_line(rline, 'k*', dots=True)\n",
    "plot_points(points1, points_style(target1, approx1))"
   ]
  },
  {
   "cell_type": "code",
   "execution_count": 15,
   "metadata": {},
   "outputs": [
    {
     "data": {
      "image/png": "[encoded data removed]",
      "text/plain": [
       "<matplotlib.figure.Figure at 0xab0fcfe5f8>"
      ]
     },
     "metadata": {},
     "output_type": "display_data"
    }
   ],
   "source": [
    "points2 = rand_points(40)\n",
    "target2 = points_higher(points2, rline)\n",
    "approx2 = points_sign(points2, weights)\n",
    "plot_line(rline, 'k*')\n",
    "plot_points(points2, points_style(target2, approx2))"
   ]
  },
  {
   "cell_type": "code",
   "execution_count": 9,
   "metadata": {},
   "outputs": [
    {
     "name": "stdout",
     "output_type": "stream",
     "text": [
      "prob_err=0.192\n"
     ]
    }
   ],
   "source": [
    "points3 = rand_points(1000)\n",
    "err_num = np.count_nonzero(points_higher(points3, rline) != points_sign(points3, weights))\n",
    "prob_err = err_num / points3.shape[0]\n",
    "print('prob_err=%.3f' % prob_err)"
   ]
  },
  {
   "cell_type": "code",
   "execution_count": 10,
   "metadata": {},
   "outputs": [
    {
     "name": "stdout",
     "output_type": "stream",
     "text": [
      "n_points=10 iters=9.95 eprob=0.1112\n",
      "n_points=100 iters=95.22 eprob=0.0139\n"
     ]
    }
   ],
   "source": [
    "measure_avg_pla(10, 1000)\n",
    "measure_avg_pla(100, 1000)"
   ]
  },
  {
   "cell_type": "code",
   "execution_count": null,
   "metadata": {
    "collapsed": true
   },
   "outputs": [],
   "source": []
  }
 ],
 "metadata": {
  "kernelspec": {
   "display_name": "Python 3",
   "language": "python",
   "name": "python3"
  },
  "language_info": {
   "codemirror_mode": {
    "name": "ipython",
    "version": 3
   },
   "file_extension": ".py",
   "mimetype": "text/x-python",
   "name": "python",
   "nbconvert_exporter": "python",
   "pygments_lexer": "ipython3",
   "version": "3.6.3"
  }
 },
 "nbformat": 4,
 "nbformat_minor": 2
}
