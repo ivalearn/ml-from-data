{
 "cells": [
  {
   "cell_type": "markdown",
   "metadata": {},
   "source": [
    "## Tasks 1-3"
   ]
  },
  {
   "cell_type": "code",
   "execution_count": 70,
   "metadata": {
    "collapsed": false
   },
   "outputs": [],
   "source": [
    "%matplotlib inline\n",
    "import math\n",
    "import numpy as np\n",
    "import scipy as sp\n",
    "import matplotlib.pyplot as plt\n",
    "import numpy.random as rand\n",
    "from scipy.optimize import root\n",
    "from numpy import log as ln, exp, sqrt, sin, pi"
   ]
  },
  {
   "cell_type": "code",
   "execution_count": 50,
   "metadata": {
    "collapsed": false
   },
   "outputs": [
    {
     "data": {
      "text/plain": [
       "(452957.0, True, 'The solution converged.')"
      ]
     },
     "execution_count": 50,
     "metadata": {},
     "output_type": "execute_result"
    }
   ],
   "source": [
    "delta = 0.05\n",
    "omega = 0.05\n",
    "d_vc = 10\n",
    "def m_H(N):\n",
    "    return N ** d_vc\n",
    "def delta_N(N):\n",
    "    return 4 * m_H(2*N) * math.exp(-1./8 * (omega**2) * N)\n",
    "def opt_fun(N):\n",
    "    min_N, max_N = 3.8e5, 5.2e5\n",
    "    if N < min_N:\n",
    "        return abs(N-min_N)\n",
    "    if N > max_N:\n",
    "        return abs(N-max_N)\n",
    "    return abs(delta_N(N) - delta)\n",
    "res = root(opt_fun, 4.6e5)\n",
    "np.round(res.x[0]), res.success, res.message"
   ]
  },
  {
   "cell_type": "code",
   "execution_count": 51,
   "metadata": {
    "collapsed": false
   },
   "outputs": [
    {
     "name": "stdout",
     "output_type": "stream",
     "text": [
      "400_000 221896.0766\n",
      "420_000 697.7536\n",
      "440_000   2.1448\n",
      "460_000   0.0065\n",
      "480_000   0.0000\n"
     ]
    }
   ],
   "source": [
    "for N in (400e3,420e3,440e3,460e3,480e3):\n",
    "    print('{:_.0f} {:8.4f}'.format(N, delta_N(N)))"
   ]
  },
  {
   "cell_type": "code",
   "execution_count": 62,
   "metadata": {
    "collapsed": false
   },
   "outputs": [
    {
     "name": "stdout",
     "output_type": "stream",
     "text": [
      "a=0.632175\n",
      "b=0.331309\n",
      "c=0.223621\n",
      "d=0.215131\n"
     ]
    }
   ],
   "source": [
    "delta = 0.05\n",
    "omega = eps = 0.05\n",
    "d_vc = 50\n",
    "def mh(N):   return N ** d_vc\n",
    "def bna(N):  return sqrt(8./N * ln(4*mh(2*N)/delta))\n",
    "def bnb(N):  return sqrt(2*ln(2*N*mh(N))/N)+sqrt(2/N*ln(1/delta))+1/N\n",
    "def bnc(N):  return sqrt(1/N*(2*eps+ln(6*mh(2*N)/delta)))\n",
    "def bnd(N):\n",
    "    N_2 = N ** 2\n",
    "    ln_mhN2 = d_vc * ln(N_2)\n",
    "    ln_x = ln(4) + ln_mhN2 - ln(delta)\n",
    "    return sqrt(1/(2*N)*(4*eps*(1+eps)+ln_x))\n",
    "N1 = 10000.\n",
    "print('a=%f' % bna(N1))\n",
    "print('b=%f' % bnb(N1))\n",
    "print('c=%f' % bnc(N1))\n",
    "print('d=%f' % bnd(N1))"
   ]
  },
  {
   "cell_type": "code",
   "execution_count": 63,
   "metadata": {
    "collapsed": false
   },
   "outputs": [
    {
     "name": "stdout",
     "output_type": "stream",
     "text": [
      "a=13.828161\n",
      "b=7.048777\n",
      "c=4.899321\n",
      "d=4.068609\n"
     ]
    }
   ],
   "source": [
    "N1 = 5.\n",
    "print('a=%f' % bna(N1))\n",
    "print('b=%f' % bnb(N1))\n",
    "print('c=%f' % bnc(N1))\n",
    "print('d=%f' % bnd(N1))"
   ]
  },
  {
   "cell_type": "markdown",
   "metadata": {},
   "source": [
    "## Task 4"
   ]
  },
  {
   "cell_type": "code",
   "execution_count": 82,
   "metadata": {
    "collapsed": false
   },
   "outputs": [
    {
     "name": "stdout",
     "output_type": "stream",
     "text": [
      "a_bar = 0.775\n",
      "bias = 0.207\n",
      "var = 0.765\n"
     ]
    }
   ],
   "source": [
    "N = 1000000\n",
    "x1 = rand.random([N])*2-1\n",
    "x2 = rand.random([N])*2-1\n",
    "x3 = rand.random([N])*2-1\n",
    "y1 = sin(pi*x1)\n",
    "y2 = sin(pi*x2)\n",
    "y3 = sin(pi*x3)\n",
    "a1 = (y1+y2)/(x1+x2)\n",
    "abar = a1.mean()\n",
    "#abar=0.79\n",
    "g3bar = abar*x3\n",
    "g3 = a1*x3\n",
    "bias = ((g3bar-y3)**2).mean()\n",
    "var = ((g3-g3bar)**2).mean()\n",
    "print('a_bar = %.3f' % abar)\n",
    "print('bias = %.3f' % bias)\n",
    "print('var = %.3f' % var)"
   ]
  },
  {
   "cell_type": "code",
   "execution_count": null,
   "metadata": {
    "collapsed": true
   },
   "outputs": [],
   "source": []
  }
 ],
 "metadata": {
  "kernelspec": {
   "display_name": "Python [conda root]",
   "language": "python",
   "name": "conda-root-py"
  },
  "language_info": {
   "codemirror_mode": {
    "name": "ipython",
    "version": 3
   },
   "file_extension": ".py",
   "mimetype": "text/x-python",
   "name": "python",
   "nbconvert_exporter": "python",
   "pygments_lexer": "ipython3",
   "version": "3.6.0"
  }
 },
 "nbformat": 4,
 "nbformat_minor": 2
}
