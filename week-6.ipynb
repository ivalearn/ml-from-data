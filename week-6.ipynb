{
 "cells": [
  {
   "cell_type": "code",
   "execution_count": 2,
   "metadata": {},
   "outputs": [],
   "source": [
    "%matplotlib inline\n",
    "import matplotlib.pyplot as plt\n",
    "import numpy as np\n",
    "import numpy.linalg as la\n",
    "import scipy as sp\n",
    "import scipy.optimize as opt\n",
    "import numba"
   ]
  },
  {
   "cell_type": "code",
   "execution_count": 3,
   "metadata": {},
   "outputs": [],
   "source": [
    "%precision 3\n",
    "np.set_printoptions(precision=3)"
   ]
  },
  {
   "cell_type": "markdown",
   "metadata": {},
   "source": [
    "# Regularization with weight decay"
   ]
  },
  {
   "cell_type": "code",
   "execution_count": 4,
   "metadata": {},
   "outputs": [],
   "source": [
    "with open('in.dta.txt') as f:\n",
    "    data = np.array([list(map(float, s.split())) for s in f])\n",
    "    x_in = data[:,0:2]\n",
    "    y_in = data[:,2]\n",
    "\n",
    "with open('out.dta.txt') as f:\n",
    "    data = np.array([list(map(float, s.split())) for s in f])\n",
    "    x_out = data[:,0:2]\n",
    "    y_out = data[:,2]"
   ]
  },
  {
   "cell_type": "code",
   "execution_count": 5,
   "metadata": {},
   "outputs": [],
   "source": [
    "def Phi(x):\n",
    "    x1, x2 = x[0], x[1]\n",
    "    return 1, x1, x2, x1**2, x2**2, x1*x2, np.abs(x1-x2), np.abs(x1+x2)\n",
    "\n",
    "z_in = np.apply_along_axis(Phi, 1, x_in)\n",
    "z_out = np.apply_along_axis(Phi, 1, x_out)\n",
    "\n",
    "w_pinv = la.pinv(z_in) @ y_in"
   ]
  },
  {
   "cell_type": "code",
   "execution_count": 6,
   "metadata": {},
   "outputs": [
    {
     "data": {
      "text/plain": [
       "(0.029, 0.084)"
      ]
     },
     "execution_count": 6,
     "metadata": {},
     "output_type": "execute_result"
    }
   ],
   "source": [
    "@numba.jit\n",
    "def err_class(w, z, y):\n",
    "    g = np.sign(z @ w)\n",
    "    errors = np.abs(np.sign(g - y))\n",
    "    return np.mean(errors)\n",
    "\n",
    "@numba.jit\n",
    "def err_inout(w):\n",
    "    ec_in = err_class(w, z_in, y_in)\n",
    "    ec_out = err_class(w, z_out, y_out)\n",
    "    return ec_in, ec_out\n",
    "\n",
    "err_inout(w_pinv)"
   ]
  },
  {
   "cell_type": "code",
   "execution_count": 7,
   "metadata": {},
   "outputs": [
    {
     "data": {
      "text/plain": [
       "(0.066, array([ -8.755e-16,  -1.936e-16,  -4.316e-16,  -5.457e-16,  -4.383e-16,\n",
       "         -1.071e-16,  -6.657e-16,  -8.953e-16]))"
      ]
     },
     "execution_count": 7,
     "metadata": {},
     "output_type": "execute_result"
    }
   ],
   "source": [
    "@numba.njit\n",
    "def err_sq_nograd(w):\n",
    "    return err_sq_grad(w)[0]\n",
    "\n",
    "@numba.njit\n",
    "def err_sq_grad(w):\n",
    "    n = len(y_in)\n",
    "    err = la.norm(z_in @ w - y_in) / n\n",
    "    grad = (z_in @ w - y_in) @ z_in / n\n",
    "    return err, grad\n",
    "\n",
    "err_sq_grad(w_pinv)"
   ]
  },
  {
   "cell_type": "markdown",
   "metadata": {},
   "source": [
    "## No Decay\n",
    "#### Task 2"
   ]
  },
  {
   "cell_type": "code",
   "execution_count": 8,
   "metadata": {},
   "outputs": [
    {
     "name": "stdout",
     "output_type": "stream",
     "text": [
      "Optimization terminated successfully.\n",
      "         Current function value: 0.066375\n",
      "         Iterations: 57\n",
      "         Function evaluations: 71\n",
      "         Gradient evaluations: 71\n"
     ]
    },
    {
     "data": {
      "text/plain": [
       "(0.029,\n",
       " 0.084,\n",
       " array([-1.647, -0.145,  0.102, -2.033, -1.828,  2.481,  4.159,  0.317]),\n",
       " array([-1.647, -0.145,  0.102, -2.033, -1.828,  2.482,  4.159,  0.317]))"
      ]
     },
     "execution_count": 8,
     "metadata": {},
     "output_type": "execute_result"
    }
   ],
   "source": [
    "w0 = np.zeros(w_pinv.shape)\n",
    "res1 = opt.minimize(err_sq_grad, w0, args=(), jac=True,\n",
    "                    method='BFGS', options=dict(disp=True))\n",
    "*err_inout(res1.x), res1.x, w_pinv"
   ]
  },
  {
   "cell_type": "code",
   "execution_count": 9,
   "metadata": {},
   "outputs": [
    {
     "name": "stdout",
     "output_type": "stream",
     "text": [
      "Optimization terminated successfully.\n",
      "         Current function value: 0.072364\n",
      "         Iterations: 2416\n",
      "         Function evaluations: 3600\n"
     ]
    },
    {
     "data": {
      "text/plain": [
       "(0.057,\n",
       " 0.072,\n",
       " array([-1.719, -0.101,  0.05 , -2.055, -1.875, -0.106,  3.202,  1.42 ]),\n",
       " array([-1.647, -0.145,  0.102, -2.033, -1.828,  2.482,  4.159,  0.317]))"
      ]
     },
     "execution_count": 9,
     "metadata": {},
     "output_type": "execute_result"
    }
   ],
   "source": [
    "w0 = np.zeros(w_pinv.shape)\n",
    "res1 = opt.minimize(err_sq_nograd, w0, args=(), jac=False,\n",
    "                    method='Nelder-Mead',\n",
    "                    options=dict(disp=True, fatol=1e-9, xatol=1e-9,\n",
    "                                 maxiter=5000, maxfev=5000))\n",
    "*err_inout(res1.x), res1.x, w_pinv"
   ]
  },
  {
   "cell_type": "markdown",
   "metadata": {},
   "source": [
    "## Small Decay\n",
    "#### Task 3"
   ]
  },
  {
   "cell_type": "code",
   "execution_count": 10,
   "metadata": {},
   "outputs": [
    {
     "data": {
      "text/plain": [
       "166.110"
      ]
     },
     "execution_count": 10,
     "metadata": {},
     "output_type": "execute_result"
    }
   ],
   "source": [
    "@numba.njit\n",
    "def err_sq_decay_nograd(w, k):\n",
    "    return err_sq_decay_grad(w, k)[0]\n",
    "\n",
    "@numba.njit\n",
    "def err_sq_decay_grad(w, k):\n",
    "    l = 10. ** k\n",
    "    n = len(y_in)\n",
    "    err = la.norm(z_in @ w - y_in) / n\n",
    "    err_dec = la.norm(w) * l / n\n",
    "    grad = (z_in @ w - y_in) @ z_in / n\n",
    "    grad_dec = w * l / n\n",
    "    grad_dec[0] = 0\n",
    "    return err + err_dec, grad + grad_dec\n",
    "\n",
    "err_sq_decay_nograd(w_pinv, 3)"
   ]
  },
  {
   "cell_type": "code",
   "execution_count": 11,
   "metadata": {},
   "outputs": [
    {
     "name": "stdout",
     "output_type": "stream",
     "text": [
      "Warning: Desired error not necessarily achieved due to precision loss.\n",
      "         Current function value: 0.066541\n",
      "         Iterations: 57\n",
      "         Function evaluations: 143\n",
      "         Gradient evaluations: 131\n"
     ]
    },
    {
     "data": {
      "text/plain": [
       "(0.029,\n",
       " 0.080,\n",
       " array([-1.643, -0.143,  0.102, -2.025, -1.816,  2.459,  4.142,  0.318]),\n",
       " array([-1.647, -0.145,  0.102, -2.033, -1.828,  2.482,  4.159,  0.317]))"
      ]
     },
     "execution_count": 11,
     "metadata": {},
     "output_type": "execute_result"
    }
   ],
   "source": [
    "res1 = opt.minimize(err_sq_decay_grad, w0, args=(-3,), jac=True,\n",
    "                    method='BFGS', options=dict(disp=True, maxiter=10000))\n",
    "*err_inout(res1.x), res1.x, w_pinv"
   ]
  },
  {
   "cell_type": "code",
   "execution_count": 12,
   "metadata": {},
   "outputs": [
    {
     "name": "stdout",
     "output_type": "stream",
     "text": [
      "Optimization terminated successfully.\n",
      "         Current function value: 0.066989\n",
      "         Iterations: 2293\n",
      "         Function evaluations: 3410\n"
     ]
    },
    {
     "data": {
      "text/plain": [
       "(0.029,\n",
       " 0.064,\n",
       " array([-1.697, -0.142,  0.089, -2.1  , -1.963,  1.824,  3.995,  0.662]),\n",
       " array([-1.647, -0.145,  0.102, -2.033, -1.828,  2.482,  4.159,  0.317]))"
      ]
     },
     "execution_count": 12,
     "metadata": {},
     "output_type": "execute_result"
    }
   ],
   "source": [
    "res1 = opt.minimize(err_sq_decay_nograd, w0, args=(-3,), jac=False,\n",
    "                    method='Nelder-Mead',\n",
    "                    options=dict(disp=True, fatol=1e-9, xatol=1e-9,\n",
    "                                 maxiter=5000, maxfev=5000))\n",
    "*err_inout(res1.x), res1.x, w_pinv"
   ]
  },
  {
   "cell_type": "markdown",
   "metadata": {},
   "source": [
    "## Big Decay\n",
    "#### Task 4"
   ]
  },
  {
   "cell_type": "code",
   "execution_count": 13,
   "metadata": {},
   "outputs": [
    {
     "name": "stdout",
     "output_type": "stream",
     "text": [
      "Warning: Desired error not necessarily achieved due to precision loss.\n",
      "         Current function value: 0.169031\n",
      "         Iterations: 0\n",
      "         Function evaluations: 18\n",
      "         Gradient evaluations: 8\n",
      "         Hessian evaluations: 0\n"
     ]
    },
    {
     "data": {
      "text/plain": [
       "(1.000,\n",
       " 1.000,\n",
       " array([ 0.,  0.,  0.,  0.,  0.,  0.,  0.,  0.]),\n",
       " array([-1.647, -0.145,  0.102, -2.033, -1.828,  2.482,  4.159,  0.317]))"
      ]
     },
     "execution_count": 13,
     "metadata": {},
     "output_type": "execute_result"
    }
   ],
   "source": [
    "res2 = opt.minimize(err_sq_decay_grad, w0, args=(3,), jac=True,\n",
    "                    method='Newton-CG',\n",
    "                    options=dict(disp=True, maxiter=10000, xtol=1e-8))\n",
    "*err_inout(res2.x), res2.x, w_pinv"
   ]
  },
  {
   "cell_type": "code",
   "execution_count": 14,
   "metadata": {},
   "outputs": [
    {
     "name": "stdout",
     "output_type": "stream",
     "text": [
      "Optimization terminated successfully.\n",
      "         Current function value: 0.169031\n",
      "         Iterations: 343\n",
      "         Function evaluations: 512\n"
     ]
    },
    {
     "data": {
      "text/plain": [
       "(1.000,\n",
       " 1.000,\n",
       " array([ 0.,  0.,  0.,  0.,  0.,  0.,  0.,  0.]),\n",
       " array([-1.647, -0.145,  0.102, -2.033, -1.828,  2.482,  4.159,  0.317]))"
      ]
     },
     "execution_count": 14,
     "metadata": {},
     "output_type": "execute_result"
    }
   ],
   "source": [
    "res3 = opt.minimize(err_sq_decay_nograd, w0, args=(3,), jac=False,\n",
    "                    method='Nelder-Mead',\n",
    "                    options=dict(disp=True, fatol=1e-8, xatol=1e-8,\n",
    "                                 maxiter=5000, maxfev=5000))\n",
    "w_dec3 = res3.x\n",
    "*err_inout(res3.x), res3.x, w_pinv"
   ]
  },
  {
   "cell_type": "code",
   "execution_count": 15,
   "metadata": {},
   "outputs": [],
   "source": [
    "@numba.njit\n",
    "def __my_opt(k, eta, tol, max_iter, w, result):\n",
    "    err = eprev = np.Inf\n",
    "    ok = False\n",
    "    niter = 0\n",
    "    while niter < max_iter:\n",
    "        niter += 1\n",
    "        err, grad = err_sq_decay_grad(w, k)\n",
    "        if np.abs(err - eprev) < tol:\n",
    "            ok = True\n",
    "            break\n",
    "        w = w - eta * grad\n",
    "        eprev = err\n",
    "    result[0] = ok\n",
    "    result[1] = niter\n",
    "    return w\n",
    "\n",
    "def my_opt(k, eta = 0.01, tol = 1e-9, max_iter = 120000):\n",
    "    result = np.array([0, 0])\n",
    "    w = __my_opt(k, eta, tol, max_iter, w0.copy(), result)\n",
    "    ok, niter = bool(result[0]), int(result[1])\n",
    "    erin, erout = err_inout(w)\n",
    "    return dict(k=k, eta=eta, tol=tol, max_iter=max_iter,\n",
    "                w=w, ok=ok, niter=niter, erin=erin, erout=erout)"
   ]
  },
  {
   "cell_type": "code",
   "execution_count": 16,
   "metadata": {},
   "outputs": [
    {
     "data": {
      "text/plain": [
       "{'erin': 0.429,\n",
       " 'erout': 0.472,\n",
       " 'eta': 0.010,\n",
       " 'k': 3,\n",
       " 'max_iter': 120000,\n",
       " 'niter': 1807,\n",
       " 'ok': True,\n",
       " 'tol': 0.000,\n",
       " 'w': array([ 0.134, -0.002,  0.002,  0.002,  0.003, -0.008,  0.015, -0.007])}"
      ]
     },
     "execution_count": 16,
     "metadata": {},
     "output_type": "execute_result"
    }
   ],
   "source": [
    "my_opt(k=3)"
   ]
  },
  {
   "cell_type": "markdown",
   "metadata": {},
   "source": [
    "### Task 5,6"
   ]
  },
  {
   "cell_type": "code",
   "execution_count": 22,
   "metadata": {},
   "outputs": [
    {
     "name": "stdout",
     "output_type": "stream",
     "text": [
      "k: 3  erout:0.472  ok:1 ni:  1807  w:[ 0.134 -0.002  0.002  0.002  0.003 -0.008  0.015 -0.007]\n",
      "k: 2  erout:0.376  ok:1 ni:  1782  w:[ 0.062 -0.012  0.019  0.015  0.03  -0.071  0.129 -0.062]\n",
      "k: 1  erout:0.112  ok:1 ni:  6185  w:[-0.291  0.019  0.083  0.016  0.156 -0.28   0.62  -0.204]\n",
      "k: 0  erout:0.132  ok:1 ni:   777  w:[-0.349  0.077  0.138 -0.05   0.21  -0.387  0.851 -0.37 ]\n",
      "k:-1  erout:0.056  ok:1 ni: 78168  w:[-1.405 -0.039  0.095 -1.48  -1.108  1.065  3.038  0.404]\n",
      "k:-2  erout:0.080  ok:1 ni:104762  w:[-1.619 -0.128  0.1   -1.955 -1.731  2.167  3.96   0.381]\n"
     ]
    }
   ],
   "source": [
    "for k in (3,2,1,0,-1,-2):\n",
    "    res = my_opt(k)\n",
    "    print('k:{k:2.0f}  erout:{erout:.3f}  ok:{ok:d} ni:{niter:6d}  w:{w}'.format(**res))"
   ]
  },
  {
   "cell_type": "code",
   "execution_count": 18,
   "metadata": {},
   "outputs": [
    {
     "name": "stdout",
     "output_type": "stream",
     "text": [
      "1.26 s ± 322 ms per loop (mean ± std. dev. of 7 runs, 1 loop each)\n"
     ]
    }
   ],
   "source": [
    "%timeit my_opt(-2)"
   ]
  },
  {
   "cell_type": "code",
   "execution_count": 19,
   "metadata": {},
   "outputs": [
    {
     "name": "stdout",
     "output_type": "stream",
     "text": [
      "k: 3  erout:1.000  status:2 ni:0\n",
      "k: 2  erout:1.000  status:2 ni:0\n",
      "k: 1  erout:1.000  status:2 ni:0\n",
      "k: 0  erout:0.136  status:2 ni:9\n",
      "k:-1  erout:0.056  status:2 ni:47\n",
      "k:-2  erout:0.080  status:2 ni:57\n"
     ]
    }
   ],
   "source": [
    "for k in (3,2,1,0,-1,-2):\n",
    "    res = opt.minimize(err_sq_decay_grad, w0, args=(k,), jac=True,\n",
    "                       method='BFGS', options=dict(disp=False))\n",
    "    print('k:%2d  erout:%.3f  status:%s ni:%s' % (k, err_inout(res.x)[1], res.status, res.nit))"
   ]
  },
  {
   "cell_type": "markdown",
   "metadata": {},
   "source": [
    "## Poblem #10"
   ]
  },
  {
   "cell_type": "code",
   "execution_count": 20,
   "metadata": {},
   "outputs": [
    {
     "data": {
      "text/plain": [
       "510"
      ]
     },
     "execution_count": 20,
     "metadata": {},
     "output_type": "execute_result"
    }
   ],
   "source": [
    "def nn_weights(layer1_size, input_nodes=10, output_nodes=1, hidden_nodes=36):\n",
    "    zero_nodes = 2\n",
    "    layer2_size = hidden_nodes - layer1_size - zero_nodes\n",
    "    return input_nodes*layer1_size+(layer1_size+1)*layer2_size+(layer2_size+1)*output_nodes\n",
    "max(nn_weights(x) for x in range(99))"
   ]
  },
  {
   "cell_type": "code",
   "execution_count": 21,
   "metadata": {},
   "outputs": [
    {
     "data": {
      "text/plain": [
       "510.000"
      ]
     },
     "execution_count": 21,
     "metadata": {},
     "output_type": "execute_result"
    }
   ],
   "source": [
    "res = opt.minimize(lambda x: -nn_weights(x), 1)\n",
    "nn_weights(res.x[0])"
   ]
  }
 ],
 "metadata": {
  "kernelspec": {
   "display_name": "Python 3",
   "language": "python",
   "name": "python3"
  },
  "language_info": {
   "codemirror_mode": {
    "name": "ipython",
    "version": 3
   },
   "file_extension": ".py",
   "mimetype": "text/x-python",
   "name": "python",
   "nbconvert_exporter": "python",
   "pygments_lexer": "ipython3",
   "version": "3.6.3"
  }
 },
 "nbformat": 4,
 "nbformat_minor": 2
}
