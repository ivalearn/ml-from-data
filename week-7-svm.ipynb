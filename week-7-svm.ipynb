{
 "cells": [
  {
   "cell_type": "markdown",
   "metadata": {},
   "source": [
    "### Settings and Imports"
   ]
  },
  {
   "cell_type": "code",
   "execution_count": 1,
   "metadata": {},
   "outputs": [],
   "source": [
    "%matplotlib inline\n",
    "import matplotlib.pyplot as plt\n",
    "import numpy as np\n",
    "import numpy.linalg as lin\n",
    "import numpy.random as rnd\n",
    "import scipy as sp\n",
    "import scipy.optimize as opt\n",
    "import sympy as sym\n",
    "import numba\n",
    "import itertools"
   ]
  },
  {
   "cell_type": "markdown",
   "metadata": {},
   "source": [
    "[ipython line magics](http://ipython.readthedocs.io/en/stable/interactive/magics.html#line-magics)"
   ]
  },
  {
   "cell_type": "code",
   "execution_count": 2,
   "metadata": {},
   "outputs": [],
   "source": [
    "%precision 3\n",
    "np.set_printoptions(precision=3)"
   ]
  },
  {
   "cell_type": "markdown",
   "metadata": {},
   "source": [
    "### Prepare tests"
   ]
  },
  {
   "cell_type": "code",
   "execution_count": 3,
   "metadata": {},
   "outputs": [],
   "source": [
    "ATOL = 1e-6  # alpha tolerance\n",
    "\n",
    "def random_points(n, vmin=-1.0, vmax=+1.0):\n",
    "    return np.hstack([np.ones([n,1]), rnd.random([n,2])*(vmax-vmin)+vmin])\n",
    "\n",
    "def random_line():\n",
    "    p = random_points(2)\n",
    "    a = (p[1,2] - p[0,1]) / (p[1,1] - p[0,1])\n",
    "    b = p[0,2] - a * p[0,1]\n",
    "    return np.array([-b, -a, 1.])\n",
    "\n",
    "def line_y(w, z):\n",
    "    return np.sign(z @ w)\n",
    "\n",
    "def random_wzy(N=100):\n",
    "    while 1:\n",
    "        w = random_line()\n",
    "        z = random_points(N)\n",
    "        y = line_y(w, z)\n",
    "        if (y == 0).sum():\n",
    "            continue\n",
    "        if (y < 0).sum() > N/5 and (y > 0).sum() > N/5:\n",
    "            return w, z, y\n",
    "\n",
    "def err_frac(w):\n",
    "    return np.mean(line_y(w, z_test) != y_test)"
   ]
  },
  {
   "cell_type": "code",
   "execution_count": 4,
   "metadata": {},
   "outputs": [
    {
     "data": {
      "text/plain": [
       "(array([[-0.413,  0.262],\n",
       "        [-0.816, -0.133],\n",
       "        [-0.138, -0.013],\n",
       "        [-0.148, -0.375],\n",
       "        [-0.147,  0.787],\n",
       "        [ 0.888,  0.004],\n",
       "        [ 0.248, -0.769],\n",
       "        [-0.365, -0.17 ],\n",
       "        [ 0.733, -0.499],\n",
       "        [-0.034,  0.971]]),\n",
       " array([ 1.,  1.,  1.,  1.,  1., -1., -1.,  1., -1.,  1.]))"
      ]
     },
     "execution_count": 4,
     "metadata": {},
     "output_type": "execute_result"
    }
   ],
   "source": [
    "rnd.seed(123)\n",
    "\n",
    "w_goal, z_goal, y_goal = random_wzy(N=10)\n",
    "z_test = random_points(10**4)\n",
    "y_test = line_y(w_goal, z_test)\n",
    "x_goal, x_test = z_goal[:, 1:], z_test[:, 1:]\n",
    "x_goal, y_goal"
   ]
  },
  {
   "cell_type": "markdown",
   "metadata": {},
   "source": [
    "## PLA"
   ]
  },
  {
   "cell_type": "code",
   "execution_count": 5,
   "metadata": {},
   "outputs": [],
   "source": [
    "@numba.jit\n",
    "def pla(z, y):\n",
    "    w = np.zeros(3)\n",
    "    while True:\n",
    "        e = np.where(z @ w * y <= 0)[0]\n",
    "        if not e.size:\n",
    "            return w\n",
    "        i = rnd.choice(e)\n",
    "        w += y[i] * z[i]"
   ]
  },
  {
   "cell_type": "code",
   "execution_count": 6,
   "metadata": {},
   "outputs": [
    {
     "data": {
      "text/plain": [
       "(array([ 1.,  1.,  1.,  1.,  1., -1., -1.,  1., -1.,  1.]),\n",
       " array([ 1.,  1.,  1.,  1.,  1., -1., -1.,  1., -1.,  1.]),\n",
       " 0.032)"
      ]
     },
     "execution_count": 6,
     "metadata": {},
     "output_type": "execute_result"
    }
   ],
   "source": [
    "w_pla = pla(z_goal, y_goal)\n",
    "( y_goal,\n",
    "  line_y(w_pla, z_goal),\n",
    "  err_frac(w_pla) )"
   ]
  },
  {
   "cell_type": "markdown",
   "metadata": {},
   "source": [
    "## SKLEARN.SVC\n",
    "\n",
    "Links:\n",
    "* [sklearn.svm.SVC](http://scikit-learn.org/stable/modules/svm.html#svc)"
   ]
  },
  {
   "cell_type": "code",
   "execution_count": 7,
   "metadata": {},
   "outputs": [
    {
     "name": "stdout",
     "output_type": "stream",
     "text": [
      "[LibSVM]SVC(C=1000000.0, cache_size=200, class_weight=None, coef0=0.0,\n",
      "  decision_function_shape='ovr', degree=3, gamma='auto', kernel='linear',\n",
      "  max_iter=-1, probability=False, random_state=None, shrinking=True,\n",
      "  tol=0.001, verbose=True)\n"
     ]
    },
    {
     "data": {
      "text/plain": [
       "array([ 1.451, -2.769,  2.296])"
      ]
     },
     "execution_count": 7,
     "metadata": {},
     "output_type": "execute_result"
    }
   ],
   "source": [
    "from sklearn import svm\n",
    "\n",
    "svc = svm.SVC(C=1e6, kernel='linear', verbose=True)\n",
    "svc.fit(x_goal, y_goal)\n",
    "w_svc = np.c_[svc.intercept_, svc.coef_].squeeze()\n",
    "print(svc)\n",
    "w_svc"
   ]
  },
  {
   "cell_type": "code",
   "execution_count": 8,
   "metadata": {},
   "outputs": [
    {
     "name": "stdout",
     "output_type": "stream",
     "text": [
      "[2 1]\n",
      "[5 6 3]\n",
      "[[ 0.888  0.004]\n",
      " [ 0.248 -0.769]\n",
      " [-0.148 -0.375]]\n"
     ]
    }
   ],
   "source": [
    "print(svc.n_support_, svc.support_, svc.support_vectors_, sep='\\n')"
   ]
  },
  {
   "cell_type": "code",
   "execution_count": 9,
   "metadata": {},
   "outputs": [
    {
     "data": {
      "text/plain": [
       "[<matplotlib.lines.Line2D at 0x69c40f4a8>]"
      ]
     },
     "execution_count": 9,
     "metadata": {},
     "output_type": "execute_result"
    },
    {
     "data": {
      "image/png": "[encoded data removed]",
      "text/plain": [
       "<matplotlib.figure.Figure at 0x69c40f438>"
      ]
     },
     "metadata": {},
     "output_type": "display_data"
    }
   ],
   "source": [
    "_x1, _x2 = np.meshgrid(np.arange(-1.01,1.01,.01), np.arange(-1.01,1.01,.01))\n",
    "_y1 = svc.predict(np.c_[_x1.ravel(), _x2.ravel()]).reshape(_x1.shape)\n",
    "plt.contourf(_x1, _x2, _y1, cmap=plt.cm.coolwarm, alpha=.1)\n",
    "_y2 = svc.decision_function(np.vstack([_x1.ravel(), _x2.ravel()]).T).reshape(_x1.shape)\n",
    "plt.contour(_x1, _x2, _y2, levels=[-1, 0, 1], alpha=.5, colors='k', linestyles=['--', '-', '-.'])\n",
    "plt.contour(_x1, _x2, _y2, levels=[-3, 3], alpha=.3, colors='k', linestyles=[':', ':'])\n",
    "plt.scatter(x_goal[:,0], x_goal[:,1], s=70, c=np.where(y_goal<0, ['b'], ['r']))\n",
    "_sv = svc.support_vectors_\n",
    "plt.plot(_sv[:,0], _sv[:,1], 'wP')"
   ]
  },
  {
   "cell_type": "code",
   "execution_count": 10,
   "metadata": {},
   "outputs": [
    {
     "data": {
      "text/plain": [
       "(array([ 1.,  1.,  1.,  1.,  1., -1., -1.,  1., -1.,  1.]),\n",
       " array([ 1.,  1.,  1.,  1.,  1., -1., -1.,  1., -1.,  1.]),\n",
       " array([ 3.,  3.,  2.,  1.,  4., -1., -1.,  2., -2.,  4.]),\n",
       " array([ 3.,  3.,  2.,  1.,  4., -1., -1.,  2., -2.,  4.]),\n",
       " 0.072,\n",
       " 0.072)"
      ]
     },
     "execution_count": 10,
     "metadata": {},
     "output_type": "execute_result"
    }
   ],
   "source": [
    "( y_goal,\n",
    "  svc.predict(x_goal),\n",
    "  svc.decision_function(x_goal).round(),\n",
    "  (z_goal @ w_svc).round(),\n",
    "  np.mean(svc.predict(x_test) != y_test),\n",
    "  err_frac(w_svc) )"
   ]
  },
  {
   "cell_type": "markdown",
   "metadata": {},
   "source": [
    "## Quadratic problem\n",
    "\n",
    "Primal SVM objective:\n",
    "$$\n",
    "  \\min_w \\frac12 \\lVert w \\rVert^2 \\\\\n",
    "  \\mbox{s.t.} \\quad  y_i(w^Tx_i+b) \\ge 1  \\quad \\forall i\n",
    "$$\n",
    "```\n",
    "    m = x.shape[1]\n",
    "    w_, b_ = Variable(m), Variable(1)\n",
    "    objective = Minimize(0.5 * sum_squares(w_))\n",
    "    constraints = [mul_elemwise(y, x @ w_ + b_) >= 1]\n",
    "```\n",
    "\n",
    "The corresponding dual problem:\n",
    "$$\n",
    "  \\min_{\\alpha} \\frac12 \\alpha^T K \\alpha - 1^T \\alpha \\\\\n",
    "  \\mbox{s.t.} \\quad  \\alpha_i \\ge 0  \\quad \\forall i \\\\\n",
    "  \\mbox{and} \\quad  y^T \\alpha = 0\n",
    "$$\n",
    "```\n",
    "    n = x.shape[0]\n",
    "    yx = y[:,None] * x\n",
    "    K = yx @ yx.T     # a.T*K*a == quad_form(a,K)\n",
    "    a = Variable(n)   # alphas\n",
    "    objective = Minimize(0.5 * quad_form(a, K) - sum_entries(a))\n",
    "    constraints = [a >= 0, y.T @ a == 0]\n",
    "```"
   ]
  },
  {
   "cell_type": "markdown",
   "metadata": {},
   "source": [
    "## CVXPY\n",
    "\n",
    "[CVXPY User Guide](http://www.cvxpy.org/en/latest/)\n",
    "\n",
    "Advantages to `scipy.optimize`:\n",
    "\n",
    "* `cvxpy` prooves, that the problem is convex\n",
    "* convergence for convex optimization problems is guaranteed\n",
    "  (might be also true for the above)\n",
    "* in general: better accuracy\n",
    "* in general: more robust in regards to numerical instabilities\n",
    "  (solver is only able to solve SOCPs;\n",
    "   not non-convex models like the SLSQP-approach above!)\n",
    "\n",
    "Links:\n",
    "* [stackoverflow: CVXPY error while solving SVM dual](https://stackoverflow.com/questions/33728518/cvxpy-error-cannot-multiply-two-non-constants-while-solving-svm-dual)\n",
    "* [toy SVM problem implemented with CVXPY](https://www.cs.stanford.edu/~tachim/optimization_code.html)\n",
    "* [build your own toy SVM with CVXPY](http://ecomunsing.com/build-your-own-support-vector-machine)\n",
    "* [comparing CVXPY to python sci-kit learn yields different results](https://groups.google.com/forum/#!topic/cvxpy/m9Oe0Cj0Cgk)\n",
    "* [CVXPY FAQ: What do I do if I get a DCPError exception?](http://www.cvxpy.org/en/latest/faq/#what-do-i-do-if-i-get-a-dcperror-exception)\n",
    "* [SVM classifier with ℓ1-regularization](https://nbviewer.jupyter.org/github/cvxgrp/cvx_short_course/blob/master/intro/SVM.ipynb)\n",
    "* [CVXPY dual variables](http://www.cvxpy.org/en/latest/tutorial/advanced/#dual-variables)"
   ]
  },
  {
   "cell_type": "code",
   "execution_count": 11,
   "metadata": {},
   "outputs": [
    {
     "name": "stdout",
     "output_type": "stream",
     "text": [
      "\n",
      "ECOS 2.0.4 - (C) embotech GmbH, Zurich Switzerland, 2012-15. Web: www.embotech.com/ECOS\n",
      "\n",
      "It     pcost       dcost      gap   pres   dres    k/t    mu     step   sigma     IR    |   BT\n",
      " 0  +0.000e+00  -6.173e-01  +2e+01  7e-01  6e-01  1e+00  2e+00    ---    ---    1  1  - |  -  - \n",
      " 1  -4.096e+00  -2.699e+00  +5e+00  4e-01  5e-01  2e+00  4e-01  0.7868  4e-02   2  2  2 |  0  0\n",
      " 2  -4.371e+00  -3.647e+00  +2e+00  1e-01  1e-01  1e+00  2e-01  0.7460  2e-01   2  2  2 |  0  0\n",
      " 3  -6.513e+00  -6.339e+00  +2e-01  1e-02  2e-02  2e-01  2e-02  0.9890  1e-01   2  1  1 |  0  0\n",
      " 4  -6.476e+00  -6.466e+00  +1e-02  6e-04  8e-04  1e-02  1e-03  0.9489  6e-04   2  1  1 |  0  0\n",
      " 5  -6.468e+00  -6.468e+00  +5e-04  3e-05  4e-05  4e-04  4e-05  0.9890  3e-02   1  1  1 |  0  0\n",
      " 6  -6.468e+00  -6.468e+00  +1e-05  6e-07  8e-07  8e-06  9e-07  0.9775  1e-04   1  1  1 |  0  0\n",
      " 7  -6.468e+00  -6.468e+00  +9e-07  5e-08  7e-08  7e-07  8e-08  0.9209  7e-03   2  1  1 |  0  0\n",
      " 8  -6.468e+00  -6.468e+00  +1e-08  8e-10  1e-09  1e-08  1e-09  0.9890  4e-03   2  1  1 |  0  0\n",
      "\n",
      "OPTIMAL (within feastol=1.0e-09, reltol=2.0e-09, abstol=1.3e-08).\n",
      "Runtime: 0.002190 seconds.\n",
      "\n"
     ]
    },
    {
     "data": {
      "text/plain": [
       "{'alphas': array([ 6.468,  0.321,  6.147]),\n",
       " 'atol': 0.000,\n",
       " 'n_sv': 3,\n",
       " 'ok': True,\n",
       " 'status': 'optimal',\n",
       " 'sv': array([[-0.148, -0.375],\n",
       "        [ 0.888,  0.004],\n",
       "        [ 0.248, -0.769]]),\n",
       " 'sv_i': [3, 5, 6],\n",
       " 'sv_y': array([ 1., -1., -1.]),\n",
       " 'weights': array([ 1.451, -2.769,  2.296])}"
      ]
     },
     "execution_count": 11,
     "metadata": {},
     "output_type": "execute_result"
    }
   ],
   "source": [
    "import cvxpy\n",
    "\n",
    "def svm_cvxpy_dual(x, y, atol=ATOL, verbose=False):\n",
    "    from cvxpy import Variable, Problem, Minimize\n",
    "    from cvxpy import sum_entries, quad_form\n",
    "\n",
    "    n = len(x)\n",
    "    yx = y[:,None] * x\n",
    "    K = yx @ yx.T     # a.T*K*a == quad_form(a,K)\n",
    "    a = Variable(n)   # alphas\n",
    "    objective = Minimize(0.5 * quad_form(a, K) - sum_entries(a))\n",
    "    constraints = [a >= 0, y.T @ a == 0]\n",
    "    qp = Problem(objective, constraints)\n",
    "    qp.solve(verbose=verbose)\n",
    "\n",
    "    aval = np.array(a.value).squeeze(1)\n",
    "    cond = np.abs(aval) > atol\n",
    "    w_ = np.sum(x * (aval * y)[:,None], axis=0)\n",
    "    b_ = (y - x @ w_)[cond]\n",
    "    w = np.hstack((b_[0], w_))\n",
    "    idx = list(cond.nonzero()[0])\n",
    "    sv = x[idx]\n",
    "    sv_y = sv @ w_ + b_\n",
    "\n",
    "    return dict(status=qp.status, ok=(qp.status == 'optimal'),\n",
    "                weights=w, alphas=aval[cond], atol=atol,\n",
    "                n_sv=len(idx), sv_i=idx, sv=sv, sv_y=sv_y)\n",
    "\n",
    "res_cxpd = svm_cvxpy_dual(x_goal, y_goal, verbose=True)\n",
    "w_cxpd = res_cxpd['weights']\n",
    "res_cxpd"
   ]
  },
  {
   "cell_type": "code",
   "execution_count": 12,
   "metadata": {},
   "outputs": [
    {
     "data": {
      "text/plain": [
       "(array([ 1.451, -2.769,  2.296]),\n",
       " array([2, 1]),\n",
       " array([5, 6, 3]),\n",
       " array([[ 0.888,  0.004],\n",
       "        [ 0.248, -0.769],\n",
       "        [-0.148, -0.375]]))"
      ]
     },
     "execution_count": 12,
     "metadata": {},
     "output_type": "execute_result"
    }
   ],
   "source": [
    "w_svc, svc.n_support_, svc.support_, svc.support_vectors_"
   ]
  },
  {
   "cell_type": "code",
   "execution_count": 13,
   "metadata": {},
   "outputs": [
    {
     "data": {
      "text/plain": [
       "(array([ 1.,  1.,  1.,  1.,  1., -1., -1.,  1., -1.,  1.]),\n",
       " array([ 1.,  1.,  1.,  1.,  1., -1., -1.,  1., -1.,  1.]),\n",
       " array([ 3.2,  3.4,  1.8,  1. ,  3.7, -1. , -1. ,  2.1, -1.7,  3.8]),\n",
       " 0.072)"
      ]
     },
     "execution_count": 13,
     "metadata": {},
     "output_type": "execute_result"
    }
   ],
   "source": [
    "( y_goal,\n",
    "  line_y(w_cxpd, z_goal),\n",
    "  np.round(z_goal @ w_cxpd * 1, 1),\n",
    "  err_frac(w_cxpd) )"
   ]
  },
  {
   "cell_type": "code",
   "execution_count": 14,
   "metadata": {},
   "outputs": [
    {
     "name": "stdout",
     "output_type": "stream",
     "text": [
      "\n",
      "ECOS 2.0.4 - (C) embotech GmbH, Zurich Switzerland, 2012-15. Web: www.embotech.com/ECOS\n",
      "\n",
      "It     pcost       dcost      gap   pres   dres    k/t    mu     step   sigma     IR    |   BT\n",
      " 0  +1.830e-18  +9.790e+00  +2e+01  6e-01  1e+00  1e+00  2e+00    ---    ---    1  1  - |  -  - \n",
      " 1  +1.234e+00  +5.736e+00  +7e+00  2e-01  7e-01  6e-01  6e-01  0.6880  5e-02   1  1  1 |  0  0\n",
      " 2  +1.997e+00  +1.098e+01  +5e+00  6e-01  7e-01  2e+00  4e-01  0.4849  5e-01   2  2  2 |  0  0\n",
      " 3  +3.125e+00  +5.258e+00  +1e+00  1e-01  1e-01  6e-01  1e-01  0.7388  6e-02   2  1  1 |  0  0\n",
      " 4  +5.907e+00  +6.296e+00  +2e-01  2e-02  2e-02  1e-01  2e-02  0.9641  1e-01   2  1  1 |  0  0\n",
      " 5  +6.333e+00  +6.441e+00  +4e-02  5e-03  5e-03  5e-02  4e-03  0.9029  1e-01   2  2  2 |  0  0\n",
      " 6  +6.461e+00  +6.466e+00  +2e-03  3e-04  2e-04  2e-03  2e-04  0.9565  4e-03   3  1  1 |  0  0\n",
      " 7  +6.468e+00  +6.468e+00  +2e-04  2e-05  2e-05  2e-04  2e-05  0.9392  3e-02   3  1  1 |  0  0\n",
      " 8  +6.468e+00  +6.468e+00  +3e-06  4e-07  4e-07  3e-06  3e-07  0.9890  6e-03   2  1  1 |  0  0\n",
      " 9  +6.468e+00  +6.468e+00  +1e-07  2e-08  1e-08  1e-07  1e-08  0.9613  1e-04   1  1  1 |  0  0\n",
      "10  +6.468e+00  +6.468e+00  +4e-09  6e-10  5e-10  4e-09  4e-10  0.9685  7e-03   2  1  1 |  0  0\n",
      "\n",
      "OPTIMAL (within feastol=5.7e-10, reltol=6.5e-10, abstol=4.2e-09).\n",
      "Runtime: 0.003737 seconds.\n",
      "\n"
     ]
    },
    {
     "data": {
      "text/plain": [
       "{'ok': True, 'status': 'optimal', 'weights': array([ 1.451, -2.769,  2.296])}"
      ]
     },
     "execution_count": 14,
     "metadata": {},
     "output_type": "execute_result"
    }
   ],
   "source": [
    "import cvxpy\n",
    "\n",
    "def svm_cvxpy_primal(x, y, verbose=False):\n",
    "    from cvxpy import Variable, Problem, Minimize\n",
    "    from cvxpy import sum_squares, mul_elemwise\n",
    "\n",
    "    w_, b_ = Variable(x.shape[1]), Variable(1)\n",
    "    objective = Minimize(0.5 * sum_squares(w_))\n",
    "    constraints = [mul_elemwise(y, x @ w_ + b_) >= 1]\n",
    "    qp = Problem(objective, constraints)\n",
    "    qp.solve(verbose=verbose)\n",
    "    w = np.r_[b_.value, np.array(w_.value).squeeze(1)]\n",
    "    return dict(status=qp.status, ok=(qp.status == 'optimal'), weights=w)\n",
    "\n",
    "res_cxpp = svm_cvxpy_primal(x_goal, y_goal, verbose=True)\n",
    "w_cxpp = res_cxpp['weights']\n",
    "res_cxpp"
   ]
  },
  {
   "cell_type": "code",
   "execution_count": 15,
   "metadata": {},
   "outputs": [
    {
     "data": {
      "text/plain": [
       "(array([ 1.451, -2.769,  2.296]),\n",
       " array([ 1.,  1.,  1.,  1.,  1., -1., -1.,  1., -1.,  1.]),\n",
       " array([ 1.,  1.,  1.,  1.,  1., -1., -1.,  1., -1.,  1.]),\n",
       " array([ 3.2,  3.4,  1.8,  1. ,  3.7, -1. , -1. ,  2.1, -1.7,  3.8]),\n",
       " 0.072)"
      ]
     },
     "execution_count": 15,
     "metadata": {},
     "output_type": "execute_result"
    }
   ],
   "source": [
    "( w_svc,\n",
    "  y_goal,\n",
    "  line_y(w_cxpp, z_goal),\n",
    "  np.round(z_goal @ w_cxpp * 1, 1),\n",
    "  err_frac(w_cxpp) )"
   ]
  },
  {
   "cell_type": "markdown",
   "metadata": {},
   "source": [
    "## CVXOPT\n",
    "\n",
    "#### Gotcha: requires python3.5 on Anaconda Windows"
   ]
  },
  {
   "cell_type": "code",
   "execution_count": 16,
   "metadata": {},
   "outputs": [],
   "source": [
    "# Fix secondary anaconda environment path under jupyter kernel\n",
    "# Workaround for \"DLL Load Failed\" in \"import cvxopt.base\"\n",
    "_CVXOPT_NEED_FIX = False\n",
    "import os, sys, re\n",
    "\n",
    "_curr_env = sys.prefix\n",
    "if (_CVXOPT_NEED_FIX\n",
    "        and re.search(r'\\\\Anaconda(\\d*)\\\\envs\\\\', _curr_env)  # Anaconda 2ndary env?\n",
    "        and os.environ.get('JPY_PARENT_PID')):                # Under Jupyter?\n",
    "    _root_env = os.path.dirname(os.path.dirname(_curr_env))\n",
    "    _path = re.sub(r';%s((?!\\\\envs)[^;]+)' % re.escape(_root_env),\n",
    "                   r';%s\\1' % _curr_env.replace('\\\\','\\\\\\\\'),\n",
    "                   os.environ['PATH'])\n",
    "    os.environ['PATH'] = _path\n",
    "\n",
    "# OK to import now\n",
    "import cvxopt"
   ]
  },
  {
   "cell_type": "markdown",
   "metadata": {},
   "source": [
    "QP solver from `CVXOPT`\n",
    "(see [manual](http://cvxopt.org/userguide/coneprog.html#quadratic-programming))\n",
    "solves a quadratic program\n",
    "$$\n",
    "  \\min_x \\frac12 x^T P x + q^T x \\\\\n",
    "  \\mbox{s.t} \\quad  Gx \\preceq h \\\\\n",
    "  \\mbox{and} \\quad  Ax=b\n",
    "$$\n",
    "\n",
    "```python\n",
    "cvxopt.solvers.qp(P, q, G, h, A, b[, solver, initvals])\n",
    "```\n",
    "\n",
    "Links:\n",
    "* [CVXOPT User guide](http://cvxopt.org/userguide/index.html)\n",
    "* How CVXPY prepares CVXOPT parameters:\n",
    "[cvxopt_intf.py](https://github.com/cvxgrp/cvxpy/blob/master/cvxpy/problems/solvers/cvxopt_intf.py)"
   ]
  },
  {
   "cell_type": "code",
   "execution_count": 17,
   "metadata": {},
   "outputs": [
    {
     "name": "stdout",
     "output_type": "stream",
     "text": [
      "     pcost       dcost       gap    pres   dres\n",
      " 0: -2.3457e+00 -5.8475e+00  2e+01  4e+00  2e+00\n",
      " 1: -3.7987e+00 -5.7068e+00  4e+00  7e-01  3e-01\n",
      " 2: -6.1426e+00 -7.7079e+00  3e+00  2e-01  1e-01\n",
      " 3: -6.4590e+00 -6.5268e+00  1e-01  9e-03  4e-03\n",
      " 4: -6.4681e+00 -6.4699e+00  2e-03  1e-04  5e-05\n",
      " 5: -6.4683e+00 -6.4684e+00  2e-05  1e-06  5e-07\n",
      " 6: -6.4683e+00 -6.4683e+00  2e-07  1e-08  5e-09\n",
      "Optimal solution found.\n"
     ]
    },
    {
     "data": {
      "text/plain": [
       "{'alphas': array([ 6.468,  0.321,  6.147]),\n",
       " 'atol': 0.000,\n",
       " 'n_sv': 3,\n",
       " 'ok': True,\n",
       " 'status': 'optimal',\n",
       " 'sv': array([[-0.148, -0.375],\n",
       "        [ 0.888,  0.004],\n",
       "        [ 0.248, -0.769]]),\n",
       " 'sv_i': [3, 5, 6],\n",
       " 'sv_y': array([ 1., -1., -1.]),\n",
       " 'weights': array([ 1.451, -2.769,  2.296])}"
      ]
     },
     "execution_count": 17,
     "metadata": {},
     "output_type": "execute_result"
    }
   ],
   "source": [
    "import cvxopt\n",
    "\n",
    "def svm_cvxopt_dual(x, y, atol=ATOL, verbose=False):\n",
    "    from cvxopt import matrix, solvers\n",
    "\n",
    "    n = x.shape[0]\n",
    "    y_ = y[:, None]\n",
    "    yx = y_ * x\n",
    "    K = yx @ yx.T\n",
    "\n",
    "    P = matrix(K)\n",
    "    q = matrix(-np.ones([n,1]))\n",
    "    G = matrix(-np.eye(n))\n",
    "    h = matrix(np.zeros(n))\n",
    "    A = matrix(y_.T)\n",
    "    b = matrix(np.zeros(1))\n",
    "\n",
    "    solvers.options['show_progress'] = verbose\n",
    "    qp = solvers.qp(P, q, G, h, A, b)\n",
    "\n",
    "    assert qp['x'].size == (n, 1)\n",
    "    aval = np.array(qp['x']).squeeze(1)       # alphas\n",
    "    cond = np.abs(aval) > atol\n",
    "    w_ = np.sum(x * (aval * y)[:,None], axis=0)\n",
    "    b_ = (y - x @ w_)[cond]\n",
    "    w = np.hstack([b_[0], w_])\n",
    "    idx = list(cond.nonzero()[0])\n",
    "    sv = x[idx]\n",
    "    sv_y = sv @ w_ + b_\n",
    "\n",
    "    return dict(status=qp['status'], ok=(qp['status'] == 'optimal'),\n",
    "                weights=w, alphas=aval[cond], atol=atol,\n",
    "                n_sv=len(idx), sv_i=idx, sv=sv, sv_y=sv_y)\n",
    "\n",
    "res_cxod = svm_cvxopt_dual(x_goal, y_goal, verbose=True)\n",
    "w_cxod = res_cxod['weights']\n",
    "res_cxod"
   ]
  },
  {
   "cell_type": "code",
   "execution_count": 18,
   "metadata": {},
   "outputs": [
    {
     "data": {
      "text/plain": [
       "{'alphas': array([ 6.468,  0.321,  6.147]),\n",
       " 'atol': 0.000,\n",
       " 'n_sv': 3,\n",
       " 'ok': True,\n",
       " 'status': 'optimal',\n",
       " 'sv': array([[-0.148, -0.375],\n",
       "        [ 0.888,  0.004],\n",
       "        [ 0.248, -0.769]]),\n",
       " 'sv_i': [3, 5, 6],\n",
       " 'sv_y': array([ 1., -1., -1.]),\n",
       " 'weights': array([ 1.451, -2.769,  2.296])}"
      ]
     },
     "execution_count": 18,
     "metadata": {},
     "output_type": "execute_result"
    }
   ],
   "source": [
    "res_cxpd"
   ]
  },
  {
   "cell_type": "code",
   "execution_count": 19,
   "metadata": {},
   "outputs": [
    {
     "data": {
      "text/plain": [
       "(array([ 1.451, -2.769,  2.296]),\n",
       " array([ 1.,  1.,  1.,  1.,  1., -1., -1.,  1., -1.,  1.]),\n",
       " array([ 1.,  1.,  1.,  1.,  1., -1., -1.,  1., -1.,  1.]),\n",
       " array([ 3.2,  3.4,  1.8,  1. ,  3.7, -1. , -1. ,  2.1, -1.7,  3.8]),\n",
       " 0.072)"
      ]
     },
     "execution_count": 19,
     "metadata": {},
     "output_type": "execute_result"
    }
   ],
   "source": [
    "( w_svc,\n",
    "  y_goal,\n",
    "  line_y(w_cxod, z_goal),\n",
    "  np.round(z_goal @ w_cxod * 1, 1),\n",
    "  err_frac(w_cxod) )"
   ]
  },
  {
   "cell_type": "code",
   "execution_count": 20,
   "metadata": {},
   "outputs": [
    {
     "name": "stdout",
     "output_type": "stream",
     "text": [
      "     pcost       dcost       gap    pres   dres\n",
      " 0:  7.5397e-02  3.3019e+00  2e+01  2e+00  8e+00\n",
      " 1:  2.0978e-01 -1.3034e+00  3e+00  3e-01  1e+00\n",
      " 2:  1.1218e-02 -3.5398e-01  4e-01  4e-02  2e-01\n",
      " 3:  1.0976e-06 -4.8750e-03  5e-03  4e-04  2e-03\n",
      " 4:  1.0976e-10 -4.8801e-05  5e-05  4e-06  2e-05\n",
      " 5:  1.0976e-14 -4.8802e-07  5e-07  4e-08  2e-07\n",
      " 6:  1.0976e-18 -4.8802e-09  5e-09  4e-10  2e-09\n",
      "Optimal solution found.\n"
     ]
    },
    {
     "data": {
      "text/plain": [
       "{'ok': True, 'status': 'optimal', 'weights': array([ 2.133, -4.082,  4.082])}"
      ]
     },
     "execution_count": 20,
     "metadata": {},
     "output_type": "execute_result"
    }
   ],
   "source": [
    "import cvxopt\n",
    "\n",
    "def svm_cvxopt_primal(x, y, verbose=False):\n",
    "    from numpy import array, zeros, ones, diag, c_, r_\n",
    "    from cvxopt import matrix, solvers\n",
    "\n",
    "    n, m = x.shape\n",
    "    P = matrix(r_[zeros([1,m+1]), c_[zeros(m), ones([m,m])]])\n",
    "    q = matrix(zeros(m+1))\n",
    "    G = matrix(-diag(y) @ c_[ones(n), x])\n",
    "    h = matrix(-ones(n))\n",
    "\n",
    "    solvers.options['show_progress'] = verbose\n",
    "    qp = solvers.qp(P, q, G, h)\n",
    "    return dict(status=qp['status'], ok=(qp['status'] == 'optimal'),\n",
    "                weights=array(qp['x']).squeeze(1))\n",
    "\n",
    "res_cxop = svm_cvxopt_primal(x_goal, y_goal, verbose=True)\n",
    "w_cxop = res_cxop['weights']\n",
    "res_cxop"
   ]
  },
  {
   "cell_type": "code",
   "execution_count": 21,
   "metadata": {},
   "outputs": [
    {
     "data": {
      "text/plain": [
       "{'ok': True, 'status': 'optimal', 'weights': array([ 1.451, -2.769,  2.296])}"
      ]
     },
     "execution_count": 21,
     "metadata": {},
     "output_type": "execute_result"
    }
   ],
   "source": [
    "res_cxpp"
   ]
  },
  {
   "cell_type": "code",
   "execution_count": 22,
   "metadata": {},
   "outputs": [
    {
     "data": {
      "text/plain": [
       "(array([ 1.451, -2.769,  2.296]),\n",
       " array([ 1.,  1.,  1.,  1.,  1., -1., -1.,  1., -1.,  1.]),\n",
       " array([ 1.,  1.,  1.,  1.,  1., -1., -1.,  1., -1.,  1.]),\n",
       " array([ 4.9,  4.9,  2.6,  1.2,  5.9, -1.5, -2. ,  2.9, -2.9,  6.2]),\n",
       " 0.090)"
      ]
     },
     "execution_count": 22,
     "metadata": {},
     "output_type": "execute_result"
    }
   ],
   "source": [
    "( w_svc,\n",
    "  y_goal,\n",
    "  line_y(w_cxop, z_goal),\n",
    "  np.round(z_goal @ w_cxop * 1, 1),\n",
    "  err_frac(w_cxop) )"
   ]
  },
  {
   "cell_type": "markdown",
   "metadata": {},
   "source": [
    "## SCIPY.optimize\n",
    "\n",
    "See:\n",
    "* [SVM Quadratic problem slides](http://www.robots.ox.ac.uk/~az/lectures/ml/lect3.pdf)\n",
    "* [scipy.optimize.fmin_slsqp](https://docs.scipy.org/doc/scipy/reference/generated/scipy.optimize.fmin_slsqp.html#scipy.optimize.fmin_slsqp)\n",
    "* [scipy sqlsp tutorial](https://docs.scipy.org/doc/scipy/reference/tutorial/optimize.html#tutorial-sqlsp)\n",
    "\n",
    "[The derivative of a quadratic form](http://michael.orlitzky.com/articles/the_derivative_of_a_quadratic_form.xhtml):\n",
    "$\\left( x^T A x \\right)' = x^T \\left( A^T + A \\right)$.\n",
    "If $A^T = A$ (symmetric) then $\\left( x^T A x \\right)' = 2 x^T A$."
   ]
  },
  {
   "cell_type": "code",
   "execution_count": 23,
   "metadata": {},
   "outputs": [
    {
     "name": "stdout",
     "output_type": "stream",
     "text": [
      "Optimization terminated successfully.    (Exit mode 0)\n",
      "            Current function value: -6.468344508596433\n",
      "            Iterations: 11\n",
      "            Function evaluations: 12\n",
      "            Gradient evaluations: 11\n"
     ]
    },
    {
     "data": {
      "text/plain": [
       "{'alphas': array([ 6.468,  0.321,  6.147]),\n",
       " 'atol': 0.000,\n",
       " 'n_sv': 3,\n",
       " 'ok': True,\n",
       " 'status': 'optimization terminated successfully.',\n",
       " 'sv': array([[-0.148, -0.375],\n",
       "        [ 0.888,  0.004],\n",
       "        [ 0.248, -0.769]]),\n",
       " 'sv_i': [3, 5, 6],\n",
       " 'sv_y': array([ 1., -1., -1.]),\n",
       " 'weights': array([ 1.451, -2.769,  2.296])}"
      ]
     },
     "execution_count": 23,
     "metadata": {},
     "output_type": "execute_result"
    }
   ],
   "source": [
    "def svm_scipy_dual(x, y, atol=ATOL, verbose=False):\n",
    "    n = len(x)\n",
    "    I = np.ones(n)\n",
    "    yx = y[:,None] * x\n",
    "    K = yx @ yx.T\n",
    "    assert np.allclose(K, K.T), 'K must be symmetric'\n",
    "\n",
    "    def func(a):\n",
    "        return 0.5 * a.T @ K @ a - a.sum()\n",
    "    def grad(a):\n",
    "        return a.T @ K - 1\n",
    "\n",
    "    cons = ({'type': 'ineq',\n",
    "             'fun':  lambda a: a,\n",
    "             'grad': lambda a: I},\n",
    "            {'type': 'eq',\n",
    "             'fun':  lambda a: y @ a,\n",
    "             'grad': lambda a: y})\n",
    "\n",
    "    a0 = np.zeros(n)\n",
    "    res = opt.minimize(func, a0, jac=grad, constraints=cons,\n",
    "                       method='SLSQP', options={'disp': verbose})\n",
    "    a = res.x  # alphas\n",
    "    assert a.shape == (n,)\n",
    "    cond = np.abs(a) > atol\n",
    "    w_ = np.sum(x * (a * y)[:,None], axis=0)\n",
    "    b_ = (y - x @ w_)[cond]\n",
    "    w = np.hstack([b_[0], w_])\n",
    "    idx = list(cond.nonzero()[0])\n",
    "    sv = x[idx]\n",
    "    sv_y = sv @ w_ + b_\n",
    "\n",
    "    return dict(status=res.message.lower(), ok=res.success,\n",
    "                weights=w, alphas=a[cond], atol=atol,\n",
    "                n_sv=len(idx), sv_i=idx, sv=sv, sv_y=sv_y)\n",
    "\n",
    "res_spd = svm_scipy_dual(x_goal, y_goal, verbose=True)\n",
    "w_spd = res_spd['weights']\n",
    "#%timeit svm_scipy_dual(x_goal, y_goal)\n",
    "res_spd"
   ]
  },
  {
   "cell_type": "code",
   "execution_count": 24,
   "metadata": {},
   "outputs": [
    {
     "data": {
      "text/plain": [
       "(array([ 6.468,  0.321,  6.147]), array([ 1.451, -2.769,  2.296]))"
      ]
     },
     "execution_count": 24,
     "metadata": {},
     "output_type": "execute_result"
    }
   ],
   "source": [
    "res_cxpd['alphas'], res_cxpd['weights']"
   ]
  },
  {
   "cell_type": "code",
   "execution_count": 25,
   "metadata": {},
   "outputs": [
    {
     "name": "stdout",
     "output_type": "stream",
     "text": [
      "Optimization terminated successfully.    (Exit mode 0)\n",
      "            Current function value: 6.468344508598351\n",
      "            Iterations: 3\n",
      "            Function evaluations: 3\n",
      "            Gradient evaluations: 3\n"
     ]
    },
    {
     "data": {
      "text/plain": [
       "{'ok': True,\n",
       " 'status': 'optimization terminated successfully.',\n",
       " 'weights': array([ 1.451, -2.769,  2.296])}"
      ]
     },
     "execution_count": 25,
     "metadata": {},
     "output_type": "execute_result"
    }
   ],
   "source": [
    "def svm_scipy_primal(x, y, verbose=False):\n",
    "    n, m = x.shape\n",
    "    x_ = np.c_[np.ones([n,1]), x]\n",
    "    y_ = y[:,None]\n",
    "    yx_ = y_ * x_\n",
    "\n",
    "    def func(w):\n",
    "        w_ = w[1:]\n",
    "        return 0.5 * (w_.T @ w_)\n",
    "\n",
    "    def grad(w):\n",
    "        g_ = w.copy()\n",
    "        g_[0] = 0\n",
    "        return g_\n",
    "\n",
    "    cons = {\n",
    "        'type': 'ineq',\n",
    "        'fun':  lambda w: yx_ @ w - 1,\n",
    "        'jac':  lambda w: yx_\n",
    "    }\n",
    "\n",
    "    w0 = np.zeros(m+1)\n",
    "    res = opt.minimize(func, w0, jac=grad, constraints=cons,\n",
    "                       method='SLSQP', options={'disp': verbose})\n",
    "    return dict(status=res.message.lower(), ok=res.success, weights=res.x)\n",
    "\n",
    "res_spp = svm_scipy_primal(x_goal, y_goal, verbose=True)\n",
    "w_spp = res_spp['weights']\n",
    "#%timeit svm_scipy_primal(x_goal, y_goal)\n",
    "res_spp"
   ]
  },
  {
   "cell_type": "code",
   "execution_count": 26,
   "metadata": {},
   "outputs": [
    {
     "data": {
      "text/plain": [
       "array([ 1.451, -2.769,  2.296])"
      ]
     },
     "execution_count": 26,
     "metadata": {},
     "output_type": "execute_result"
    }
   ],
   "source": [
    "w_cxpp"
   ]
  },
  {
   "cell_type": "markdown",
   "metadata": {},
   "source": [
    "---"
   ]
  }
 ],
 "metadata": {
  "kernelspec": {
   "display_name": "Python [conda env:py35]",
   "language": "python",
   "name": "conda-env-py35-py"
  },
  "language_info": {
   "codemirror_mode": {
    "name": "ipython",
    "version": 3
   },
   "file_extension": ".py",
   "mimetype": "text/x-python",
   "name": "python",
   "nbconvert_exporter": "python",
   "pygments_lexer": "ipython3",
   "version": "3.5.4"
  }
 },
 "nbformat": 4,
 "nbformat_minor": 2
}
