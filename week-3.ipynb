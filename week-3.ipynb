{
 "cells": [
  {
   "cell_type": "code",
   "execution_count": 6,
   "metadata": {
    "collapsed": false
   },
   "outputs": [
    {
     "name": "stdout",
     "output_type": "stream",
     "text": [
      "M=  1  Nmin=840\n",
      "M= 10  Nmin=1300\n",
      "M=100  Nmin=1761\n"
     ]
    }
   ],
   "source": [
    "#P=2*M*np.exp(-2*N*e**2)\n",
    "import numpy as np\n",
    "Pmax=0.03\n",
    "e=0.05\n",
    "def calc_nmin(M):\n",
    "    Nmin=np.log(2*M / Pmax) / (2 * e**2)\n",
    "    print(\"M={:3d}  Nmin={:.0f}\".format(M, Nmin))\n",
    "calc_nmin(M=1)\n",
    "calc_nmin(M=10)\n",
    "calc_nmin(M=100)"
   ]
  }
 ],
 "metadata": {
  "kernelspec": {
   "display_name": "Python [conda root]",
   "language": "python",
   "name": "conda-root-py"
  },
  "language_info": {
   "codemirror_mode": {
    "name": "ipython",
    "version": 3
   },
   "file_extension": ".py",
   "mimetype": "text/x-python",
   "name": "python",
   "nbconvert_exporter": "python",
   "pygments_lexer": "ipython3",
   "version": "3.6.0"
  }
 },
 "nbformat": 4,
 "nbformat_minor": 2
}
